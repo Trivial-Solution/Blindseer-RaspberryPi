{
 "cells": [
  {
   "cell_type": "code",
   "execution_count": 1,
   "metadata": {
    "ExecuteTime": {
     "end_time": "2023-12-03T03:01:39.268067Z",
     "start_time": "2023-12-03T03:01:36.431435600Z"
    }
   },
   "outputs": [],
   "source": [
    "import csv\n",
    "\n",
    "import numpy as np\n",
    "import tensorflow as tf\n",
    "from sklearn.model_selection import train_test_split\n",
    "\n",
    "RANDOM_SEED = 42"
   ]
  },
  {
   "cell_type": "markdown",
   "metadata": {},
   "source": [
    "# Path specification"
   ]
  },
  {
   "cell_type": "code",
   "execution_count": 2,
   "metadata": {
    "ExecuteTime": {
     "end_time": "2023-12-03T03:01:39.288066900Z",
     "start_time": "2023-12-03T03:01:39.259070900Z"
    }
   },
   "outputs": [],
   "source": [
    "dataset = 'model/keypoint_classifier/keypoint.csv'\n",
    "model_save_path = 'model/keypoint_classifier/keypoint_classifier.hdf5'"
   ]
  },
  {
   "cell_type": "markdown",
   "metadata": {},
   "source": [
    "# Classification number setting"
   ]
  },
  {
   "cell_type": "code",
   "execution_count": 3,
   "metadata": {
    "ExecuteTime": {
     "end_time": "2023-12-03T03:01:39.289066400Z",
     "start_time": "2023-12-03T03:01:39.274078800Z"
    }
   },
   "outputs": [],
   "source": [
    "NUM_CLASSES = 10"
   ]
  },
  {
   "cell_type": "markdown",
   "metadata": {},
   "source": [
    "# Load training data"
   ]
  },
  {
   "cell_type": "code",
   "execution_count": 4,
   "metadata": {
    "ExecuteTime": {
     "end_time": "2023-12-03T03:01:39.494434600Z",
     "start_time": "2023-12-03T03:01:39.290070100Z"
    }
   },
   "outputs": [],
   "source": [
    "X_dataset = np.loadtxt(dataset, delimiter=',', dtype='float32', usecols=list(range(1, (21 * 2) + 1)))"
   ]
  },
  {
   "cell_type": "code",
   "execution_count": 5,
   "metadata": {
    "ExecuteTime": {
     "end_time": "2023-12-03T03:01:39.558185500Z",
     "start_time": "2023-12-03T03:01:39.495433900Z"
    }
   },
   "outputs": [],
   "source": [
    "y_dataset = np.loadtxt(dataset, delimiter=',', dtype='int32', usecols=(0))"
   ]
  },
  {
   "cell_type": "code",
   "execution_count": 6,
   "metadata": {
    "ExecuteTime": {
     "end_time": "2023-12-03T03:01:39.574190400Z",
     "start_time": "2023-12-03T03:01:39.561185500Z"
    }
   },
   "outputs": [],
   "source": [
    "X_train, X_test, y_train, y_test = train_test_split(X_dataset, y_dataset, train_size=0.75, random_state=RANDOM_SEED)"
   ]
  },
  {
   "cell_type": "markdown",
   "metadata": {},
   "source": [
    "# Model construction"
   ]
  },
  {
   "cell_type": "code",
   "execution_count": 7,
   "metadata": {
    "ExecuteTime": {
     "end_time": "2023-12-03T03:01:39.715108900Z",
     "start_time": "2023-12-03T03:01:39.575190100Z"
    }
   },
   "outputs": [],
   "source": [
    "model = tf.keras.models.Sequential([\n",
    "    tf.keras.layers.Input((21 * 2, )),\n",
    "    tf.keras.layers.Dropout(0.2),\n",
    "    tf.keras.layers.Dense(20, activation='relu'),\n",
    "    tf.keras.layers.Dropout(0.4),\n",
    "    tf.keras.layers.Dense(10, activation='relu'),\n",
    "    tf.keras.layers.Dense(NUM_CLASSES, activation='softmax')\n",
    "])"
   ]
  },
  {
   "cell_type": "code",
   "execution_count": 8,
   "metadata": {
    "ExecuteTime": {
     "end_time": "2023-12-03T03:01:39.719091800Z",
     "start_time": "2023-12-03T03:01:39.700064800Z"
    }
   },
   "outputs": [
    {
     "name": "stdout",
     "output_type": "stream",
     "text": [
      "Model: \"sequential\"\n",
      "_________________________________________________________________\n",
      " Layer (type)                Output Shape              Param #   \n",
      "=================================================================\n",
      " dropout (Dropout)           (None, 42)                0         \n",
      "                                                                 \n",
      " dense (Dense)               (None, 20)                860       \n",
      "                                                                 \n",
      " dropout_1 (Dropout)         (None, 20)                0         \n",
      "                                                                 \n",
      " dense_1 (Dense)             (None, 10)                210       \n",
      "                                                                 \n",
      " dense_2 (Dense)             (None, 10)                110       \n",
      "                                                                 \n",
      "=================================================================\n",
      "Total params: 1,180\n",
      "Trainable params: 1,180\n",
      "Non-trainable params: 0\n",
      "_________________________________________________________________\n"
     ]
    }
   ],
   "source": [
    "model.summary()  # tf.keras.utils.plot_model(model, show_shapes=True)"
   ]
  },
  {
   "cell_type": "code",
   "execution_count": 9,
   "metadata": {
    "ExecuteTime": {
     "end_time": "2023-12-03T03:01:39.741092500Z",
     "start_time": "2023-12-03T03:01:39.717092900Z"
    }
   },
   "outputs": [],
   "source": [
    "# Model checkpoint callback\n",
    "cp_callback = tf.keras.callbacks.ModelCheckpoint(\n",
    "    model_save_path, verbose=1, save_weights_only=False)\n",
    "# Early stopping callback\n",
    "es_callback = tf.keras.callbacks.EarlyStopping(patience=20, verbose=1)"
   ]
  },
  {
   "cell_type": "code",
   "execution_count": 10,
   "metadata": {
    "ExecuteTime": {
     "end_time": "2023-12-03T03:01:39.777090900Z",
     "start_time": "2023-12-03T03:01:39.737093700Z"
    }
   },
   "outputs": [],
   "source": [
    "# Model compile\n",
    "model.compile(\n",
    "    optimizer='adam',\n",
    "    loss='sparse_categorical_crossentropy',\n",
    "    metrics=['accuracy']\n",
    ")"
   ]
  },
  {
   "cell_type": "markdown",
   "metadata": {},
   "source": [
    "# Model training"
   ]
  },
  {
   "cell_type": "code",
   "execution_count": 11,
   "metadata": {
    "scrolled": true,
    "ExecuteTime": {
     "end_time": "2023-12-03T03:02:10.296012100Z",
     "start_time": "2023-12-03T03:01:39.751090800Z"
    }
   },
   "outputs": [
    {
     "name": "stdout",
     "output_type": "stream",
     "text": [
      "Epoch 1/1000\n",
      "62/86 [====================>.........] - ETA: 0s - loss: 2.3112 - accuracy: 0.1057\n",
      "Epoch 1: saving model to model/keypoint_classifier\\keypoint_classifier.hdf5\n",
      "86/86 [==============================] - 1s 5ms/step - loss: 2.2746 - accuracy: 0.1229 - val_loss: 2.0713 - val_accuracy: 0.1948\n",
      "Epoch 2/1000\n",
      "60/86 [===================>..........] - ETA: 0s - loss: 2.0720 - accuracy: 0.1986\n",
      "Epoch 2: saving model to model/keypoint_classifier\\keypoint_classifier.hdf5\n",
      "86/86 [==============================] - 0s 3ms/step - loss: 2.0418 - accuracy: 0.2097 - val_loss: 1.8453 - val_accuracy: 0.3290\n",
      "Epoch 3/1000\n",
      "59/86 [===================>..........] - ETA: 0s - loss: 1.9155 - accuracy: 0.2646\n",
      "Epoch 3: saving model to model/keypoint_classifier\\keypoint_classifier.hdf5\n",
      "86/86 [==============================] - 0s 3ms/step - loss: 1.8905 - accuracy: 0.2804 - val_loss: 1.6635 - val_accuracy: 0.4901\n",
      "Epoch 4/1000\n",
      "84/86 [============================>.] - ETA: 0s - loss: 1.7647 - accuracy: 0.3492\n",
      "Epoch 4: saving model to model/keypoint_classifier\\keypoint_classifier.hdf5\n",
      "86/86 [==============================] - 0s 3ms/step - loss: 1.7631 - accuracy: 0.3497 - val_loss: 1.5064 - val_accuracy: 0.5671\n",
      "Epoch 5/1000\n",
      "59/86 [===================>..........] - ETA: 0s - loss: 1.6696 - accuracy: 0.3882\n",
      "Epoch 5: saving model to model/keypoint_classifier\\keypoint_classifier.hdf5\n",
      "86/86 [==============================] - 0s 3ms/step - loss: 1.6552 - accuracy: 0.3981 - val_loss: 1.3740 - val_accuracy: 0.6247\n",
      "Epoch 6/1000\n",
      "83/86 [===========================>..] - ETA: 0s - loss: 1.5442 - accuracy: 0.4387\n",
      "Epoch 6: saving model to model/keypoint_classifier\\keypoint_classifier.hdf5\n",
      "86/86 [==============================] - 0s 3ms/step - loss: 1.5433 - accuracy: 0.4404 - val_loss: 1.2552 - val_accuracy: 0.7036\n",
      "Epoch 7/1000\n",
      "86/86 [==============================] - ETA: 0s - loss: 1.4850 - accuracy: 0.4566\n",
      "Epoch 7: saving model to model/keypoint_classifier\\keypoint_classifier.hdf5\n",
      "86/86 [==============================] - 0s 3ms/step - loss: 1.4850 - accuracy: 0.4566 - val_loss: 1.1598 - val_accuracy: 0.7140\n",
      "Epoch 8/1000\n",
      "84/86 [============================>.] - ETA: 0s - loss: 1.4332 - accuracy: 0.4701\n",
      "Epoch 8: saving model to model/keypoint_classifier\\keypoint_classifier.hdf5\n",
      "86/86 [==============================] - 0s 3ms/step - loss: 1.4329 - accuracy: 0.4699 - val_loss: 1.1008 - val_accuracy: 0.7296\n",
      "Epoch 9/1000\n",
      "59/86 [===================>..........] - ETA: 0s - loss: 1.3906 - accuracy: 0.4923\n",
      "Epoch 9: saving model to model/keypoint_classifier\\keypoint_classifier.hdf5\n",
      "86/86 [==============================] - 0s 3ms/step - loss: 1.3820 - accuracy: 0.4956 - val_loss: 1.0446 - val_accuracy: 0.7348\n",
      "Epoch 10/1000\n",
      "60/86 [===================>..........] - ETA: 0s - loss: 1.3509 - accuracy: 0.5029\n",
      "Epoch 10: saving model to model/keypoint_classifier\\keypoint_classifier.hdf5\n",
      "86/86 [==============================] - 0s 3ms/step - loss: 1.3424 - accuracy: 0.5041 - val_loss: 0.9766 - val_accuracy: 0.7636\n",
      "Epoch 11/1000\n",
      "84/86 [============================>.] - ETA: 0s - loss: 1.2938 - accuracy: 0.5249\n",
      "Epoch 11: saving model to model/keypoint_classifier\\keypoint_classifier.hdf5\n",
      "86/86 [==============================] - 0s 3ms/step - loss: 1.2919 - accuracy: 0.5258 - val_loss: 0.9316 - val_accuracy: 0.7633\n",
      "Epoch 12/1000\n",
      "83/86 [===========================>..] - ETA: 0s - loss: 1.2738 - accuracy: 0.5289\n",
      "Epoch 12: saving model to model/keypoint_classifier\\keypoint_classifier.hdf5\n",
      "86/86 [==============================] - 0s 3ms/step - loss: 1.2742 - accuracy: 0.5279 - val_loss: 0.8797 - val_accuracy: 0.8008\n",
      "Epoch 13/1000\n",
      "85/86 [============================>.] - ETA: 0s - loss: 1.2533 - accuracy: 0.5326\n",
      "Epoch 13: saving model to model/keypoint_classifier\\keypoint_classifier.hdf5\n",
      "86/86 [==============================] - 0s 3ms/step - loss: 1.2533 - accuracy: 0.5330 - val_loss: 0.8531 - val_accuracy: 0.8003\n",
      "Epoch 14/1000\n",
      "60/86 [===================>..........] - ETA: 0s - loss: 1.2219 - accuracy: 0.5470\n",
      "Epoch 14: saving model to model/keypoint_classifier\\keypoint_classifier.hdf5\n",
      "86/86 [==============================] - 0s 3ms/step - loss: 1.2190 - accuracy: 0.5461 - val_loss: 0.8121 - val_accuracy: 0.8277\n",
      "Epoch 15/1000\n",
      "59/86 [===================>..........] - ETA: 0s - loss: 1.2107 - accuracy: 0.5512\n",
      "Epoch 15: saving model to model/keypoint_classifier\\keypoint_classifier.hdf5\n",
      "86/86 [==============================] - 0s 3ms/step - loss: 1.2003 - accuracy: 0.5522 - val_loss: 0.7883 - val_accuracy: 0.8362\n",
      "Epoch 16/1000\n",
      "59/86 [===================>..........] - ETA: 0s - loss: 1.1878 - accuracy: 0.5602\n",
      "Epoch 16: saving model to model/keypoint_classifier\\keypoint_classifier.hdf5\n",
      "86/86 [==============================] - 0s 3ms/step - loss: 1.1879 - accuracy: 0.5590 - val_loss: 0.7648 - val_accuracy: 0.8307\n",
      "Epoch 17/1000\n",
      "58/86 [===================>..........] - ETA: 0s - loss: 1.1518 - accuracy: 0.5726\n",
      "Epoch 17: saving model to model/keypoint_classifier\\keypoint_classifier.hdf5\n",
      "86/86 [==============================] - 0s 3ms/step - loss: 1.1589 - accuracy: 0.5708 - val_loss: 0.7448 - val_accuracy: 0.8419\n",
      "Epoch 18/1000\n",
      "60/86 [===================>..........] - ETA: 0s - loss: 1.1395 - accuracy: 0.5839\n",
      "Epoch 18: saving model to model/keypoint_classifier\\keypoint_classifier.hdf5\n",
      "86/86 [==============================] - 0s 3ms/step - loss: 1.1311 - accuracy: 0.5843 - val_loss: 0.7177 - val_accuracy: 0.8512\n",
      "Epoch 19/1000\n",
      "59/86 [===================>..........] - ETA: 0s - loss: 1.1414 - accuracy: 0.5765\n",
      "Epoch 19: saving model to model/keypoint_classifier\\keypoint_classifier.hdf5\n",
      "86/86 [==============================] - 0s 3ms/step - loss: 1.1335 - accuracy: 0.5784 - val_loss: 0.7014 - val_accuracy: 0.8534\n",
      "Epoch 20/1000\n",
      "70/86 [=======================>......] - ETA: 0s - loss: 1.0920 - accuracy: 0.5988\n",
      "Epoch 20: saving model to model/keypoint_classifier\\keypoint_classifier.hdf5\n",
      "86/86 [==============================] - 0s 3ms/step - loss: 1.0930 - accuracy: 0.5971 - val_loss: 0.6886 - val_accuracy: 0.8578\n",
      "Epoch 21/1000\n",
      "85/86 [============================>.] - ETA: 0s - loss: 1.0929 - accuracy: 0.5983\n",
      "Epoch 21: saving model to model/keypoint_classifier\\keypoint_classifier.hdf5\n",
      "86/86 [==============================] - 0s 3ms/step - loss: 1.0928 - accuracy: 0.5983 - val_loss: 0.6750 - val_accuracy: 0.8455\n",
      "Epoch 22/1000\n",
      "60/86 [===================>..........] - ETA: 0s - loss: 1.0655 - accuracy: 0.6036\n",
      "Epoch 22: saving model to model/keypoint_classifier\\keypoint_classifier.hdf5\n",
      "86/86 [==============================] - 0s 3ms/step - loss: 1.0737 - accuracy: 0.6022 - val_loss: 0.6589 - val_accuracy: 0.8578\n",
      "Epoch 23/1000\n",
      "62/86 [====================>.........] - ETA: 0s - loss: 1.0697 - accuracy: 0.6106\n",
      "Epoch 23: saving model to model/keypoint_classifier\\keypoint_classifier.hdf5\n",
      "86/86 [==============================] - 0s 3ms/step - loss: 1.0626 - accuracy: 0.6102 - val_loss: 0.6374 - val_accuracy: 0.8592\n",
      "Epoch 24/1000\n",
      "70/86 [=======================>......] - ETA: 0s - loss: 1.0691 - accuracy: 0.5973\n",
      "Epoch 24: saving model to model/keypoint_classifier\\keypoint_classifier.hdf5\n",
      "86/86 [==============================] - 0s 4ms/step - loss: 1.0664 - accuracy: 0.5986 - val_loss: 0.6383 - val_accuracy: 0.8589\n",
      "Epoch 25/1000\n",
      "83/86 [===========================>..] - ETA: 0s - loss: 1.0534 - accuracy: 0.6085\n",
      "Epoch 25: saving model to model/keypoint_classifier\\keypoint_classifier.hdf5\n",
      "86/86 [==============================] - 0s 3ms/step - loss: 1.0546 - accuracy: 0.6071 - val_loss: 0.6244 - val_accuracy: 0.8636\n",
      "Epoch 26/1000\n",
      "86/86 [==============================] - ETA: 0s - loss: 1.0332 - accuracy: 0.6197\n",
      "Epoch 26: saving model to model/keypoint_classifier\\keypoint_classifier.hdf5\n",
      "86/86 [==============================] - 0s 3ms/step - loss: 1.0332 - accuracy: 0.6197 - val_loss: 0.6069 - val_accuracy: 0.8756\n",
      "Epoch 27/1000\n",
      "85/86 [============================>.] - ETA: 0s - loss: 1.0368 - accuracy: 0.6141\n",
      "Epoch 27: saving model to model/keypoint_classifier\\keypoint_classifier.hdf5\n",
      "86/86 [==============================] - 0s 3ms/step - loss: 1.0365 - accuracy: 0.6137 - val_loss: 0.6078 - val_accuracy: 0.8655\n",
      "Epoch 28/1000\n",
      "86/86 [==============================] - ETA: 0s - loss: 1.0303 - accuracy: 0.6156\n",
      "Epoch 28: saving model to model/keypoint_classifier\\keypoint_classifier.hdf5\n",
      "86/86 [==============================] - 0s 3ms/step - loss: 1.0303 - accuracy: 0.6156 - val_loss: 0.5866 - val_accuracy: 0.8819\n",
      "Epoch 29/1000\n",
      "82/86 [===========================>..] - ETA: 0s - loss: 1.0185 - accuracy: 0.6258\n",
      "Epoch 29: saving model to model/keypoint_classifier\\keypoint_classifier.hdf5\n",
      "86/86 [==============================] - 0s 3ms/step - loss: 1.0193 - accuracy: 0.6247 - val_loss: 0.5821 - val_accuracy: 0.8808\n",
      "Epoch 30/1000\n",
      "85/86 [============================>.] - ETA: 0s - loss: 1.0177 - accuracy: 0.6252\n",
      "Epoch 30: saving model to model/keypoint_classifier\\keypoint_classifier.hdf5\n",
      "86/86 [==============================] - 0s 3ms/step - loss: 1.0179 - accuracy: 0.6250 - val_loss: 0.5932 - val_accuracy: 0.8682\n",
      "Epoch 31/1000\n",
      "58/86 [===================>..........] - ETA: 0s - loss: 0.9953 - accuracy: 0.6336\n",
      "Epoch 31: saving model to model/keypoint_classifier\\keypoint_classifier.hdf5\n",
      "86/86 [==============================] - 0s 3ms/step - loss: 0.9959 - accuracy: 0.6333 - val_loss: 0.5617 - val_accuracy: 0.8830\n",
      "Epoch 32/1000\n",
      "86/86 [==============================] - ETA: 0s - loss: 0.9895 - accuracy: 0.6388\n",
      "Epoch 32: saving model to model/keypoint_classifier\\keypoint_classifier.hdf5\n",
      "86/86 [==============================] - 0s 3ms/step - loss: 0.9895 - accuracy: 0.6388 - val_loss: 0.5366 - val_accuracy: 0.8904\n",
      "Epoch 33/1000\n",
      "81/86 [===========================>..] - ETA: 0s - loss: 0.9846 - accuracy: 0.6346\n",
      "Epoch 33: saving model to model/keypoint_classifier\\keypoint_classifier.hdf5\n",
      "86/86 [==============================] - 0s 3ms/step - loss: 0.9853 - accuracy: 0.6343 - val_loss: 0.5463 - val_accuracy: 0.8786\n",
      "Epoch 34/1000\n",
      "80/86 [==========================>...] - ETA: 0s - loss: 0.9854 - accuracy: 0.6396\n",
      "Epoch 34: saving model to model/keypoint_classifier\\keypoint_classifier.hdf5\n",
      "86/86 [==============================] - 0s 3ms/step - loss: 0.9850 - accuracy: 0.6404 - val_loss: 0.5405 - val_accuracy: 0.8907\n",
      "Epoch 35/1000\n",
      "74/86 [========================>.....] - ETA: 0s - loss: 0.9688 - accuracy: 0.6493\n",
      "Epoch 35: saving model to model/keypoint_classifier\\keypoint_classifier.hdf5\n",
      "86/86 [==============================] - 0s 3ms/step - loss: 0.9673 - accuracy: 0.6483 - val_loss: 0.5403 - val_accuracy: 0.8784\n",
      "Epoch 36/1000\n",
      "59/86 [===================>..........] - ETA: 0s - loss: 0.9747 - accuracy: 0.6419\n",
      "Epoch 36: saving model to model/keypoint_classifier\\keypoint_classifier.hdf5\n",
      "86/86 [==============================] - 0s 3ms/step - loss: 0.9689 - accuracy: 0.6429 - val_loss: 0.5268 - val_accuracy: 0.8942\n",
      "Epoch 37/1000\n",
      "79/86 [==========================>...] - ETA: 0s - loss: 0.9510 - accuracy: 0.6532\n",
      "Epoch 37: saving model to model/keypoint_classifier\\keypoint_classifier.hdf5\n",
      "86/86 [==============================] - 0s 3ms/step - loss: 0.9557 - accuracy: 0.6522 - val_loss: 0.5168 - val_accuracy: 0.8827\n",
      "Epoch 38/1000\n",
      "73/86 [========================>.....] - ETA: 0s - loss: 0.9657 - accuracy: 0.6469\n",
      "Epoch 38: saving model to model/keypoint_classifier\\keypoint_classifier.hdf5\n",
      "86/86 [==============================] - 0s 4ms/step - loss: 0.9655 - accuracy: 0.6454 - val_loss: 0.5155 - val_accuracy: 0.8921\n",
      "Epoch 39/1000\n",
      "68/86 [======================>.......] - ETA: 0s - loss: 0.9519 - accuracy: 0.6534\n",
      "Epoch 39: saving model to model/keypoint_classifier\\keypoint_classifier.hdf5\n",
      "86/86 [==============================] - 0s 3ms/step - loss: 0.9427 - accuracy: 0.6560 - val_loss: 0.5024 - val_accuracy: 0.8863\n",
      "Epoch 40/1000\n",
      "83/86 [===========================>..] - ETA: 0s - loss: 0.9371 - accuracy: 0.6569\n",
      "Epoch 40: saving model to model/keypoint_classifier\\keypoint_classifier.hdf5\n",
      "86/86 [==============================] - 0s 3ms/step - loss: 0.9399 - accuracy: 0.6568 - val_loss: 0.5102 - val_accuracy: 0.8860\n",
      "Epoch 41/1000\n",
      "82/86 [===========================>..] - ETA: 0s - loss: 0.9316 - accuracy: 0.6603\n",
      "Epoch 41: saving model to model/keypoint_classifier\\keypoint_classifier.hdf5\n",
      "86/86 [==============================] - 0s 3ms/step - loss: 0.9311 - accuracy: 0.6608 - val_loss: 0.5067 - val_accuracy: 0.8877\n",
      "Epoch 42/1000\n",
      "60/86 [===================>..........] - ETA: 0s - loss: 0.9492 - accuracy: 0.6503\n",
      "Epoch 42: saving model to model/keypoint_classifier\\keypoint_classifier.hdf5\n",
      "86/86 [==============================] - 0s 3ms/step - loss: 0.9384 - accuracy: 0.6523 - val_loss: 0.4822 - val_accuracy: 0.8937\n",
      "Epoch 43/1000\n",
      "77/86 [=========================>....] - ETA: 0s - loss: 0.9340 - accuracy: 0.6555\n",
      "Epoch 43: saving model to model/keypoint_classifier\\keypoint_classifier.hdf5\n",
      "86/86 [==============================] - 0s 4ms/step - loss: 0.9340 - accuracy: 0.6561 - val_loss: 0.4870 - val_accuracy: 0.8901\n",
      "Epoch 44/1000\n",
      "81/86 [===========================>..] - ETA: 0s - loss: 0.9162 - accuracy: 0.6690\n",
      "Epoch 44: saving model to model/keypoint_classifier\\keypoint_classifier.hdf5\n",
      "86/86 [==============================] - 0s 4ms/step - loss: 0.9127 - accuracy: 0.6693 - val_loss: 0.4885 - val_accuracy: 0.8863\n",
      "Epoch 45/1000\n",
      "80/86 [==========================>...] - ETA: 0s - loss: 0.9210 - accuracy: 0.6629\n",
      "Epoch 45: saving model to model/keypoint_classifier\\keypoint_classifier.hdf5\n",
      "86/86 [==============================] - 0s 5ms/step - loss: 0.9204 - accuracy: 0.6631 - val_loss: 0.4944 - val_accuracy: 0.8882\n",
      "Epoch 46/1000\n",
      "63/86 [====================>.........] - ETA: 0s - loss: 0.9126 - accuracy: 0.6673\n",
      "Epoch 46: saving model to model/keypoint_classifier\\keypoint_classifier.hdf5\n",
      "86/86 [==============================] - 0s 3ms/step - loss: 0.9158 - accuracy: 0.6668 - val_loss: 0.4895 - val_accuracy: 0.8912\n",
      "Epoch 47/1000\n",
      "66/86 [======================>.......] - ETA: 0s - loss: 0.9052 - accuracy: 0.6707\n",
      "Epoch 47: saving model to model/keypoint_classifier\\keypoint_classifier.hdf5\n",
      "86/86 [==============================] - 0s 3ms/step - loss: 0.9050 - accuracy: 0.6716 - val_loss: 0.4750 - val_accuracy: 0.8888\n",
      "Epoch 48/1000\n",
      "68/86 [======================>.......] - ETA: 0s - loss: 0.9079 - accuracy: 0.6684\n",
      "Epoch 48: saving model to model/keypoint_classifier\\keypoint_classifier.hdf5\n",
      "86/86 [==============================] - 0s 3ms/step - loss: 0.9066 - accuracy: 0.6678 - val_loss: 0.4756 - val_accuracy: 0.8918\n",
      "Epoch 49/1000\n",
      "85/86 [============================>.] - ETA: 0s - loss: 0.9110 - accuracy: 0.6704\n",
      "Epoch 49: saving model to model/keypoint_classifier\\keypoint_classifier.hdf5\n",
      "86/86 [==============================] - 0s 3ms/step - loss: 0.9105 - accuracy: 0.6705 - val_loss: 0.4626 - val_accuracy: 0.8997\n",
      "Epoch 50/1000\n",
      "58/86 [===================>..........] - ETA: 0s - loss: 0.9160 - accuracy: 0.6629\n",
      "Epoch 50: saving model to model/keypoint_classifier\\keypoint_classifier.hdf5\n",
      "86/86 [==============================] - 0s 3ms/step - loss: 0.9076 - accuracy: 0.6674 - val_loss: 0.4754 - val_accuracy: 0.8967\n",
      "Epoch 51/1000\n",
      "78/86 [==========================>...] - ETA: 0s - loss: 0.8912 - accuracy: 0.6729\n",
      "Epoch 51: saving model to model/keypoint_classifier\\keypoint_classifier.hdf5\n",
      "86/86 [==============================] - 0s 3ms/step - loss: 0.8967 - accuracy: 0.6694 - val_loss: 0.4639 - val_accuracy: 0.8973\n",
      "Epoch 52/1000\n",
      "60/86 [===================>..........] - ETA: 0s - loss: 0.8828 - accuracy: 0.6798\n",
      "Epoch 52: saving model to model/keypoint_classifier\\keypoint_classifier.hdf5\n",
      "86/86 [==============================] - 0s 3ms/step - loss: 0.8763 - accuracy: 0.6809 - val_loss: 0.4632 - val_accuracy: 0.8959\n",
      "Epoch 53/1000\n",
      "84/86 [============================>.] - ETA: 0s - loss: 0.8860 - accuracy: 0.6744\n",
      "Epoch 53: saving model to model/keypoint_classifier\\keypoint_classifier.hdf5\n",
      "86/86 [==============================] - 0s 3ms/step - loss: 0.8865 - accuracy: 0.6743 - val_loss: 0.4601 - val_accuracy: 0.8923\n",
      "Epoch 54/1000\n",
      "78/86 [==========================>...] - ETA: 0s - loss: 0.8787 - accuracy: 0.6848\n",
      "Epoch 54: saving model to model/keypoint_classifier\\keypoint_classifier.hdf5\n",
      "86/86 [==============================] - 0s 3ms/step - loss: 0.8860 - accuracy: 0.6795 - val_loss: 0.4637 - val_accuracy: 0.8926\n",
      "Epoch 55/1000\n",
      "74/86 [========================>.....] - ETA: 0s - loss: 0.8779 - accuracy: 0.6801\n",
      "Epoch 55: saving model to model/keypoint_classifier\\keypoint_classifier.hdf5\n",
      "86/86 [==============================] - 0s 3ms/step - loss: 0.8719 - accuracy: 0.6825 - val_loss: 0.4503 - val_accuracy: 0.8997\n",
      "Epoch 56/1000\n",
      "77/86 [=========================>....] - ETA: 0s - loss: 0.8899 - accuracy: 0.6779\n",
      "Epoch 56: saving model to model/keypoint_classifier\\keypoint_classifier.hdf5\n",
      "86/86 [==============================] - 0s 3ms/step - loss: 0.8859 - accuracy: 0.6805 - val_loss: 0.4587 - val_accuracy: 0.8934\n",
      "Epoch 57/1000\n",
      "73/86 [========================>.....] - ETA: 0s - loss: 0.8757 - accuracy: 0.6829\n",
      "Epoch 57: saving model to model/keypoint_classifier\\keypoint_classifier.hdf5\n",
      "86/86 [==============================] - 0s 3ms/step - loss: 0.8767 - accuracy: 0.6835 - val_loss: 0.4580 - val_accuracy: 0.8868\n",
      "Epoch 58/1000\n",
      "76/86 [=========================>....] - ETA: 0s - loss: 0.8679 - accuracy: 0.6826\n",
      "Epoch 58: saving model to model/keypoint_classifier\\keypoint_classifier.hdf5\n",
      "86/86 [==============================] - 0s 3ms/step - loss: 0.8688 - accuracy: 0.6820 - val_loss: 0.4426 - val_accuracy: 0.9041\n",
      "Epoch 59/1000\n",
      "83/86 [===========================>..] - ETA: 0s - loss: 0.8767 - accuracy: 0.6879\n",
      "Epoch 59: saving model to model/keypoint_classifier\\keypoint_classifier.hdf5\n",
      "86/86 [==============================] - 0s 3ms/step - loss: 0.8768 - accuracy: 0.6879 - val_loss: 0.4551 - val_accuracy: 0.8918\n",
      "Epoch 60/1000\n",
      "72/86 [========================>.....] - ETA: 0s - loss: 0.8620 - accuracy: 0.6918\n",
      "Epoch 60: saving model to model/keypoint_classifier\\keypoint_classifier.hdf5\n",
      "86/86 [==============================] - 0s 3ms/step - loss: 0.8628 - accuracy: 0.6907 - val_loss: 0.4383 - val_accuracy: 0.8904\n",
      "Epoch 61/1000\n",
      "80/86 [==========================>...] - ETA: 0s - loss: 0.8381 - accuracy: 0.6956\n",
      "Epoch 61: saving model to model/keypoint_classifier\\keypoint_classifier.hdf5\n",
      "86/86 [==============================] - 0s 3ms/step - loss: 0.8375 - accuracy: 0.6962 - val_loss: 0.4409 - val_accuracy: 0.8882\n",
      "Epoch 62/1000\n",
      "76/86 [=========================>....] - ETA: 0s - loss: 0.8678 - accuracy: 0.6887\n",
      "Epoch 62: saving model to model/keypoint_classifier\\keypoint_classifier.hdf5\n",
      "86/86 [==============================] - 0s 3ms/step - loss: 0.8647 - accuracy: 0.6908 - val_loss: 0.4490 - val_accuracy: 0.8937\n",
      "Epoch 63/1000\n",
      "84/86 [============================>.] - ETA: 0s - loss: 0.8604 - accuracy: 0.6907\n",
      "Epoch 63: saving model to model/keypoint_classifier\\keypoint_classifier.hdf5\n",
      "86/86 [==============================] - 0s 4ms/step - loss: 0.8592 - accuracy: 0.6913 - val_loss: 0.4466 - val_accuracy: 0.8907\n",
      "Epoch 64/1000\n",
      "67/86 [======================>.......] - ETA: 0s - loss: 0.8524 - accuracy: 0.6960\n",
      "Epoch 64: saving model to model/keypoint_classifier\\keypoint_classifier.hdf5\n",
      "86/86 [==============================] - 0s 4ms/step - loss: 0.8518 - accuracy: 0.6941 - val_loss: 0.4372 - val_accuracy: 0.8937\n",
      "Epoch 65/1000\n",
      "68/86 [======================>.......] - ETA: 0s - loss: 0.8585 - accuracy: 0.6912\n",
      "Epoch 65: saving model to model/keypoint_classifier\\keypoint_classifier.hdf5\n",
      "86/86 [==============================] - 0s 4ms/step - loss: 0.8561 - accuracy: 0.6927 - val_loss: 0.4370 - val_accuracy: 0.8992\n",
      "Epoch 66/1000\n",
      "70/86 [=======================>......] - ETA: 0s - loss: 0.8549 - accuracy: 0.6915\n",
      "Epoch 66: saving model to model/keypoint_classifier\\keypoint_classifier.hdf5\n",
      "86/86 [==============================] - 0s 4ms/step - loss: 0.8540 - accuracy: 0.6927 - val_loss: 0.4382 - val_accuracy: 0.8921\n",
      "Epoch 67/1000\n",
      "74/86 [========================>.....] - ETA: 0s - loss: 0.8598 - accuracy: 0.6872\n",
      "Epoch 67: saving model to model/keypoint_classifier\\keypoint_classifier.hdf5\n",
      "86/86 [==============================] - 0s 3ms/step - loss: 0.8696 - accuracy: 0.6840 - val_loss: 0.4486 - val_accuracy: 0.8923\n",
      "Epoch 68/1000\n",
      "69/86 [=======================>......] - ETA: 0s - loss: 0.8409 - accuracy: 0.6954\n",
      "Epoch 68: saving model to model/keypoint_classifier\\keypoint_classifier.hdf5\n",
      "86/86 [==============================] - 0s 3ms/step - loss: 0.8462 - accuracy: 0.6942 - val_loss: 0.4335 - val_accuracy: 0.8964\n",
      "Epoch 69/1000\n",
      "64/86 [=====================>........] - ETA: 0s - loss: 0.8504 - accuracy: 0.6932\n",
      "Epoch 69: saving model to model/keypoint_classifier\\keypoint_classifier.hdf5\n",
      "86/86 [==============================] - 0s 5ms/step - loss: 0.8490 - accuracy: 0.6910 - val_loss: 0.4398 - val_accuracy: 0.9003\n",
      "Epoch 70/1000\n",
      "83/86 [===========================>..] - ETA: 0s - loss: 0.8584 - accuracy: 0.6965\n",
      "Epoch 70: saving model to model/keypoint_classifier\\keypoint_classifier.hdf5\n",
      "86/86 [==============================] - 0s 4ms/step - loss: 0.8573 - accuracy: 0.6964 - val_loss: 0.4416 - val_accuracy: 0.8942\n",
      "Epoch 71/1000\n",
      "81/86 [===========================>..] - ETA: 0s - loss: 0.8408 - accuracy: 0.6984\n",
      "Epoch 71: saving model to model/keypoint_classifier\\keypoint_classifier.hdf5\n",
      "86/86 [==============================] - 0s 5ms/step - loss: 0.8436 - accuracy: 0.6988 - val_loss: 0.4442 - val_accuracy: 0.8901\n",
      "Epoch 72/1000\n",
      "75/86 [=========================>....] - ETA: 0s - loss: 0.8174 - accuracy: 0.7071\n",
      "Epoch 72: saving model to model/keypoint_classifier\\keypoint_classifier.hdf5\n",
      "86/86 [==============================] - 0s 5ms/step - loss: 0.8202 - accuracy: 0.7071 - val_loss: 0.4263 - val_accuracy: 0.9011\n",
      "Epoch 73/1000\n",
      "86/86 [==============================] - ETA: 0s - loss: 0.8487 - accuracy: 0.6942\n",
      "Epoch 73: saving model to model/keypoint_classifier\\keypoint_classifier.hdf5\n",
      "86/86 [==============================] - 0s 4ms/step - loss: 0.8487 - accuracy: 0.6942 - val_loss: 0.4396 - val_accuracy: 0.8948\n",
      "Epoch 74/1000\n",
      "83/86 [===========================>..] - ETA: 0s - loss: 0.8494 - accuracy: 0.6977\n",
      "Epoch 74: saving model to model/keypoint_classifier\\keypoint_classifier.hdf5\n",
      "86/86 [==============================] - 0s 4ms/step - loss: 0.8487 - accuracy: 0.6974 - val_loss: 0.4489 - val_accuracy: 0.8967\n",
      "Epoch 75/1000\n",
      "67/86 [======================>.......] - ETA: 0s - loss: 0.8299 - accuracy: 0.6992\n",
      "Epoch 75: saving model to model/keypoint_classifier\\keypoint_classifier.hdf5\n",
      "86/86 [==============================] - 0s 3ms/step - loss: 0.8362 - accuracy: 0.6990 - val_loss: 0.4433 - val_accuracy: 0.8959\n",
      "Epoch 76/1000\n",
      "72/86 [========================>.....] - ETA: 0s - loss: 0.8402 - accuracy: 0.6944\n",
      "Epoch 76: saving model to model/keypoint_classifier\\keypoint_classifier.hdf5\n",
      "86/86 [==============================] - 0s 3ms/step - loss: 0.8386 - accuracy: 0.6967 - val_loss: 0.4371 - val_accuracy: 0.9014\n",
      "Epoch 77/1000\n",
      "84/86 [============================>.] - ETA: 0s - loss: 0.8286 - accuracy: 0.7025\n",
      "Epoch 77: saving model to model/keypoint_classifier\\keypoint_classifier.hdf5\n",
      "86/86 [==============================] - 0s 4ms/step - loss: 0.8296 - accuracy: 0.7022 - val_loss: 0.4365 - val_accuracy: 0.8951\n",
      "Epoch 78/1000\n",
      "80/86 [==========================>...] - ETA: 0s - loss: 0.8244 - accuracy: 0.7029\n",
      "Epoch 78: saving model to model/keypoint_classifier\\keypoint_classifier.hdf5\n",
      "86/86 [==============================] - 0s 4ms/step - loss: 0.8215 - accuracy: 0.7050 - val_loss: 0.4321 - val_accuracy: 0.8948\n",
      "Epoch 79/1000\n",
      "70/86 [=======================>......] - ETA: 0s - loss: 0.8241 - accuracy: 0.7097\n",
      "Epoch 79: saving model to model/keypoint_classifier\\keypoint_classifier.hdf5\n",
      "86/86 [==============================] - 0s 3ms/step - loss: 0.8234 - accuracy: 0.7094 - val_loss: 0.4351 - val_accuracy: 0.8945\n",
      "Epoch 80/1000\n",
      "76/86 [=========================>....] - ETA: 0s - loss: 0.8156 - accuracy: 0.7078\n",
      "Epoch 80: saving model to model/keypoint_classifier\\keypoint_classifier.hdf5\n",
      "86/86 [==============================] - 0s 3ms/step - loss: 0.8138 - accuracy: 0.7073 - val_loss: 0.4296 - val_accuracy: 0.8945\n",
      "Epoch 81/1000\n",
      "66/86 [======================>.......] - ETA: 0s - loss: 0.8150 - accuracy: 0.7047\n",
      "Epoch 81: saving model to model/keypoint_classifier\\keypoint_classifier.hdf5\n",
      "86/86 [==============================] - 0s 4ms/step - loss: 0.8208 - accuracy: 0.7027 - val_loss: 0.4303 - val_accuracy: 0.8962\n",
      "Epoch 82/1000\n",
      "72/86 [========================>.....] - ETA: 0s - loss: 0.8324 - accuracy: 0.6956\n",
      "Epoch 82: saving model to model/keypoint_classifier\\keypoint_classifier.hdf5\n",
      "86/86 [==============================] - 0s 4ms/step - loss: 0.8282 - accuracy: 0.7002 - val_loss: 0.4410 - val_accuracy: 0.8907\n",
      "Epoch 83/1000\n",
      "73/86 [========================>.....] - ETA: 0s - loss: 0.8215 - accuracy: 0.7002\n",
      "Epoch 83: saving model to model/keypoint_classifier\\keypoint_classifier.hdf5\n",
      "86/86 [==============================] - 0s 3ms/step - loss: 0.8166 - accuracy: 0.7035 - val_loss: 0.4363 - val_accuracy: 0.9000\n",
      "Epoch 84/1000\n",
      "76/86 [=========================>....] - ETA: 0s - loss: 0.8074 - accuracy: 0.7098\n",
      "Epoch 84: saving model to model/keypoint_classifier\\keypoint_classifier.hdf5\n",
      "86/86 [==============================] - 0s 3ms/step - loss: 0.8067 - accuracy: 0.7095 - val_loss: 0.4272 - val_accuracy: 0.8973\n",
      "Epoch 85/1000\n",
      "83/86 [===========================>..] - ETA: 0s - loss: 0.8129 - accuracy: 0.7091\n",
      "Epoch 85: saving model to model/keypoint_classifier\\keypoint_classifier.hdf5\n",
      "86/86 [==============================] - 0s 4ms/step - loss: 0.8129 - accuracy: 0.7093 - val_loss: 0.4246 - val_accuracy: 0.9027\n",
      "Epoch 86/1000\n",
      "72/86 [========================>.....] - ETA: 0s - loss: 0.8079 - accuracy: 0.7050\n",
      "Epoch 86: saving model to model/keypoint_classifier\\keypoint_classifier.hdf5\n",
      "86/86 [==============================] - 0s 3ms/step - loss: 0.8026 - accuracy: 0.7078 - val_loss: 0.4261 - val_accuracy: 0.8951\n",
      "Epoch 87/1000\n",
      "72/86 [========================>.....] - ETA: 0s - loss: 0.7994 - accuracy: 0.7157\n",
      "Epoch 87: saving model to model/keypoint_classifier\\keypoint_classifier.hdf5\n",
      "86/86 [==============================] - 0s 3ms/step - loss: 0.7998 - accuracy: 0.7178 - val_loss: 0.4330 - val_accuracy: 0.8932\n",
      "Epoch 88/1000\n",
      "75/86 [=========================>....] - ETA: 0s - loss: 0.7938 - accuracy: 0.7158\n",
      "Epoch 88: saving model to model/keypoint_classifier\\keypoint_classifier.hdf5\n",
      "86/86 [==============================] - 0s 3ms/step - loss: 0.7926 - accuracy: 0.7178 - val_loss: 0.4288 - val_accuracy: 0.8940\n",
      "Epoch 89/1000\n",
      "79/86 [==========================>...] - ETA: 0s - loss: 0.7974 - accuracy: 0.7119\n",
      "Epoch 89: saving model to model/keypoint_classifier\\keypoint_classifier.hdf5\n",
      "86/86 [==============================] - 0s 3ms/step - loss: 0.7945 - accuracy: 0.7135 - val_loss: 0.4357 - val_accuracy: 0.8926\n",
      "Epoch 90/1000\n",
      "77/86 [=========================>....] - ETA: 0s - loss: 0.7913 - accuracy: 0.7198\n",
      "Epoch 90: saving model to model/keypoint_classifier\\keypoint_classifier.hdf5\n",
      "86/86 [==============================] - 0s 3ms/step - loss: 0.7908 - accuracy: 0.7191 - val_loss: 0.4255 - val_accuracy: 0.8973\n",
      "Epoch 91/1000\n",
      "76/86 [=========================>....] - ETA: 0s - loss: 0.7976 - accuracy: 0.7185\n",
      "Epoch 91: saving model to model/keypoint_classifier\\keypoint_classifier.hdf5\n",
      "86/86 [==============================] - 0s 3ms/step - loss: 0.7970 - accuracy: 0.7179 - val_loss: 0.4364 - val_accuracy: 0.8970\n",
      "Epoch 92/1000\n",
      "72/86 [========================>.....] - ETA: 0s - loss: 0.7935 - accuracy: 0.7176\n",
      "Epoch 92: saving model to model/keypoint_classifier\\keypoint_classifier.hdf5\n",
      "86/86 [==============================] - 0s 3ms/step - loss: 0.7991 - accuracy: 0.7146 - val_loss: 0.4282 - val_accuracy: 0.8962\n",
      "Epoch 93/1000\n",
      "78/86 [==========================>...] - ETA: 0s - loss: 0.8056 - accuracy: 0.7162\n",
      "Epoch 93: saving model to model/keypoint_classifier\\keypoint_classifier.hdf5\n",
      "86/86 [==============================] - 0s 3ms/step - loss: 0.8038 - accuracy: 0.7169 - val_loss: 0.4353 - val_accuracy: 0.8923\n",
      "Epoch 94/1000\n",
      "76/86 [=========================>....] - ETA: 0s - loss: 0.8132 - accuracy: 0.7086\n",
      "Epoch 94: saving model to model/keypoint_classifier\\keypoint_classifier.hdf5\n",
      "86/86 [==============================] - 0s 3ms/step - loss: 0.8081 - accuracy: 0.7110 - val_loss: 0.4430 - val_accuracy: 0.8858\n",
      "Epoch 95/1000\n",
      "75/86 [=========================>....] - ETA: 0s - loss: 0.7940 - accuracy: 0.7146\n",
      "Epoch 95: saving model to model/keypoint_classifier\\keypoint_classifier.hdf5\n",
      "86/86 [==============================] - 0s 3ms/step - loss: 0.7906 - accuracy: 0.7158 - val_loss: 0.4461 - val_accuracy: 0.8877\n",
      "Epoch 96/1000\n",
      "74/86 [========================>.....] - ETA: 0s - loss: 0.7859 - accuracy: 0.7195\n",
      "Epoch 96: saving model to model/keypoint_classifier\\keypoint_classifier.hdf5\n",
      "86/86 [==============================] - 0s 3ms/step - loss: 0.7844 - accuracy: 0.7188 - val_loss: 0.4265 - val_accuracy: 0.9000\n",
      "Epoch 97/1000\n",
      "86/86 [==============================] - ETA: 0s - loss: 0.7721 - accuracy: 0.7224\n",
      "Epoch 97: saving model to model/keypoint_classifier\\keypoint_classifier.hdf5\n",
      "86/86 [==============================] - 0s 4ms/step - loss: 0.7721 - accuracy: 0.7224 - val_loss: 0.4433 - val_accuracy: 0.8904\n",
      "Epoch 98/1000\n",
      "82/86 [===========================>..] - ETA: 0s - loss: 0.7735 - accuracy: 0.7235\n",
      "Epoch 98: saving model to model/keypoint_classifier\\keypoint_classifier.hdf5\n",
      "86/86 [==============================] - 0s 4ms/step - loss: 0.7721 - accuracy: 0.7234 - val_loss: 0.4268 - val_accuracy: 0.9027\n",
      "Epoch 99/1000\n",
      "70/86 [=======================>......] - ETA: 0s - loss: 0.7957 - accuracy: 0.7134\n",
      "Epoch 99: saving model to model/keypoint_classifier\\keypoint_classifier.hdf5\n",
      "86/86 [==============================] - 0s 3ms/step - loss: 0.7963 - accuracy: 0.7140 - val_loss: 0.4329 - val_accuracy: 0.8929\n",
      "Epoch 100/1000\n",
      "76/86 [=========================>....] - ETA: 0s - loss: 0.7837 - accuracy: 0.7253\n",
      "Epoch 100: saving model to model/keypoint_classifier\\keypoint_classifier.hdf5\n",
      "86/86 [==============================] - 0s 3ms/step - loss: 0.7874 - accuracy: 0.7230 - val_loss: 0.4351 - val_accuracy: 0.8926\n",
      "Epoch 101/1000\n",
      "74/86 [========================>.....] - ETA: 0s - loss: 0.7635 - accuracy: 0.7317\n",
      "Epoch 101: saving model to model/keypoint_classifier\\keypoint_classifier.hdf5\n",
      "86/86 [==============================] - 0s 3ms/step - loss: 0.7682 - accuracy: 0.7293 - val_loss: 0.4362 - val_accuracy: 0.8901\n",
      "Epoch 102/1000\n",
      "77/86 [=========================>....] - ETA: 0s - loss: 0.7863 - accuracy: 0.7243\n",
      "Epoch 102: saving model to model/keypoint_classifier\\keypoint_classifier.hdf5\n",
      "86/86 [==============================] - 0s 3ms/step - loss: 0.7853 - accuracy: 0.7243 - val_loss: 0.4398 - val_accuracy: 0.8907\n",
      "Epoch 103/1000\n",
      "75/86 [=========================>....] - ETA: 0s - loss: 0.7830 - accuracy: 0.7211\n",
      "Epoch 103: saving model to model/keypoint_classifier\\keypoint_classifier.hdf5\n",
      "86/86 [==============================] - 0s 3ms/step - loss: 0.7859 - accuracy: 0.7199 - val_loss: 0.4353 - val_accuracy: 0.8986\n",
      "Epoch 104/1000\n",
      "74/86 [========================>.....] - ETA: 0s - loss: 0.7849 - accuracy: 0.7184\n",
      "Epoch 104: saving model to model/keypoint_classifier\\keypoint_classifier.hdf5\n",
      "86/86 [==============================] - 0s 3ms/step - loss: 0.7762 - accuracy: 0.7212 - val_loss: 0.4340 - val_accuracy: 0.8956\n",
      "Epoch 105/1000\n",
      "78/86 [==========================>...] - ETA: 0s - loss: 0.7804 - accuracy: 0.7242\n",
      "Epoch 105: saving model to model/keypoint_classifier\\keypoint_classifier.hdf5\n",
      "86/86 [==============================] - 0s 4ms/step - loss: 0.7815 - accuracy: 0.7226 - val_loss: 0.4335 - val_accuracy: 0.8932\n",
      "Epoch 105: early stopping\n"
     ]
    },
    {
     "data": {
      "text/plain": "<keras.callbacks.History at 0x2a54965f670>"
     },
     "execution_count": 11,
     "metadata": {},
     "output_type": "execute_result"
    }
   ],
   "source": [
    "model.fit(\n",
    "    X_train,\n",
    "    y_train,\n",
    "    epochs=1000,\n",
    "    batch_size=128,\n",
    "    validation_data=(X_test, y_test),\n",
    "    callbacks=[cp_callback, es_callback]\n",
    ")"
   ]
  },
  {
   "cell_type": "code",
   "execution_count": 12,
   "metadata": {
    "ExecuteTime": {
     "end_time": "2023-12-03T03:02:10.526575100Z",
     "start_time": "2023-12-03T03:02:10.155494600Z"
    }
   },
   "outputs": [
    {
     "name": "stdout",
     "output_type": "stream",
     "text": [
      "29/29 [==============================] - 0s 3ms/step - loss: 0.4335 - accuracy: 0.8932\n"
     ]
    }
   ],
   "source": [
    "# Model evaluation\n",
    "val_loss, val_acc = model.evaluate(X_test, y_test, batch_size=128)"
   ]
  },
  {
   "cell_type": "code",
   "execution_count": 13,
   "metadata": {
    "ExecuteTime": {
     "end_time": "2023-12-03T03:02:10.665087Z",
     "start_time": "2023-12-03T03:02:10.522574800Z"
    }
   },
   "outputs": [],
   "source": [
    "# Load saved model\n",
    "model = tf.keras.models.load_model(model_save_path)"
   ]
  },
  {
   "cell_type": "code",
   "execution_count": 14,
   "metadata": {
    "ExecuteTime": {
     "end_time": "2023-12-03T03:02:10.838168100Z",
     "start_time": "2023-12-03T03:02:10.666088200Z"
    }
   },
   "outputs": [
    {
     "name": "stdout",
     "output_type": "stream",
     "text": [
      "1/1 [==============================] - 0s 94ms/step\n",
      "[8.65193363e-03 5.21497071e-01 8.82582043e-08 1.12536145e-05\n",
      " 2.80342556e-05 4.66808975e-01 5.61092115e-08 2.06322159e-08\n",
      " 5.10606216e-04 2.49202526e-03]\n",
      "1\n"
     ]
    }
   ],
   "source": [
    "# Inference test\n",
    "predict_result = model.predict(np.array([X_test[0]]))\n",
    "print(np.squeeze(predict_result))\n",
    "print(np.argmax(np.squeeze(predict_result)))"
   ]
  },
  {
   "cell_type": "markdown",
   "metadata": {},
   "source": [
    "# Confusion matrix"
   ]
  },
  {
   "cell_type": "code",
   "execution_count": 15,
   "metadata": {
    "ExecuteTime": {
     "end_time": "2023-12-03T03:02:11.540995400Z",
     "start_time": "2023-12-03T03:02:10.844167700Z"
    }
   },
   "outputs": [
    {
     "name": "stdout",
     "output_type": "stream",
     "text": [
      "115/115 [==============================] - 0s 1ms/step\n"
     ]
    },
    {
     "data": {
      "text/plain": "<Figure size 700x600 with 2 Axes>",
      "image/png": "[encoded data removed]"
     },
     "metadata": {},
     "output_type": "display_data"
    },
    {
     "name": "stdout",
     "output_type": "stream",
     "text": [
      "Classification Report\n",
      "              precision    recall  f1-score   support\n",
      "\n",
      "           0       0.98      0.59      0.74       390\n",
      "           1       0.87      0.72      0.79       389\n",
      "           3       0.90      0.92      0.91       247\n",
      "           4       0.81      0.99      0.89       277\n",
      "           5       0.95      0.99      0.97       274\n",
      "           6       0.96      0.94      0.95       430\n",
      "           7       0.90      0.98      0.94       543\n",
      "           8       0.85      0.91      0.88       630\n",
      "           9       0.87      0.99      0.93       470\n",
      "\n",
      "    accuracy                           0.89      3650\n",
      "   macro avg       0.90      0.89      0.89      3650\n",
      "weighted avg       0.90      0.89      0.89      3650\n"
     ]
    }
   ],
   "source": [
    "import pandas as pd\n",
    "import seaborn as sns\n",
    "import matplotlib.pyplot as plt\n",
    "from sklearn.metrics import confusion_matrix, classification_report\n",
    "\n",
    "def print_confusion_matrix(y_true, y_pred, report=True):\n",
    "    labels = sorted(list(set(y_true)))\n",
    "    cmx_data = confusion_matrix(y_true, y_pred, labels=labels)\n",
    "    \n",
    "    df_cmx = pd.DataFrame(cmx_data, index=labels, columns=labels)\n",
    " \n",
    "    fig, ax = plt.subplots(figsize=(7, 6))\n",
    "    sns.heatmap(df_cmx, annot=True, fmt='g' ,square=False)\n",
    "    ax.set_ylim(len(set(y_true)), 0)\n",
    "    plt.show()\n",
    "    \n",
    "    if report:\n",
    "        print('Classification Report')\n",
    "        print(classification_report(y_test, y_pred))\n",
    "\n",
    "Y_pred = model.predict(X_test)\n",
    "y_pred = np.argmax(Y_pred, axis=1)\n",
    "\n",
    "print_confusion_matrix(y_test, y_pred)"
   ]
  },
  {
   "cell_type": "markdown",
   "metadata": {},
   "source": [
    "# Convert to Tensorflow-Lite model"
   ]
  },
  {
   "cell_type": "code",
   "execution_count": 16,
   "metadata": {
    "ExecuteTime": {
     "end_time": "2023-12-03T03:02:11.630535Z",
     "start_time": "2023-12-03T03:02:11.541994200Z"
    }
   },
   "outputs": [],
   "source": [
    "# Save as inference-only model\n",
    "model.save(model_save_path, include_optimizer=False)"
   ]
  },
  {
   "cell_type": "code",
   "execution_count": 17,
   "metadata": {
    "ExecuteTime": {
     "end_time": "2023-12-03T03:02:15.724418300Z",
     "start_time": "2023-12-03T03:02:11.558993400Z"
    }
   },
   "outputs": [
    {
     "name": "stdout",
     "output_type": "stream",
     "text": [
      "INFO:tensorflow:Assets written to: C:\\Users\\sd\\AppData\\Local\\Temp\\tmpt3f3u_0o\\assets\n"
     ]
    },
    {
     "data": {
      "text/plain": "6808"
     },
     "execution_count": 17,
     "metadata": {},
     "output_type": "execute_result"
    }
   ],
   "source": [
    "# Convert model (quantization)\n",
    "tflite_save_path = 'model/keypoint_classifier/keypoint_classifier.tflite'\n",
    "\n",
    "converter = tf.lite.TFLiteConverter.from_keras_model(model)\n",
    "converter.optimizations = [tf.lite.Optimize.DEFAULT]\n",
    "tflite_quantized_model = converter.convert()\n",
    "\n",
    "open(tflite_save_path, 'wb').write(tflite_quantized_model)"
   ]
  },
  {
   "cell_type": "markdown",
   "metadata": {},
   "source": [
    " # Inference test"
   ]
  },
  {
   "cell_type": "code",
   "execution_count": 18,
   "metadata": {
    "ExecuteTime": {
     "end_time": "2023-12-03T03:02:15.764418400Z",
     "start_time": "2023-12-03T03:02:15.721418400Z"
    }
   },
   "outputs": [],
   "source": [
    "interpreter = tf.lite.Interpreter(model_path=tflite_save_path)\n",
    "interpreter.allocate_tensors()"
   ]
  },
  {
   "cell_type": "code",
   "execution_count": 19,
   "metadata": {
    "ExecuteTime": {
     "end_time": "2023-12-03T03:02:15.779419600Z",
     "start_time": "2023-12-03T03:02:15.736418200Z"
    }
   },
   "outputs": [],
   "source": [
    "# Get input and output tensors\n",
    "input_details = interpreter.get_input_details()\n",
    "output_details = interpreter.get_output_details()"
   ]
  },
  {
   "cell_type": "code",
   "execution_count": 20,
   "metadata": {
    "ExecuteTime": {
     "end_time": "2023-12-03T03:02:15.780419100Z",
     "start_time": "2023-12-03T03:02:15.751418200Z"
    }
   },
   "outputs": [],
   "source": [
    "interpreter.set_tensor(input_details[0]['index'], np.array([X_test[0]]))"
   ]
  },
  {
   "cell_type": "code",
   "execution_count": 21,
   "metadata": {
    "scrolled": true,
    "ExecuteTime": {
     "end_time": "2023-12-03T03:02:15.781418500Z",
     "start_time": "2023-12-03T03:02:15.769421600Z"
    }
   },
   "outputs": [
    {
     "name": "stdout",
     "output_type": "stream",
     "text": [
      "CPU times: total: 0 ns\n",
      "Wall time: 0 ns\n"
     ]
    }
   ],
   "source": [
    "%%time\n",
    "# Inference\n",
    "interpreter.invoke()\n",
    "tflite_results = interpreter.get_tensor(output_details[0]['index'])"
   ]
  },
  {
   "cell_type": "code",
   "execution_count": 22,
   "metadata": {
    "ExecuteTime": {
     "end_time": "2023-12-03T03:02:15.841423300Z",
     "start_time": "2023-12-03T03:02:15.783420Z"
    }
   },
   "outputs": [
    {
     "name": "stdout",
     "output_type": "stream",
     "text": [
      "[8.65193363e-03 5.21496594e-01 8.82586235e-08 1.12536345e-05\n",
      " 2.80343611e-05 4.66809392e-01 5.61094780e-08 2.06323154e-08\n",
      " 5.10607497e-04 2.49202899e-03]\n",
      "1\n"
     ]
    }
   ],
   "source": [
    "print(np.squeeze(tflite_results))\n",
    "print(np.argmax(np.squeeze(tflite_results)))"
   ]
  }
 ],
 "metadata": {
  "kernelspec": {
   "display_name": "Python 3",
   "language": "python",
   "name": "python3"
  },
  "language_info": {
   "codemirror_mode": {
    "name": "ipython",
    "version": 3
   },
   "file_extension": ".py",
   "mimetype": "text/x-python",
   "name": "python",
   "nbconvert_exporter": "python",
   "pygments_lexer": "ipython3",
   "version": "3.8.5"
  }
 },
 "nbformat": 4,
 "nbformat_minor": 4
}
