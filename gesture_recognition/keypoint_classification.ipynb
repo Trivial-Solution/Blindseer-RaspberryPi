{
 "cells": [
  {
   "cell_type": "code",
   "execution_count": 1,
   "metadata": {
    "ExecuteTime": {
     "end_time": "2023-10-31T20:14:38.395242Z",
     "start_time": "2023-10-31T20:14:36.207325200Z"
    }
   },
   "outputs": [],
   "source": [
    "import csv\n",
    "\n",
    "import numpy as np\n",
    "import tensorflow as tf\n",
    "from sklearn.model_selection import train_test_split\n",
    "\n",
    "RANDOM_SEED = 42"
   ]
  },
  {
   "cell_type": "markdown",
   "metadata": {},
   "source": [
    "# 各パス指定"
   ]
  },
  {
   "cell_type": "code",
   "execution_count": 2,
   "metadata": {
    "ExecuteTime": {
     "end_time": "2023-10-31T20:14:41.174407200Z",
     "start_time": "2023-10-31T20:14:41.153390700Z"
    }
   },
   "outputs": [],
   "source": [
    "dataset = 'model/keypoint_classifier/keypoint.csv'\n",
    "model_save_path = 'model/keypoint_classifier/keypoint_classifier.hdf5'"
   ]
  },
  {
   "cell_type": "markdown",
   "metadata": {},
   "source": [
    "# 分類数設定"
   ]
  },
  {
   "cell_type": "code",
   "execution_count": 25,
   "metadata": {
    "ExecuteTime": {
     "end_time": "2023-10-31T16:41:32.722865900Z",
     "start_time": "2023-10-31T16:41:32.543765500Z"
    }
   },
   "outputs": [],
   "source": [
    "NUM_CLASSES = 5"
   ]
  },
  {
   "cell_type": "markdown",
   "metadata": {},
   "source": [
    "# 学習データ読み込み"
   ]
  },
  {
   "cell_type": "code",
   "execution_count": 26,
   "metadata": {
    "ExecuteTime": {
     "end_time": "2023-10-31T16:41:32.807390100Z",
     "start_time": "2023-10-31T16:41:32.560766800Z"
    }
   },
   "outputs": [],
   "source": [
    "X_dataset = np.loadtxt(dataset, delimiter=',', dtype='float32', usecols=list(range(1, (21 * 2) + 1)))"
   ]
  },
  {
   "cell_type": "code",
   "execution_count": 27,
   "metadata": {
    "ExecuteTime": {
     "end_time": "2023-10-31T16:41:32.807390100Z",
     "start_time": "2023-10-31T16:41:32.637311100Z"
    }
   },
   "outputs": [],
   "source": [
    "y_dataset = np.loadtxt(dataset, delimiter=',', dtype='int32', usecols=(0))"
   ]
  },
  {
   "cell_type": "code",
   "execution_count": 28,
   "metadata": {
    "ExecuteTime": {
     "end_time": "2023-10-31T16:41:32.808389900Z",
     "start_time": "2023-10-31T16:41:32.669310500Z"
    }
   },
   "outputs": [],
   "source": [
    "X_train, X_test, y_train, y_test = train_test_split(X_dataset, y_dataset, train_size=0.75, random_state=RANDOM_SEED)"
   ]
  },
  {
   "cell_type": "markdown",
   "metadata": {},
   "source": [
    "# モデル構築"
   ]
  },
  {
   "cell_type": "code",
   "execution_count": 29,
   "metadata": {
    "ExecuteTime": {
     "end_time": "2023-10-31T16:41:32.833390800Z",
     "start_time": "2023-10-31T16:41:32.684323700Z"
    }
   },
   "outputs": [],
   "source": [
    "model = tf.keras.models.Sequential([\n",
    "    tf.keras.layers.Input((21 * 2, )),\n",
    "    tf.keras.layers.Dropout(0.2),\n",
    "    tf.keras.layers.Dense(20, activation='relu'),\n",
    "    tf.keras.layers.Dropout(0.4),\n",
    "    tf.keras.layers.Dense(10, activation='relu'),\n",
    "    tf.keras.layers.Dense(NUM_CLASSES, activation='softmax')\n",
    "])"
   ]
  },
  {
   "cell_type": "code",
   "execution_count": 30,
   "metadata": {
    "ExecuteTime": {
     "end_time": "2023-10-31T16:41:32.834390500Z",
     "start_time": "2023-10-31T16:41:32.733866300Z"
    }
   },
   "outputs": [
    {
     "name": "stdout",
     "output_type": "stream",
     "text": [
      "Model: \"sequential_1\"\n",
      "_________________________________________________________________\n",
      " Layer (type)                Output Shape              Param #   \n",
      "=================================================================\n",
      " dropout_2 (Dropout)         (None, 42)                0         \n",
      "                                                                 \n",
      " dense_3 (Dense)             (None, 20)                860       \n",
      "                                                                 \n",
      " dropout_3 (Dropout)         (None, 20)                0         \n",
      "                                                                 \n",
      " dense_4 (Dense)             (None, 10)                210       \n",
      "                                                                 \n",
      " dense_5 (Dense)             (None, 5)                 55        \n",
      "                                                                 \n",
      "=================================================================\n",
      "Total params: 1,125\n",
      "Trainable params: 1,125\n",
      "Non-trainable params: 0\n",
      "_________________________________________________________________\n"
     ]
    }
   ],
   "source": [
    "model.summary()  # tf.keras.utils.plot_model(model, show_shapes=True)"
   ]
  },
  {
   "cell_type": "code",
   "execution_count": 31,
   "metadata": {
    "ExecuteTime": {
     "end_time": "2023-10-31T16:41:32.834390500Z",
     "start_time": "2023-10-31T16:41:32.747867300Z"
    }
   },
   "outputs": [],
   "source": [
    "# モデルチェックポイントのコールバック\n",
    "cp_callback = tf.keras.callbacks.ModelCheckpoint(\n",
    "    model_save_path, verbose=1, save_weights_only=False)\n",
    "# 早期打ち切り用コールバック\n",
    "es_callback = tf.keras.callbacks.EarlyStopping(patience=20, verbose=1)"
   ]
  },
  {
   "cell_type": "code",
   "execution_count": 32,
   "metadata": {
    "ExecuteTime": {
     "end_time": "2023-10-31T16:41:32.834390500Z",
     "start_time": "2023-10-31T16:41:32.767876800Z"
    }
   },
   "outputs": [],
   "source": [
    "# モデルコンパイル\n",
    "model.compile(\n",
    "    optimizer='adam',\n",
    "    loss='sparse_categorical_crossentropy',\n",
    "    metrics=['accuracy']\n",
    ")"
   ]
  },
  {
   "cell_type": "markdown",
   "metadata": {},
   "source": [
    "# モデル訓練"
   ]
  },
  {
   "cell_type": "code",
   "execution_count": 33,
   "metadata": {
    "scrolled": true,
    "ExecuteTime": {
     "end_time": "2023-10-31T16:42:02.256985700Z",
     "start_time": "2023-10-31T16:41:32.779866Z"
    }
   },
   "outputs": [
    {
     "name": "stdout",
     "output_type": "stream",
     "text": [
      "Epoch 1/1000\n",
      "32/33 [============================>.] - ETA: 0s - loss: 1.5041 - accuracy: 0.2703 \n",
      "Epoch 1: saving model to model/keypoint_classifier\\keypoint_classifier.hdf5\n",
      "33/33 [==============================] - 1s 10ms/step - loss: 1.5033 - accuracy: 0.2734 - val_loss: 1.4050 - val_accuracy: 0.3790\n",
      "Epoch 2/1000\n",
      "33/33 [==============================] - ETA: 0s - loss: 1.4092 - accuracy: 0.3310\n",
      "Epoch 2: saving model to model/keypoint_classifier\\keypoint_classifier.hdf5\n",
      "33/33 [==============================] - 0s 4ms/step - loss: 1.4092 - accuracy: 0.3310 - val_loss: 1.3210 - val_accuracy: 0.3776\n",
      "Epoch 3/1000\n",
      "33/33 [==============================] - ETA: 0s - loss: 1.3443 - accuracy: 0.3607\n",
      "Epoch 3: saving model to model/keypoint_classifier\\keypoint_classifier.hdf5\n",
      "33/33 [==============================] - 0s 4ms/step - loss: 1.3443 - accuracy: 0.3607 - val_loss: 1.2579 - val_accuracy: 0.3890\n",
      "Epoch 4/1000\n",
      "33/33 [==============================] - ETA: 0s - loss: 1.3056 - accuracy: 0.3959\n",
      "Epoch 4: saving model to model/keypoint_classifier\\keypoint_classifier.hdf5\n",
      "33/33 [==============================] - 1s 13ms/step - loss: 1.3056 - accuracy: 0.3959 - val_loss: 1.2022 - val_accuracy: 0.4390\n",
      "Epoch 5/1000\n",
      "23/33 [===================>..........] - ETA: 0s - loss: 1.2592 - accuracy: 0.4232\n",
      "Epoch 5: saving model to model/keypoint_classifier\\keypoint_classifier.hdf5\n",
      "33/33 [==============================] - 0s 6ms/step - loss: 1.2502 - accuracy: 0.4266 - val_loss: 1.1356 - val_accuracy: 0.5253\n",
      "Epoch 6/1000\n",
      "24/33 [====================>.........] - ETA: 0s - loss: 1.2027 - accuracy: 0.4639\n",
      "Epoch 6: saving model to model/keypoint_classifier\\keypoint_classifier.hdf5\n",
      "33/33 [==============================] - 0s 4ms/step - loss: 1.2001 - accuracy: 0.4706 - val_loss: 1.0647 - val_accuracy: 0.6324\n",
      "Epoch 7/1000\n",
      "30/33 [==========================>...] - ETA: 0s - loss: 1.1560 - accuracy: 0.4964\n",
      "Epoch 7: saving model to model/keypoint_classifier\\keypoint_classifier.hdf5\n",
      "33/33 [==============================] - 0s 12ms/step - loss: 1.1504 - accuracy: 0.4994 - val_loss: 0.9947 - val_accuracy: 0.7038\n",
      "Epoch 8/1000\n",
      "31/33 [===========================>..] - ETA: 0s - loss: 1.1004 - accuracy: 0.5277\n",
      "Epoch 8: saving model to model/keypoint_classifier\\keypoint_classifier.hdf5\n",
      "33/33 [==============================] - 0s 4ms/step - loss: 1.0984 - accuracy: 0.5296 - val_loss: 0.9183 - val_accuracy: 0.7102\n",
      "Epoch 9/1000\n",
      "29/33 [=========================>....] - ETA: 0s - loss: 1.0503 - accuracy: 0.5485\n",
      "Epoch 9: saving model to model/keypoint_classifier\\keypoint_classifier.hdf5\n",
      "33/33 [==============================] - 0s 5ms/step - loss: 1.0473 - accuracy: 0.5496 - val_loss: 0.8563 - val_accuracy: 0.7209\n",
      "Epoch 10/1000\n",
      "30/33 [==========================>...] - ETA: 0s - loss: 1.0130 - accuracy: 0.5651\n",
      "Epoch 10: saving model to model/keypoint_classifier\\keypoint_classifier.hdf5\n",
      "33/33 [==============================] - 0s 4ms/step - loss: 1.0123 - accuracy: 0.5655 - val_loss: 0.8025 - val_accuracy: 0.7495\n",
      "Epoch 11/1000\n",
      " 1/33 [..............................] - ETA: 0s - loss: 0.9112 - accuracy: 0.6016\n",
      "Epoch 11: saving model to model/keypoint_classifier\\keypoint_classifier.hdf5\n",
      "33/33 [==============================] - 0s 4ms/step - loss: 0.9801 - accuracy: 0.5774 - val_loss: 0.7631 - val_accuracy: 0.7630\n",
      "Epoch 12/1000\n",
      "32/33 [============================>.] - ETA: 0s - loss: 0.9545 - accuracy: 0.6035\n",
      "Epoch 12: saving model to model/keypoint_classifier\\keypoint_classifier.hdf5\n",
      "33/33 [==============================] - 0s 5ms/step - loss: 0.9529 - accuracy: 0.6048 - val_loss: 0.7277 - val_accuracy: 0.7816\n",
      "Epoch 13/1000\n",
      "28/33 [========================>.....] - ETA: 0s - loss: 0.9233 - accuracy: 0.6172\n",
      "Epoch 13: saving model to model/keypoint_classifier\\keypoint_classifier.hdf5\n",
      "33/33 [==============================] - 0s 7ms/step - loss: 0.9181 - accuracy: 0.6212 - val_loss: 0.6947 - val_accuracy: 0.8094\n",
      "Epoch 14/1000\n",
      " 1/33 [..............................] - ETA: 0s - loss: 0.9305 - accuracy: 0.6406\n",
      "Epoch 14: saving model to model/keypoint_classifier\\keypoint_classifier.hdf5\n",
      "33/33 [==============================] - 0s 4ms/step - loss: 0.8991 - accuracy: 0.6274 - val_loss: 0.6680 - val_accuracy: 0.8315\n",
      "Epoch 15/1000\n",
      " 1/33 [..............................] - ETA: 0s - loss: 0.8601 - accuracy: 0.6406\n",
      "Epoch 15: saving model to model/keypoint_classifier\\keypoint_classifier.hdf5\n",
      "33/33 [==============================] - 0s 4ms/step - loss: 0.8757 - accuracy: 0.6422 - val_loss: 0.6408 - val_accuracy: 0.8401\n",
      "Epoch 16/1000\n",
      " 1/33 [..............................] - ETA: 0s - loss: 0.8259 - accuracy: 0.6562\n",
      "Epoch 16: saving model to model/keypoint_classifier\\keypoint_classifier.hdf5\n",
      "33/33 [==============================] - 0s 4ms/step - loss: 0.8539 - accuracy: 0.6624 - val_loss: 0.6122 - val_accuracy: 0.8458\n",
      "Epoch 17/1000\n",
      "33/33 [==============================] - ETA: 0s - loss: 0.8463 - accuracy: 0.6533\n",
      "Epoch 17: saving model to model/keypoint_classifier\\keypoint_classifier.hdf5\n",
      "33/33 [==============================] - 0s 4ms/step - loss: 0.8463 - accuracy: 0.6533 - val_loss: 0.5968 - val_accuracy: 0.8572\n",
      "Epoch 18/1000\n",
      " 1/33 [..............................] - ETA: 0s - loss: 0.9458 - accuracy: 0.6250\n",
      "Epoch 18: saving model to model/keypoint_classifier\\keypoint_classifier.hdf5\n",
      "33/33 [==============================] - 0s 3ms/step - loss: 0.8324 - accuracy: 0.6705 - val_loss: 0.5789 - val_accuracy: 0.8601\n",
      "Epoch 19/1000\n",
      "33/33 [==============================] - ETA: 0s - loss: 0.8145 - accuracy: 0.6771\n",
      "Epoch 19: saving model to model/keypoint_classifier\\keypoint_classifier.hdf5\n",
      "33/33 [==============================] - 0s 4ms/step - loss: 0.8145 - accuracy: 0.6771 - val_loss: 0.5634 - val_accuracy: 0.8608\n",
      "Epoch 20/1000\n",
      "32/33 [============================>.] - ETA: 0s - loss: 0.7961 - accuracy: 0.6763\n",
      "Epoch 20: saving model to model/keypoint_classifier\\keypoint_classifier.hdf5\n",
      "33/33 [==============================] - 0s 8ms/step - loss: 0.7997 - accuracy: 0.6743 - val_loss: 0.5526 - val_accuracy: 0.8672\n",
      "Epoch 21/1000\n",
      "32/33 [============================>.] - ETA: 0s - loss: 0.7946 - accuracy: 0.6858\n",
      "Epoch 21: saving model to model/keypoint_classifier\\keypoint_classifier.hdf5\n",
      "33/33 [==============================] - 0s 4ms/step - loss: 0.7903 - accuracy: 0.6878 - val_loss: 0.5358 - val_accuracy: 0.8680\n",
      "Epoch 22/1000\n",
      "30/33 [==========================>...] - ETA: 0s - loss: 0.7620 - accuracy: 0.7094\n",
      "Epoch 22: saving model to model/keypoint_classifier\\keypoint_classifier.hdf5\n",
      "33/33 [==============================] - 0s 4ms/step - loss: 0.7657 - accuracy: 0.7074 - val_loss: 0.5179 - val_accuracy: 0.8729\n",
      "Epoch 23/1000\n",
      "33/33 [==============================] - ETA: 0s - loss: 0.7670 - accuracy: 0.6921\n",
      "Epoch 23: saving model to model/keypoint_classifier\\keypoint_classifier.hdf5\n",
      "33/33 [==============================] - 0s 4ms/step - loss: 0.7670 - accuracy: 0.6921 - val_loss: 0.5073 - val_accuracy: 0.8715\n",
      "Epoch 24/1000\n",
      "32/33 [============================>.] - ETA: 0s - loss: 0.7777 - accuracy: 0.6921\n",
      "Epoch 24: saving model to model/keypoint_classifier\\keypoint_classifier.hdf5\n",
      "33/33 [==============================] - 0s 4ms/step - loss: 0.7762 - accuracy: 0.6926 - val_loss: 0.4981 - val_accuracy: 0.8758\n",
      "Epoch 25/1000\n",
      "29/33 [=========================>....] - ETA: 0s - loss: 0.7487 - accuracy: 0.7136\n",
      "Epoch 25: saving model to model/keypoint_classifier\\keypoint_classifier.hdf5\n",
      "33/33 [==============================] - 0s 4ms/step - loss: 0.7548 - accuracy: 0.7135 - val_loss: 0.4901 - val_accuracy: 0.8808\n",
      "Epoch 26/1000\n",
      "28/33 [========================>.....] - ETA: 0s - loss: 0.7376 - accuracy: 0.7129\n",
      "Epoch 26: saving model to model/keypoint_classifier\\keypoint_classifier.hdf5\n",
      "33/33 [==============================] - 0s 4ms/step - loss: 0.7396 - accuracy: 0.7093 - val_loss: 0.4742 - val_accuracy: 0.8844\n",
      "Epoch 27/1000\n",
      "27/33 [=======================>......] - ETA: 0s - loss: 0.7352 - accuracy: 0.7173\n",
      "Epoch 27: saving model to model/keypoint_classifier\\keypoint_classifier.hdf5\n",
      "33/33 [==============================] - 0s 4ms/step - loss: 0.7384 - accuracy: 0.7162 - val_loss: 0.4671 - val_accuracy: 0.8872\n",
      "Epoch 28/1000\n",
      " 1/33 [..............................] - ETA: 0s - loss: 0.8101 - accuracy: 0.6641\n",
      "Epoch 28: saving model to model/keypoint_classifier\\keypoint_classifier.hdf5\n",
      "33/33 [==============================] - 0s 4ms/step - loss: 0.7361 - accuracy: 0.7207 - val_loss: 0.4614 - val_accuracy: 0.8936\n",
      "Epoch 29/1000\n",
      " 1/33 [..............................] - ETA: 0s - loss: 0.6504 - accuracy: 0.7969\n",
      "Epoch 29: saving model to model/keypoint_classifier\\keypoint_classifier.hdf5\n",
      "33/33 [==============================] - 0s 4ms/step - loss: 0.7317 - accuracy: 0.7233 - val_loss: 0.4507 - val_accuracy: 0.8879\n",
      "Epoch 30/1000\n",
      " 1/33 [..............................] - ETA: 0s - loss: 0.7437 - accuracy: 0.7031\n",
      "Epoch 30: saving model to model/keypoint_classifier\\keypoint_classifier.hdf5\n",
      "33/33 [==============================] - 0s 4ms/step - loss: 0.7102 - accuracy: 0.7242 - val_loss: 0.4427 - val_accuracy: 0.8972\n",
      "Epoch 31/1000\n",
      " 1/33 [..............................] - ETA: 0s - loss: 0.7757 - accuracy: 0.7031\n",
      "Epoch 31: saving model to model/keypoint_classifier\\keypoint_classifier.hdf5\n",
      "33/33 [==============================] - 0s 3ms/step - loss: 0.6974 - accuracy: 0.7283 - val_loss: 0.4339 - val_accuracy: 0.8979\n",
      "Epoch 32/1000\n",
      " 1/33 [..............................] - ETA: 0s - loss: 0.7846 - accuracy: 0.7422\n",
      "Epoch 32: saving model to model/keypoint_classifier\\keypoint_classifier.hdf5\n",
      "33/33 [==============================] - 0s 4ms/step - loss: 0.7111 - accuracy: 0.7311 - val_loss: 0.4263 - val_accuracy: 0.9072\n",
      "Epoch 33/1000\n",
      "33/33 [==============================] - ETA: 0s - loss: 0.7171 - accuracy: 0.7209\n",
      "Epoch 33: saving model to model/keypoint_classifier\\keypoint_classifier.hdf5\n",
      "33/33 [==============================] - 0s 4ms/step - loss: 0.7171 - accuracy: 0.7209 - val_loss: 0.4224 - val_accuracy: 0.9015\n",
      "Epoch 34/1000\n",
      "22/33 [===================>..........] - ETA: 0s - loss: 0.6870 - accuracy: 0.7376\n",
      "Epoch 34: saving model to model/keypoint_classifier\\keypoint_classifier.hdf5\n",
      "33/33 [==============================] - 0s 7ms/step - loss: 0.6943 - accuracy: 0.7390 - val_loss: 0.4103 - val_accuracy: 0.9136\n",
      "Epoch 35/1000\n",
      " 1/33 [..............................] - ETA: 0s - loss: 0.7145 - accuracy: 0.6719\n",
      "Epoch 35: saving model to model/keypoint_classifier\\keypoint_classifier.hdf5\n",
      "33/33 [==============================] - 0s 4ms/step - loss: 0.6784 - accuracy: 0.7409 - val_loss: 0.4037 - val_accuracy: 0.9172\n",
      "Epoch 36/1000\n",
      " 1/33 [..............................] - ETA: 0s - loss: 0.9482 - accuracy: 0.6406\n",
      "Epoch 36: saving model to model/keypoint_classifier\\keypoint_classifier.hdf5\n",
      "33/33 [==============================] - 0s 4ms/step - loss: 0.7008 - accuracy: 0.7276 - val_loss: 0.4029 - val_accuracy: 0.9236\n",
      "Epoch 37/1000\n",
      "33/33 [==============================] - ETA: 0s - loss: 0.6820 - accuracy: 0.7371\n",
      "Epoch 37: saving model to model/keypoint_classifier\\keypoint_classifier.hdf5\n",
      "33/33 [==============================] - 0s 4ms/step - loss: 0.6820 - accuracy: 0.7371 - val_loss: 0.3918 - val_accuracy: 0.9179\n",
      "Epoch 38/1000\n",
      "32/33 [============================>.] - ETA: 0s - loss: 0.6753 - accuracy: 0.7524\n",
      "Epoch 38: saving model to model/keypoint_classifier\\keypoint_classifier.hdf5\n",
      "33/33 [==============================] - 0s 4ms/step - loss: 0.6739 - accuracy: 0.7521 - val_loss: 0.4010 - val_accuracy: 0.9136\n",
      "Epoch 39/1000\n",
      "32/33 [============================>.] - ETA: 0s - loss: 0.6890 - accuracy: 0.7412\n",
      "Epoch 39: saving model to model/keypoint_classifier\\keypoint_classifier.hdf5\n",
      "33/33 [==============================] - 0s 4ms/step - loss: 0.6914 - accuracy: 0.7385 - val_loss: 0.3878 - val_accuracy: 0.9165\n",
      "Epoch 40/1000\n",
      " 1/33 [..............................] - ETA: 0s - loss: 0.6340 - accuracy: 0.7266\n",
      "Epoch 40: saving model to model/keypoint_classifier\\keypoint_classifier.hdf5\n",
      "33/33 [==============================] - 0s 4ms/step - loss: 0.6785 - accuracy: 0.7438 - val_loss: 0.3874 - val_accuracy: 0.9179\n",
      "Epoch 41/1000\n",
      "32/33 [============================>.] - ETA: 0s - loss: 0.6717 - accuracy: 0.7476\n",
      "Epoch 41: saving model to model/keypoint_classifier\\keypoint_classifier.hdf5\n",
      "33/33 [==============================] - 0s 4ms/step - loss: 0.6696 - accuracy: 0.7492 - val_loss: 0.3820 - val_accuracy: 0.9186\n",
      "Epoch 42/1000\n",
      "28/33 [========================>.....] - ETA: 0s - loss: 0.6710 - accuracy: 0.7422\n",
      "Epoch 42: saving model to model/keypoint_classifier\\keypoint_classifier.hdf5\n",
      "33/33 [==============================] - 0s 4ms/step - loss: 0.6669 - accuracy: 0.7449 - val_loss: 0.3768 - val_accuracy: 0.9265\n",
      "Epoch 43/1000\n",
      "23/33 [===================>..........] - ETA: 0s - loss: 0.6449 - accuracy: 0.7568\n",
      "Epoch 43: saving model to model/keypoint_classifier\\keypoint_classifier.hdf5\n",
      "33/33 [==============================] - 0s 4ms/step - loss: 0.6524 - accuracy: 0.7516 - val_loss: 0.3663 - val_accuracy: 0.9251\n",
      "Epoch 44/1000\n",
      " 1/33 [..............................] - ETA: 0s - loss: 0.6547 - accuracy: 0.7734\n",
      "Epoch 44: saving model to model/keypoint_classifier\\keypoint_classifier.hdf5\n",
      "33/33 [==============================] - 0s 4ms/step - loss: 0.6567 - accuracy: 0.7530 - val_loss: 0.3678 - val_accuracy: 0.9186\n",
      "Epoch 45/1000\n",
      " 1/33 [..............................] - ETA: 0s - loss: 0.6806 - accuracy: 0.7578\n",
      "Epoch 45: saving model to model/keypoint_classifier\\keypoint_classifier.hdf5\n",
      "33/33 [==============================] - 0s 4ms/step - loss: 0.6520 - accuracy: 0.7504 - val_loss: 0.3594 - val_accuracy: 0.9215\n",
      "Epoch 46/1000\n",
      "33/33 [==============================] - ETA: 0s - loss: 0.6643 - accuracy: 0.7454\n",
      "Epoch 46: saving model to model/keypoint_classifier\\keypoint_classifier.hdf5\n",
      "33/33 [==============================] - 0s 4ms/step - loss: 0.6643 - accuracy: 0.7454 - val_loss: 0.3623 - val_accuracy: 0.9208\n",
      "Epoch 47/1000\n",
      "27/33 [=======================>......] - ETA: 0s - loss: 0.6378 - accuracy: 0.7604\n",
      "Epoch 47: saving model to model/keypoint_classifier\\keypoint_classifier.hdf5\n",
      "33/33 [==============================] - 0s 4ms/step - loss: 0.6424 - accuracy: 0.7604 - val_loss: 0.3532 - val_accuracy: 0.9229\n",
      "Epoch 48/1000\n",
      " 1/33 [..............................] - ETA: 0s - loss: 0.6230 - accuracy: 0.7891\n",
      "Epoch 48: saving model to model/keypoint_classifier\\keypoint_classifier.hdf5\n",
      "33/33 [==============================] - 0s 4ms/step - loss: 0.6659 - accuracy: 0.7483 - val_loss: 0.3596 - val_accuracy: 0.9143\n",
      "Epoch 49/1000\n",
      "30/33 [==========================>...] - ETA: 0s - loss: 0.6503 - accuracy: 0.7539\n",
      "Epoch 49: saving model to model/keypoint_classifier\\keypoint_classifier.hdf5\n",
      "33/33 [==============================] - 0s 4ms/step - loss: 0.6439 - accuracy: 0.7573 - val_loss: 0.3484 - val_accuracy: 0.9243\n",
      "Epoch 50/1000\n",
      "29/33 [=========================>....] - ETA: 0s - loss: 0.6227 - accuracy: 0.7624\n",
      "Epoch 50: saving model to model/keypoint_classifier\\keypoint_classifier.hdf5\n",
      "33/33 [==============================] - 0s 5ms/step - loss: 0.6330 - accuracy: 0.7618 - val_loss: 0.3493 - val_accuracy: 0.9151\n",
      "Epoch 51/1000\n",
      "27/33 [=======================>......] - ETA: 0s - loss: 0.6432 - accuracy: 0.7633\n",
      "Epoch 51: saving model to model/keypoint_classifier\\keypoint_classifier.hdf5\n",
      "33/33 [==============================] - 0s 6ms/step - loss: 0.6469 - accuracy: 0.7602 - val_loss: 0.3410 - val_accuracy: 0.9243\n",
      "Epoch 52/1000\n",
      " 1/33 [..............................] - ETA: 0s - loss: 0.5983 - accuracy: 0.7500\n",
      "Epoch 52: saving model to model/keypoint_classifier\\keypoint_classifier.hdf5\n",
      "33/33 [==============================] - 0s 3ms/step - loss: 0.6410 - accuracy: 0.7578 - val_loss: 0.3420 - val_accuracy: 0.9222\n",
      "Epoch 53/1000\n",
      " 1/33 [..............................] - ETA: 0s - loss: 0.6365 - accuracy: 0.7812\n",
      "Epoch 53: saving model to model/keypoint_classifier\\keypoint_classifier.hdf5\n",
      "33/33 [==============================] - 0s 4ms/step - loss: 0.6456 - accuracy: 0.7599 - val_loss: 0.3486 - val_accuracy: 0.9158\n",
      "Epoch 54/1000\n",
      "31/33 [===========================>..] - ETA: 0s - loss: 0.6277 - accuracy: 0.7631\n",
      "Epoch 54: saving model to model/keypoint_classifier\\keypoint_classifier.hdf5\n",
      "33/33 [==============================] - 0s 4ms/step - loss: 0.6284 - accuracy: 0.7642 - val_loss: 0.3396 - val_accuracy: 0.9279\n",
      "Epoch 55/1000\n",
      "25/33 [=====================>........] - ETA: 0s - loss: 0.6566 - accuracy: 0.7622\n",
      "Epoch 55: saving model to model/keypoint_classifier\\keypoint_classifier.hdf5\n",
      "33/33 [==============================] - 0s 4ms/step - loss: 0.6432 - accuracy: 0.7680 - val_loss: 0.3464 - val_accuracy: 0.9165\n",
      "Epoch 56/1000\n",
      "28/33 [========================>.....] - ETA: 0s - loss: 0.6359 - accuracy: 0.7687\n",
      "Epoch 56: saving model to model/keypoint_classifier\\keypoint_classifier.hdf5\n",
      "33/33 [==============================] - 0s 7ms/step - loss: 0.6296 - accuracy: 0.7699 - val_loss: 0.3374 - val_accuracy: 0.9208\n",
      "Epoch 57/1000\n",
      "25/33 [=====================>........] - ETA: 0s - loss: 0.6492 - accuracy: 0.7475\n",
      "Epoch 57: saving model to model/keypoint_classifier\\keypoint_classifier.hdf5\n",
      "33/33 [==============================] - 0s 5ms/step - loss: 0.6394 - accuracy: 0.7530 - val_loss: 0.3328 - val_accuracy: 0.9293\n",
      "Epoch 58/1000\n",
      "32/33 [============================>.] - ETA: 0s - loss: 0.6216 - accuracy: 0.7688\n",
      "Epoch 58: saving model to model/keypoint_classifier\\keypoint_classifier.hdf5\n",
      "33/33 [==============================] - 0s 9ms/step - loss: 0.6231 - accuracy: 0.7671 - val_loss: 0.3277 - val_accuracy: 0.9265\n",
      "Epoch 59/1000\n",
      "23/33 [===================>..........] - ETA: 0s - loss: 0.6125 - accuracy: 0.7721\n",
      "Epoch 59: saving model to model/keypoint_classifier\\keypoint_classifier.hdf5\n",
      "33/33 [==============================] - 0s 5ms/step - loss: 0.6261 - accuracy: 0.7635 - val_loss: 0.3226 - val_accuracy: 0.9300\n",
      "Epoch 60/1000\n",
      "23/33 [===================>..........] - ETA: 0s - loss: 0.6440 - accuracy: 0.7599\n",
      "Epoch 60: saving model to model/keypoint_classifier\\keypoint_classifier.hdf5\n",
      "33/33 [==============================] - 0s 11ms/step - loss: 0.6330 - accuracy: 0.7654 - val_loss: 0.3254 - val_accuracy: 0.9215\n",
      "Epoch 61/1000\n",
      "31/33 [===========================>..] - ETA: 0s - loss: 0.6359 - accuracy: 0.7616\n",
      "Epoch 61: saving model to model/keypoint_classifier\\keypoint_classifier.hdf5\n",
      "33/33 [==============================] - 0s 14ms/step - loss: 0.6342 - accuracy: 0.7628 - val_loss: 0.3234 - val_accuracy: 0.9215\n",
      "Epoch 62/1000\n",
      "32/33 [============================>.] - ETA: 0s - loss: 0.6096 - accuracy: 0.7727\n",
      "Epoch 62: saving model to model/keypoint_classifier\\keypoint_classifier.hdf5\n",
      "33/33 [==============================] - 0s 7ms/step - loss: 0.6144 - accuracy: 0.7718 - val_loss: 0.3225 - val_accuracy: 0.9286\n",
      "Epoch 63/1000\n",
      "17/33 [==============>...............] - ETA: 0s - loss: 0.6400 - accuracy: 0.7518\n",
      "Epoch 63: saving model to model/keypoint_classifier\\keypoint_classifier.hdf5\n",
      "33/33 [==============================] - 0s 5ms/step - loss: 0.6363 - accuracy: 0.7678 - val_loss: 0.3274 - val_accuracy: 0.9286\n",
      "Epoch 64/1000\n",
      "31/33 [===========================>..] - ETA: 0s - loss: 0.6165 - accuracy: 0.7767\n",
      "Epoch 64: saving model to model/keypoint_classifier\\keypoint_classifier.hdf5\n",
      "33/33 [==============================] - 0s 4ms/step - loss: 0.6170 - accuracy: 0.7759 - val_loss: 0.3185 - val_accuracy: 0.9279\n",
      "Epoch 65/1000\n",
      " 1/33 [..............................] - ETA: 0s - loss: 0.5579 - accuracy: 0.8125\n",
      "Epoch 65: saving model to model/keypoint_classifier\\keypoint_classifier.hdf5\n",
      "33/33 [==============================] - 0s 4ms/step - loss: 0.6082 - accuracy: 0.7744 - val_loss: 0.3144 - val_accuracy: 0.9251\n",
      "Epoch 66/1000\n",
      "33/33 [==============================] - ETA: 0s - loss: 0.6031 - accuracy: 0.7783\n",
      "Epoch 66: saving model to model/keypoint_classifier\\keypoint_classifier.hdf5\n",
      "33/33 [==============================] - 0s 4ms/step - loss: 0.6031 - accuracy: 0.7783 - val_loss: 0.3070 - val_accuracy: 0.9343\n",
      "Epoch 67/1000\n",
      " 1/33 [..............................] - ETA: 0s - loss: 0.5779 - accuracy: 0.7812\n",
      "Epoch 67: saving model to model/keypoint_classifier\\keypoint_classifier.hdf5\n",
      "33/33 [==============================] - 0s 4ms/step - loss: 0.6164 - accuracy: 0.7642 - val_loss: 0.3148 - val_accuracy: 0.9300\n",
      "Epoch 68/1000\n",
      "31/33 [===========================>..] - ETA: 0s - loss: 0.6083 - accuracy: 0.7749\n",
      "Epoch 68: saving model to model/keypoint_classifier\\keypoint_classifier.hdf5\n",
      "33/33 [==============================] - 0s 4ms/step - loss: 0.6063 - accuracy: 0.7749 - val_loss: 0.3080 - val_accuracy: 0.9279\n",
      "Epoch 69/1000\n",
      " 1/33 [..............................] - ETA: 0s - loss: 0.5648 - accuracy: 0.7734\n",
      "Epoch 69: saving model to model/keypoint_classifier\\keypoint_classifier.hdf5\n",
      "33/33 [==============================] - 0s 4ms/step - loss: 0.5946 - accuracy: 0.7785 - val_loss: 0.3072 - val_accuracy: 0.9272\n",
      "Epoch 70/1000\n",
      "26/33 [======================>.......] - ETA: 0s - loss: 0.5921 - accuracy: 0.7864\n",
      "Epoch 70: saving model to model/keypoint_classifier\\keypoint_classifier.hdf5\n",
      "33/33 [==============================] - 0s 6ms/step - loss: 0.5923 - accuracy: 0.7868 - val_loss: 0.3031 - val_accuracy: 0.9329\n",
      "Epoch 71/1000\n",
      "28/33 [========================>.....] - ETA: 0s - loss: 0.5971 - accuracy: 0.7787\n",
      "Epoch 71: saving model to model/keypoint_classifier\\keypoint_classifier.hdf5\n",
      "33/33 [==============================] - 0s 7ms/step - loss: 0.5956 - accuracy: 0.7794 - val_loss: 0.3047 - val_accuracy: 0.9272\n",
      "Epoch 72/1000\n",
      "24/33 [====================>.........] - ETA: 0s - loss: 0.5921 - accuracy: 0.7734\n",
      "Epoch 72: saving model to model/keypoint_classifier\\keypoint_classifier.hdf5\n",
      "33/33 [==============================] - 0s 4ms/step - loss: 0.5855 - accuracy: 0.7761 - val_loss: 0.2987 - val_accuracy: 0.9315\n",
      "Epoch 73/1000\n",
      "32/33 [============================>.] - ETA: 0s - loss: 0.6213 - accuracy: 0.7720\n",
      "Epoch 73: saving model to model/keypoint_classifier\\keypoint_classifier.hdf5\n",
      "33/33 [==============================] - 0s 4ms/step - loss: 0.6204 - accuracy: 0.7714 - val_loss: 0.3022 - val_accuracy: 0.9293\n",
      "Epoch 74/1000\n",
      "33/33 [==============================] - ETA: 0s - loss: 0.5834 - accuracy: 0.7754\n",
      "Epoch 74: saving model to model/keypoint_classifier\\keypoint_classifier.hdf5\n",
      "33/33 [==============================] - 0s 4ms/step - loss: 0.5834 - accuracy: 0.7754 - val_loss: 0.2964 - val_accuracy: 0.9322\n",
      "Epoch 75/1000\n",
      "28/33 [========================>.....] - ETA: 0s - loss: 0.6102 - accuracy: 0.7740\n",
      "Epoch 75: saving model to model/keypoint_classifier\\keypoint_classifier.hdf5\n",
      "33/33 [==============================] - 0s 4ms/step - loss: 0.5970 - accuracy: 0.7775 - val_loss: 0.2972 - val_accuracy: 0.9350\n",
      "Epoch 76/1000\n",
      "32/33 [============================>.] - ETA: 0s - loss: 0.6058 - accuracy: 0.7781\n",
      "Epoch 76: saving model to model/keypoint_classifier\\keypoint_classifier.hdf5\n",
      "33/33 [==============================] - 0s 4ms/step - loss: 0.6024 - accuracy: 0.7792 - val_loss: 0.2977 - val_accuracy: 0.9251\n",
      "Epoch 77/1000\n",
      "31/33 [===========================>..] - ETA: 0s - loss: 0.5925 - accuracy: 0.7765\n",
      "Epoch 77: saving model to model/keypoint_classifier\\keypoint_classifier.hdf5\n",
      "33/33 [==============================] - 0s 4ms/step - loss: 0.5882 - accuracy: 0.7780 - val_loss: 0.2977 - val_accuracy: 0.9308\n",
      "Epoch 78/1000\n",
      "28/33 [========================>.....] - ETA: 0s - loss: 0.5982 - accuracy: 0.7765\n",
      "Epoch 78: saving model to model/keypoint_classifier\\keypoint_classifier.hdf5\n",
      "33/33 [==============================] - 0s 4ms/step - loss: 0.6058 - accuracy: 0.7759 - val_loss: 0.2922 - val_accuracy: 0.9308\n",
      "Epoch 79/1000\n",
      "24/33 [====================>.........] - ETA: 0s - loss: 0.5968 - accuracy: 0.7793\n",
      "Epoch 79: saving model to model/keypoint_classifier\\keypoint_classifier.hdf5\n",
      "33/33 [==============================] - 0s 4ms/step - loss: 0.5947 - accuracy: 0.7787 - val_loss: 0.2977 - val_accuracy: 0.9308\n",
      "Epoch 80/1000\n",
      " 1/33 [..............................] - ETA: 0s - loss: 0.4865 - accuracy: 0.8203\n",
      "Epoch 80: saving model to model/keypoint_classifier\\keypoint_classifier.hdf5\n",
      "33/33 [==============================] - 0s 4ms/step - loss: 0.6026 - accuracy: 0.7733 - val_loss: 0.2978 - val_accuracy: 0.9243\n",
      "Epoch 81/1000\n",
      "31/33 [===========================>..] - ETA: 0s - loss: 0.6235 - accuracy: 0.7649\n",
      "Epoch 81: saving model to model/keypoint_classifier\\keypoint_classifier.hdf5\n",
      "33/33 [==============================] - 0s 4ms/step - loss: 0.6197 - accuracy: 0.7661 - val_loss: 0.3012 - val_accuracy: 0.9236\n",
      "Epoch 82/1000\n",
      " 1/33 [..............................] - ETA: 0s - loss: 0.6190 - accuracy: 0.7812\n",
      "Epoch 82: saving model to model/keypoint_classifier\\keypoint_classifier.hdf5\n",
      "33/33 [==============================] - 0s 4ms/step - loss: 0.5885 - accuracy: 0.7792 - val_loss: 0.2907 - val_accuracy: 0.9329\n",
      "Epoch 83/1000\n",
      "33/33 [==============================] - ETA: 0s - loss: 0.6083 - accuracy: 0.7775\n",
      "Epoch 83: saving model to model/keypoint_classifier\\keypoint_classifier.hdf5\n",
      "33/33 [==============================] - 0s 4ms/step - loss: 0.6083 - accuracy: 0.7775 - val_loss: 0.2934 - val_accuracy: 0.9365\n",
      "Epoch 84/1000\n",
      "33/33 [==============================] - ETA: 0s - loss: 0.5873 - accuracy: 0.7821\n",
      "Epoch 84: saving model to model/keypoint_classifier\\keypoint_classifier.hdf5\n",
      "33/33 [==============================] - 0s 4ms/step - loss: 0.5873 - accuracy: 0.7821 - val_loss: 0.2994 - val_accuracy: 0.9336\n",
      "Epoch 85/1000\n",
      "29/33 [=========================>....] - ETA: 0s - loss: 0.5902 - accuracy: 0.7877\n",
      "Epoch 85: saving model to model/keypoint_classifier\\keypoint_classifier.hdf5\n",
      "33/33 [==============================] - 0s 5ms/step - loss: 0.5836 - accuracy: 0.7885 - val_loss: 0.2888 - val_accuracy: 0.9315\n",
      "Epoch 86/1000\n",
      "33/33 [==============================] - ETA: 0s - loss: 0.5915 - accuracy: 0.7859\n",
      "Epoch 86: saving model to model/keypoint_classifier\\keypoint_classifier.hdf5\n",
      "33/33 [==============================] - 0s 4ms/step - loss: 0.5915 - accuracy: 0.7859 - val_loss: 0.2826 - val_accuracy: 0.9379\n",
      "Epoch 87/1000\n",
      "31/33 [===========================>..] - ETA: 0s - loss: 0.5904 - accuracy: 0.7878\n",
      "Epoch 87: saving model to model/keypoint_classifier\\keypoint_classifier.hdf5\n",
      "33/33 [==============================] - 0s 4ms/step - loss: 0.5894 - accuracy: 0.7866 - val_loss: 0.2888 - val_accuracy: 0.9393\n",
      "Epoch 88/1000\n",
      "31/33 [===========================>..] - ETA: 0s - loss: 0.5883 - accuracy: 0.7795\n",
      "Epoch 88: saving model to model/keypoint_classifier\\keypoint_classifier.hdf5\n",
      "33/33 [==============================] - 0s 4ms/step - loss: 0.5873 - accuracy: 0.7804 - val_loss: 0.2863 - val_accuracy: 0.9322\n",
      "Epoch 89/1000\n",
      "31/33 [===========================>..] - ETA: 0s - loss: 0.5950 - accuracy: 0.7838\n",
      "Epoch 89: saving model to model/keypoint_classifier\\keypoint_classifier.hdf5\n",
      "33/33 [==============================] - 0s 4ms/step - loss: 0.5949 - accuracy: 0.7847 - val_loss: 0.2888 - val_accuracy: 0.9386\n",
      "Epoch 90/1000\n",
      "33/33 [==============================] - ETA: 0s - loss: 0.5589 - accuracy: 0.7930\n",
      "Epoch 90: saving model to model/keypoint_classifier\\keypoint_classifier.hdf5\n",
      "33/33 [==============================] - 0s 4ms/step - loss: 0.5589 - accuracy: 0.7930 - val_loss: 0.2821 - val_accuracy: 0.9436\n",
      "Epoch 91/1000\n",
      "29/33 [=========================>....] - ETA: 0s - loss: 0.5921 - accuracy: 0.7761\n",
      "Epoch 91: saving model to model/keypoint_classifier\\keypoint_classifier.hdf5\n",
      "33/33 [==============================] - 0s 4ms/step - loss: 0.6000 - accuracy: 0.7740 - val_loss: 0.2831 - val_accuracy: 0.9372\n",
      "Epoch 92/1000\n",
      "33/33 [==============================] - ETA: 0s - loss: 0.5824 - accuracy: 0.7861\n",
      "Epoch 92: saving model to model/keypoint_classifier\\keypoint_classifier.hdf5\n",
      "33/33 [==============================] - 0s 4ms/step - loss: 0.5824 - accuracy: 0.7861 - val_loss: 0.2789 - val_accuracy: 0.9408\n",
      "Epoch 93/1000\n",
      "33/33 [==============================] - ETA: 0s - loss: 0.5846 - accuracy: 0.7863\n",
      "Epoch 93: saving model to model/keypoint_classifier\\keypoint_classifier.hdf5\n",
      "33/33 [==============================] - 0s 4ms/step - loss: 0.5846 - accuracy: 0.7863 - val_loss: 0.2810 - val_accuracy: 0.9393\n",
      "Epoch 94/1000\n",
      "30/33 [==========================>...] - ETA: 0s - loss: 0.5860 - accuracy: 0.7820\n",
      "Epoch 94: saving model to model/keypoint_classifier\\keypoint_classifier.hdf5\n",
      "33/33 [==============================] - 0s 4ms/step - loss: 0.5828 - accuracy: 0.7861 - val_loss: 0.2815 - val_accuracy: 0.9358\n",
      "Epoch 95/1000\n",
      "32/33 [============================>.] - ETA: 0s - loss: 0.5820 - accuracy: 0.7786\n",
      "Epoch 95: saving model to model/keypoint_classifier\\keypoint_classifier.hdf5\n",
      "33/33 [==============================] - 0s 4ms/step - loss: 0.5838 - accuracy: 0.7785 - val_loss: 0.2820 - val_accuracy: 0.9400\n",
      "Epoch 96/1000\n",
      " 1/33 [..............................] - ETA: 0s - loss: 0.5826 - accuracy: 0.8047\n",
      "Epoch 96: saving model to model/keypoint_classifier\\keypoint_classifier.hdf5\n",
      "33/33 [==============================] - 0s 4ms/step - loss: 0.5966 - accuracy: 0.7780 - val_loss: 0.2815 - val_accuracy: 0.9415\n",
      "Epoch 97/1000\n",
      "29/33 [=========================>....] - ETA: 0s - loss: 0.5879 - accuracy: 0.7866\n",
      "Epoch 97: saving model to model/keypoint_classifier\\keypoint_classifier.hdf5\n",
      "33/33 [==============================] - 0s 4ms/step - loss: 0.5824 - accuracy: 0.7894 - val_loss: 0.2769 - val_accuracy: 0.9415\n",
      "Epoch 98/1000\n",
      "32/33 [============================>.] - ETA: 0s - loss: 0.5899 - accuracy: 0.7822\n",
      "Epoch 98: saving model to model/keypoint_classifier\\keypoint_classifier.hdf5\n",
      "33/33 [==============================] - 0s 4ms/step - loss: 0.5937 - accuracy: 0.7816 - val_loss: 0.2775 - val_accuracy: 0.9429\n",
      "Epoch 99/1000\n",
      "33/33 [==============================] - ETA: 0s - loss: 0.5673 - accuracy: 0.7885\n",
      "Epoch 99: saving model to model/keypoint_classifier\\keypoint_classifier.hdf5\n",
      "33/33 [==============================] - 0s 4ms/step - loss: 0.5673 - accuracy: 0.7885 - val_loss: 0.2745 - val_accuracy: 0.9436\n",
      "Epoch 100/1000\n",
      "31/33 [===========================>..] - ETA: 0s - loss: 0.5860 - accuracy: 0.7782\n",
      "Epoch 100: saving model to model/keypoint_classifier\\keypoint_classifier.hdf5\n",
      "33/33 [==============================] - 0s 4ms/step - loss: 0.5915 - accuracy: 0.7764 - val_loss: 0.2828 - val_accuracy: 0.9358\n",
      "Epoch 101/1000\n",
      "30/33 [==========================>...] - ETA: 0s - loss: 0.5736 - accuracy: 0.7891\n",
      "Epoch 101: saving model to model/keypoint_classifier\\keypoint_classifier.hdf5\n",
      "33/33 [==============================] - 0s 4ms/step - loss: 0.5769 - accuracy: 0.7873 - val_loss: 0.2820 - val_accuracy: 0.9300\n",
      "Epoch 102/1000\n",
      "32/33 [============================>.] - ETA: 0s - loss: 0.5706 - accuracy: 0.7905\n",
      "Epoch 102: saving model to model/keypoint_classifier\\keypoint_classifier.hdf5\n",
      "33/33 [==============================] - 0s 4ms/step - loss: 0.5686 - accuracy: 0.7913 - val_loss: 0.2785 - val_accuracy: 0.9358\n",
      "Epoch 103/1000\n",
      "30/33 [==========================>...] - ETA: 0s - loss: 0.5784 - accuracy: 0.7841\n",
      "Epoch 103: saving model to model/keypoint_classifier\\keypoint_classifier.hdf5\n",
      "33/33 [==============================] - 0s 4ms/step - loss: 0.5819 - accuracy: 0.7818 - val_loss: 0.2815 - val_accuracy: 0.9408\n",
      "Epoch 104/1000\n",
      "25/33 [=====================>........] - ETA: 0s - loss: 0.5678 - accuracy: 0.7884\n",
      "Epoch 104: saving model to model/keypoint_classifier\\keypoint_classifier.hdf5\n",
      "33/33 [==============================] - 0s 6ms/step - loss: 0.5794 - accuracy: 0.7868 - val_loss: 0.2792 - val_accuracy: 0.9393\n",
      "Epoch 105/1000\n",
      " 1/33 [..............................] - ETA: 0s - loss: 0.6422 - accuracy: 0.7500\n",
      "Epoch 105: saving model to model/keypoint_classifier\\keypoint_classifier.hdf5\n",
      "33/33 [==============================] - 0s 4ms/step - loss: 0.6004 - accuracy: 0.7733 - val_loss: 0.2783 - val_accuracy: 0.9358\n",
      "Epoch 106/1000\n",
      " 1/33 [..............................] - ETA: 0s - loss: 0.4997 - accuracy: 0.7969\n",
      "Epoch 106: saving model to model/keypoint_classifier\\keypoint_classifier.hdf5\n",
      "33/33 [==============================] - 0s 4ms/step - loss: 0.5555 - accuracy: 0.7994 - val_loss: 0.2711 - val_accuracy: 0.9422\n",
      "Epoch 107/1000\n",
      "33/33 [==============================] - ETA: 0s - loss: 0.5771 - accuracy: 0.7909\n",
      "Epoch 107: saving model to model/keypoint_classifier\\keypoint_classifier.hdf5\n",
      "33/33 [==============================] - 0s 4ms/step - loss: 0.5771 - accuracy: 0.7909 - val_loss: 0.2764 - val_accuracy: 0.9415\n",
      "Epoch 108/1000\n",
      " 1/33 [..............................] - ETA: 0s - loss: 0.7368 - accuracy: 0.7344\n",
      "Epoch 108: saving model to model/keypoint_classifier\\keypoint_classifier.hdf5\n",
      "33/33 [==============================] - 0s 4ms/step - loss: 0.5622 - accuracy: 0.7944 - val_loss: 0.2761 - val_accuracy: 0.9458\n",
      "Epoch 109/1000\n",
      " 1/33 [..............................] - ETA: 0s - loss: 0.6895 - accuracy: 0.7344\n",
      "Epoch 109: saving model to model/keypoint_classifier\\keypoint_classifier.hdf5\n",
      "33/33 [==============================] - 0s 4ms/step - loss: 0.5706 - accuracy: 0.7935 - val_loss: 0.2744 - val_accuracy: 0.9415\n",
      "Epoch 110/1000\n",
      "33/33 [==============================] - ETA: 0s - loss: 0.5616 - accuracy: 0.7866\n",
      "Epoch 110: saving model to model/keypoint_classifier\\keypoint_classifier.hdf5\n",
      "33/33 [==============================] - 0s 4ms/step - loss: 0.5616 - accuracy: 0.7866 - val_loss: 0.2689 - val_accuracy: 0.9458\n",
      "Epoch 111/1000\n",
      "29/33 [=========================>....] - ETA: 0s - loss: 0.5647 - accuracy: 0.7904\n",
      "Epoch 111: saving model to model/keypoint_classifier\\keypoint_classifier.hdf5\n",
      "33/33 [==============================] - 0s 4ms/step - loss: 0.5622 - accuracy: 0.7916 - val_loss: 0.2710 - val_accuracy: 0.9415\n",
      "Epoch 112/1000\n",
      " 1/33 [..............................] - ETA: 0s - loss: 0.6754 - accuracy: 0.7734\n",
      "Epoch 112: saving model to model/keypoint_classifier\\keypoint_classifier.hdf5\n",
      "33/33 [==============================] - 0s 4ms/step - loss: 0.5785 - accuracy: 0.7835 - val_loss: 0.2667 - val_accuracy: 0.9458\n",
      "Epoch 113/1000\n",
      " 1/33 [..............................] - ETA: 0s - loss: 0.6304 - accuracy: 0.7891\n",
      "Epoch 113: saving model to model/keypoint_classifier\\keypoint_classifier.hdf5\n",
      "33/33 [==============================] - 0s 4ms/step - loss: 0.5660 - accuracy: 0.7899 - val_loss: 0.2665 - val_accuracy: 0.9436\n",
      "Epoch 114/1000\n",
      "33/33 [==============================] - ETA: 0s - loss: 0.5677 - accuracy: 0.7830\n",
      "Epoch 114: saving model to model/keypoint_classifier\\keypoint_classifier.hdf5\n",
      "33/33 [==============================] - 0s 4ms/step - loss: 0.5677 - accuracy: 0.7830 - val_loss: 0.2695 - val_accuracy: 0.9393\n",
      "Epoch 115/1000\n",
      "33/33 [==============================] - ETA: 0s - loss: 0.5763 - accuracy: 0.7840\n",
      "Epoch 115: saving model to model/keypoint_classifier\\keypoint_classifier.hdf5\n",
      "33/33 [==============================] - 0s 4ms/step - loss: 0.5763 - accuracy: 0.7840 - val_loss: 0.2677 - val_accuracy: 0.9436\n",
      "Epoch 116/1000\n",
      "32/33 [============================>.] - ETA: 0s - loss: 0.5717 - accuracy: 0.7859\n",
      "Epoch 116: saving model to model/keypoint_classifier\\keypoint_classifier.hdf5\n",
      "33/33 [==============================] - 0s 4ms/step - loss: 0.5723 - accuracy: 0.7856 - val_loss: 0.2619 - val_accuracy: 0.9458\n",
      "Epoch 117/1000\n",
      "33/33 [==============================] - ETA: 0s - loss: 0.5729 - accuracy: 0.7906\n",
      "Epoch 117: saving model to model/keypoint_classifier\\keypoint_classifier.hdf5\n",
      "33/33 [==============================] - 0s 10ms/step - loss: 0.5729 - accuracy: 0.7906 - val_loss: 0.2721 - val_accuracy: 0.9386\n",
      "Epoch 118/1000\n",
      "13/33 [==========>...................] - ETA: 0s - loss: 0.5587 - accuracy: 0.7885\n",
      "Epoch 118: saving model to model/keypoint_classifier\\keypoint_classifier.hdf5\n",
      "33/33 [==============================] - 0s 5ms/step - loss: 0.5542 - accuracy: 0.7956 - val_loss: 0.2721 - val_accuracy: 0.9365\n",
      "Epoch 119/1000\n",
      "30/33 [==========================>...] - ETA: 0s - loss: 0.5793 - accuracy: 0.7956\n",
      "Epoch 119: saving model to model/keypoint_classifier\\keypoint_classifier.hdf5\n",
      "33/33 [==============================] - 0s 4ms/step - loss: 0.5798 - accuracy: 0.7944 - val_loss: 0.2675 - val_accuracy: 0.9393\n",
      "Epoch 120/1000\n",
      "29/33 [=========================>....] - ETA: 0s - loss: 0.5671 - accuracy: 0.7934\n",
      "Epoch 120: saving model to model/keypoint_classifier\\keypoint_classifier.hdf5\n",
      "33/33 [==============================] - 0s 4ms/step - loss: 0.5675 - accuracy: 0.7909 - val_loss: 0.2668 - val_accuracy: 0.9429\n",
      "Epoch 121/1000\n",
      "31/33 [===========================>..] - ETA: 0s - loss: 0.5739 - accuracy: 0.7873\n",
      "Epoch 121: saving model to model/keypoint_classifier\\keypoint_classifier.hdf5\n",
      "33/33 [==============================] - 0s 4ms/step - loss: 0.5699 - accuracy: 0.7885 - val_loss: 0.2662 - val_accuracy: 0.9450\n",
      "Epoch 122/1000\n",
      "30/33 [==========================>...] - ETA: 0s - loss: 0.5668 - accuracy: 0.7896\n",
      "Epoch 122: saving model to model/keypoint_classifier\\keypoint_classifier.hdf5\n",
      "33/33 [==============================] - 0s 4ms/step - loss: 0.5612 - accuracy: 0.7916 - val_loss: 0.2637 - val_accuracy: 0.9443\n",
      "Epoch 123/1000\n",
      "28/33 [========================>.....] - ETA: 0s - loss: 0.5420 - accuracy: 0.7985\n",
      "Epoch 123: saving model to model/keypoint_classifier\\keypoint_classifier.hdf5\n",
      "33/33 [==============================] - 0s 5ms/step - loss: 0.5496 - accuracy: 0.7978 - val_loss: 0.2674 - val_accuracy: 0.9436\n",
      "Epoch 124/1000\n",
      "12/33 [=========>....................] - ETA: 0s - loss: 0.5753 - accuracy: 0.7858\n",
      "Epoch 124: saving model to model/keypoint_classifier\\keypoint_classifier.hdf5\n",
      "33/33 [==============================] - 0s 5ms/step - loss: 0.5685 - accuracy: 0.7906 - val_loss: 0.2607 - val_accuracy: 0.9458\n",
      "Epoch 125/1000\n",
      "31/33 [===========================>..] - ETA: 0s - loss: 0.5737 - accuracy: 0.7976\n",
      "Epoch 125: saving model to model/keypoint_classifier\\keypoint_classifier.hdf5\n",
      "33/33 [==============================] - 0s 4ms/step - loss: 0.5720 - accuracy: 0.7978 - val_loss: 0.2595 - val_accuracy: 0.9443\n",
      "Epoch 126/1000\n",
      "30/33 [==========================>...] - ETA: 0s - loss: 0.5634 - accuracy: 0.7906\n",
      "Epoch 126: saving model to model/keypoint_classifier\\keypoint_classifier.hdf5\n",
      "33/33 [==============================] - 0s 4ms/step - loss: 0.5625 - accuracy: 0.7909 - val_loss: 0.2606 - val_accuracy: 0.9422\n",
      "Epoch 127/1000\n",
      "32/33 [============================>.] - ETA: 0s - loss: 0.5637 - accuracy: 0.7883\n",
      "Epoch 127: saving model to model/keypoint_classifier\\keypoint_classifier.hdf5\n",
      "33/33 [==============================] - 0s 4ms/step - loss: 0.5639 - accuracy: 0.7878 - val_loss: 0.2622 - val_accuracy: 0.9408\n",
      "Epoch 128/1000\n",
      "27/33 [=======================>......] - ETA: 0s - loss: 0.5615 - accuracy: 0.7896\n",
      "Epoch 128: saving model to model/keypoint_classifier\\keypoint_classifier.hdf5\n",
      "33/33 [==============================] - 0s 4ms/step - loss: 0.5617 - accuracy: 0.7856 - val_loss: 0.2622 - val_accuracy: 0.9422\n",
      "Epoch 129/1000\n",
      "33/33 [==============================] - ETA: 0s - loss: 0.5514 - accuracy: 0.7978\n",
      "Epoch 129: saving model to model/keypoint_classifier\\keypoint_classifier.hdf5\n",
      "33/33 [==============================] - 0s 4ms/step - loss: 0.5514 - accuracy: 0.7978 - val_loss: 0.2602 - val_accuracy: 0.9408\n",
      "Epoch 130/1000\n",
      "29/33 [=========================>....] - ETA: 0s - loss: 0.5564 - accuracy: 0.7990\n",
      "Epoch 130: saving model to model/keypoint_classifier\\keypoint_classifier.hdf5\n",
      "33/33 [==============================] - 0s 4ms/step - loss: 0.5634 - accuracy: 0.7994 - val_loss: 0.2610 - val_accuracy: 0.9458\n",
      "Epoch 131/1000\n",
      "29/33 [=========================>....] - ETA: 0s - loss: 0.5699 - accuracy: 0.7961\n",
      "Epoch 131: saving model to model/keypoint_classifier\\keypoint_classifier.hdf5\n",
      "33/33 [==============================] - 0s 4ms/step - loss: 0.5606 - accuracy: 0.7987 - val_loss: 0.2570 - val_accuracy: 0.9472\n",
      "Epoch 132/1000\n",
      "32/33 [============================>.] - ETA: 0s - loss: 0.5662 - accuracy: 0.7915\n",
      "Epoch 132: saving model to model/keypoint_classifier\\keypoint_classifier.hdf5\n",
      "33/33 [==============================] - 0s 4ms/step - loss: 0.5639 - accuracy: 0.7923 - val_loss: 0.2522 - val_accuracy: 0.9450\n",
      "Epoch 133/1000\n",
      "32/33 [============================>.] - ETA: 0s - loss: 0.5607 - accuracy: 0.8044\n",
      "Epoch 133: saving model to model/keypoint_classifier\\keypoint_classifier.hdf5\n",
      "33/33 [==============================] - 0s 4ms/step - loss: 0.5628 - accuracy: 0.8035 - val_loss: 0.2581 - val_accuracy: 0.9479\n",
      "Epoch 134/1000\n",
      "33/33 [==============================] - ETA: 0s - loss: 0.5635 - accuracy: 0.7921\n",
      "Epoch 134: saving model to model/keypoint_classifier\\keypoint_classifier.hdf5\n",
      "33/33 [==============================] - 0s 4ms/step - loss: 0.5635 - accuracy: 0.7921 - val_loss: 0.2581 - val_accuracy: 0.9443\n",
      "Epoch 135/1000\n",
      "23/33 [===================>..........] - ETA: 0s - loss: 0.5696 - accuracy: 0.7846\n",
      "Epoch 135: saving model to model/keypoint_classifier\\keypoint_classifier.hdf5\n",
      "33/33 [==============================] - 0s 5ms/step - loss: 0.5622 - accuracy: 0.7921 - val_loss: 0.2606 - val_accuracy: 0.9422\n",
      "Epoch 136/1000\n",
      "31/33 [===========================>..] - ETA: 0s - loss: 0.5481 - accuracy: 0.8039\n",
      "Epoch 136: saving model to model/keypoint_classifier\\keypoint_classifier.hdf5\n",
      "33/33 [==============================] - 0s 4ms/step - loss: 0.5483 - accuracy: 0.8035 - val_loss: 0.2572 - val_accuracy: 0.9458\n",
      "Epoch 137/1000\n",
      "33/33 [==============================] - ETA: 0s - loss: 0.5699 - accuracy: 0.7918\n",
      "Epoch 137: saving model to model/keypoint_classifier\\keypoint_classifier.hdf5\n",
      "33/33 [==============================] - 0s 4ms/step - loss: 0.5699 - accuracy: 0.7918 - val_loss: 0.2581 - val_accuracy: 0.9458\n",
      "Epoch 138/1000\n",
      "22/33 [===================>..........] - ETA: 0s - loss: 0.5552 - accuracy: 0.8015\n",
      "Epoch 138: saving model to model/keypoint_classifier\\keypoint_classifier.hdf5\n",
      "33/33 [==============================] - 0s 7ms/step - loss: 0.5567 - accuracy: 0.7978 - val_loss: 0.2575 - val_accuracy: 0.9465\n",
      "Epoch 139/1000\n",
      "33/33 [==============================] - ETA: 0s - loss: 0.5476 - accuracy: 0.7935\n",
      "Epoch 139: saving model to model/keypoint_classifier\\keypoint_classifier.hdf5\n",
      "33/33 [==============================] - 0s 4ms/step - loss: 0.5476 - accuracy: 0.7935 - val_loss: 0.2518 - val_accuracy: 0.9458\n",
      "Epoch 140/1000\n",
      "33/33 [==============================] - ETA: 0s - loss: 0.5636 - accuracy: 0.7970\n",
      "Epoch 140: saving model to model/keypoint_classifier\\keypoint_classifier.hdf5\n",
      "33/33 [==============================] - 0s 4ms/step - loss: 0.5636 - accuracy: 0.7970 - val_loss: 0.2612 - val_accuracy: 0.9422\n",
      "Epoch 141/1000\n",
      " 1/33 [..............................] - ETA: 0s - loss: 0.5264 - accuracy: 0.8281\n",
      "Epoch 141: saving model to model/keypoint_classifier\\keypoint_classifier.hdf5\n",
      "33/33 [==============================] - 0s 4ms/step - loss: 0.5365 - accuracy: 0.7975 - val_loss: 0.2562 - val_accuracy: 0.9415\n",
      "Epoch 142/1000\n",
      "33/33 [==============================] - ETA: 0s - loss: 0.5384 - accuracy: 0.8004\n",
      "Epoch 142: saving model to model/keypoint_classifier\\keypoint_classifier.hdf5\n",
      "33/33 [==============================] - 0s 4ms/step - loss: 0.5384 - accuracy: 0.8004 - val_loss: 0.2511 - val_accuracy: 0.9500\n",
      "Epoch 143/1000\n",
      "32/33 [============================>.] - ETA: 0s - loss: 0.5490 - accuracy: 0.8000\n",
      "Epoch 143: saving model to model/keypoint_classifier\\keypoint_classifier.hdf5\n",
      "33/33 [==============================] - 0s 4ms/step - loss: 0.5459 - accuracy: 0.8023 - val_loss: 0.2546 - val_accuracy: 0.9479\n",
      "Epoch 144/1000\n",
      "31/33 [===========================>..] - ETA: 0s - loss: 0.5505 - accuracy: 0.7944\n",
      "Epoch 144: saving model to model/keypoint_classifier\\keypoint_classifier.hdf5\n",
      "33/33 [==============================] - 0s 5ms/step - loss: 0.5502 - accuracy: 0.7942 - val_loss: 0.2498 - val_accuracy: 0.9465\n",
      "Epoch 145/1000\n",
      "23/33 [===================>..........] - ETA: 0s - loss: 0.5300 - accuracy: 0.8047\n",
      "Epoch 145: saving model to model/keypoint_classifier\\keypoint_classifier.hdf5\n",
      "33/33 [==============================] - 0s 5ms/step - loss: 0.5318 - accuracy: 0.8080 - val_loss: 0.2500 - val_accuracy: 0.9443\n",
      "Epoch 146/1000\n",
      "33/33 [==============================] - ETA: 0s - loss: 0.5681 - accuracy: 0.7911\n",
      "Epoch 146: saving model to model/keypoint_classifier\\keypoint_classifier.hdf5\n",
      "33/33 [==============================] - 0s 4ms/step - loss: 0.5681 - accuracy: 0.7911 - val_loss: 0.2525 - val_accuracy: 0.9443\n",
      "Epoch 147/1000\n",
      "32/33 [============================>.] - ETA: 0s - loss: 0.5599 - accuracy: 0.7993\n",
      "Epoch 147: saving model to model/keypoint_classifier\\keypoint_classifier.hdf5\n",
      "33/33 [==============================] - 0s 4ms/step - loss: 0.5585 - accuracy: 0.7994 - val_loss: 0.2536 - val_accuracy: 0.9443\n",
      "Epoch 148/1000\n",
      "33/33 [==============================] - ETA: 0s - loss: 0.5474 - accuracy: 0.8004\n",
      "Epoch 148: saving model to model/keypoint_classifier\\keypoint_classifier.hdf5\n",
      "33/33 [==============================] - 0s 4ms/step - loss: 0.5474 - accuracy: 0.8004 - val_loss: 0.2496 - val_accuracy: 0.9486\n",
      "Epoch 149/1000\n",
      "33/33 [==============================] - ETA: 0s - loss: 0.5563 - accuracy: 0.7928\n",
      "Epoch 149: saving model to model/keypoint_classifier\\keypoint_classifier.hdf5\n",
      "33/33 [==============================] - 0s 4ms/step - loss: 0.5563 - accuracy: 0.7928 - val_loss: 0.2492 - val_accuracy: 0.9458\n",
      "Epoch 150/1000\n",
      "33/33 [==============================] - ETA: 0s - loss: 0.5543 - accuracy: 0.8006\n",
      "Epoch 150: saving model to model/keypoint_classifier\\keypoint_classifier.hdf5\n",
      "33/33 [==============================] - 0s 4ms/step - loss: 0.5543 - accuracy: 0.8006 - val_loss: 0.2615 - val_accuracy: 0.9422\n",
      "Epoch 151/1000\n",
      "33/33 [==============================] - ETA: 0s - loss: 0.5385 - accuracy: 0.8097\n",
      "Epoch 151: saving model to model/keypoint_classifier\\keypoint_classifier.hdf5\n",
      "33/33 [==============================] - 0s 4ms/step - loss: 0.5385 - accuracy: 0.8097 - val_loss: 0.2537 - val_accuracy: 0.9450\n",
      "Epoch 152/1000\n",
      "29/33 [=========================>....] - ETA: 0s - loss: 0.5371 - accuracy: 0.8033\n",
      "Epoch 152: saving model to model/keypoint_classifier\\keypoint_classifier.hdf5\n",
      "33/33 [==============================] - 0s 4ms/step - loss: 0.5352 - accuracy: 0.8063 - val_loss: 0.2537 - val_accuracy: 0.9429\n",
      "Epoch 153/1000\n",
      "29/33 [=========================>....] - ETA: 0s - loss: 0.5528 - accuracy: 0.8012\n",
      "Epoch 153: saving model to model/keypoint_classifier\\keypoint_classifier.hdf5\n",
      "33/33 [==============================] - 0s 4ms/step - loss: 0.5544 - accuracy: 0.8001 - val_loss: 0.2522 - val_accuracy: 0.9429\n",
      "Epoch 154/1000\n",
      "33/33 [==============================] - ETA: 0s - loss: 0.5376 - accuracy: 0.8018\n",
      "Epoch 154: saving model to model/keypoint_classifier\\keypoint_classifier.hdf5\n",
      "33/33 [==============================] - 0s 4ms/step - loss: 0.5376 - accuracy: 0.8018 - val_loss: 0.2496 - val_accuracy: 0.9443\n",
      "Epoch 155/1000\n",
      "32/33 [============================>.] - ETA: 0s - loss: 0.5622 - accuracy: 0.7966\n",
      "Epoch 155: saving model to model/keypoint_classifier\\keypoint_classifier.hdf5\n",
      "33/33 [==============================] - 0s 4ms/step - loss: 0.5594 - accuracy: 0.7963 - val_loss: 0.2604 - val_accuracy: 0.9400\n",
      "Epoch 156/1000\n",
      "30/33 [==========================>...] - ETA: 0s - loss: 0.5529 - accuracy: 0.7974\n",
      "Epoch 156: saving model to model/keypoint_classifier\\keypoint_classifier.hdf5\n",
      "33/33 [==============================] - 0s 4ms/step - loss: 0.5577 - accuracy: 0.7949 - val_loss: 0.2552 - val_accuracy: 0.9458\n",
      "Epoch 157/1000\n",
      "32/33 [============================>.] - ETA: 0s - loss: 0.5477 - accuracy: 0.8040\n",
      "Epoch 157: saving model to model/keypoint_classifier\\keypoint_classifier.hdf5\n",
      "33/33 [==============================] - 0s 4ms/step - loss: 0.5466 - accuracy: 0.8032 - val_loss: 0.2584 - val_accuracy: 0.9443\n",
      "Epoch 158/1000\n",
      "29/33 [=========================>....] - ETA: 0s - loss: 0.5603 - accuracy: 0.7896\n",
      "Epoch 158: saving model to model/keypoint_classifier\\keypoint_classifier.hdf5\n",
      "33/33 [==============================] - 0s 4ms/step - loss: 0.5568 - accuracy: 0.7921 - val_loss: 0.2565 - val_accuracy: 0.9436\n",
      "Epoch 159/1000\n",
      "29/33 [=========================>....] - ETA: 0s - loss: 0.5380 - accuracy: 0.8033\n",
      "Epoch 159: saving model to model/keypoint_classifier\\keypoint_classifier.hdf5\n",
      "33/33 [==============================] - 0s 4ms/step - loss: 0.5413 - accuracy: 0.8018 - val_loss: 0.2487 - val_accuracy: 0.9465\n",
      "Epoch 160/1000\n",
      "20/33 [=================>............] - ETA: 0s - loss: 0.5581 - accuracy: 0.8027\n",
      "Epoch 160: saving model to model/keypoint_classifier\\keypoint_classifier.hdf5\n",
      "33/33 [==============================] - 0s 5ms/step - loss: 0.5621 - accuracy: 0.8013 - val_loss: 0.2465 - val_accuracy: 0.9458\n",
      "Epoch 161/1000\n",
      "31/33 [===========================>..] - ETA: 0s - loss: 0.5679 - accuracy: 0.7944\n",
      "Epoch 161: saving model to model/keypoint_classifier\\keypoint_classifier.hdf5\n",
      "33/33 [==============================] - 0s 4ms/step - loss: 0.5679 - accuracy: 0.7949 - val_loss: 0.2464 - val_accuracy: 0.9450\n",
      "Epoch 162/1000\n",
      "18/33 [===============>..............] - ETA: 0s - loss: 0.5518 - accuracy: 0.8008\n",
      "Epoch 162: saving model to model/keypoint_classifier\\keypoint_classifier.hdf5\n",
      "33/33 [==============================] - 0s 5ms/step - loss: 0.5340 - accuracy: 0.8073 - val_loss: 0.2519 - val_accuracy: 0.9429\n",
      "Epoch 163/1000\n",
      "32/33 [============================>.] - ETA: 0s - loss: 0.5311 - accuracy: 0.8057\n",
      "Epoch 163: saving model to model/keypoint_classifier\\keypoint_classifier.hdf5\n",
      "33/33 [==============================] - 0s 4ms/step - loss: 0.5333 - accuracy: 0.8047 - val_loss: 0.2494 - val_accuracy: 0.9458\n",
      "Epoch 164/1000\n",
      "29/33 [=========================>....] - ETA: 0s - loss: 0.5422 - accuracy: 0.7947\n",
      "Epoch 164: saving model to model/keypoint_classifier\\keypoint_classifier.hdf5\n",
      "33/33 [==============================] - 0s 4ms/step - loss: 0.5436 - accuracy: 0.7968 - val_loss: 0.2506 - val_accuracy: 0.9500\n",
      "Epoch 165/1000\n",
      "32/33 [============================>.] - ETA: 0s - loss: 0.5443 - accuracy: 0.7988\n",
      "Epoch 165: saving model to model/keypoint_classifier\\keypoint_classifier.hdf5\n",
      "33/33 [==============================] - 0s 4ms/step - loss: 0.5453 - accuracy: 0.7980 - val_loss: 0.2462 - val_accuracy: 0.9458\n",
      "Epoch 166/1000\n",
      "31/33 [===========================>..] - ETA: 0s - loss: 0.5344 - accuracy: 0.8062\n",
      "Epoch 166: saving model to model/keypoint_classifier\\keypoint_classifier.hdf5\n",
      "33/33 [==============================] - 0s 4ms/step - loss: 0.5335 - accuracy: 0.8054 - val_loss: 0.2499 - val_accuracy: 0.9422\n",
      "Epoch 167/1000\n",
      "30/33 [==========================>...] - ETA: 0s - loss: 0.5254 - accuracy: 0.8141\n",
      "Epoch 167: saving model to model/keypoint_classifier\\keypoint_classifier.hdf5\n",
      "33/33 [==============================] - 0s 4ms/step - loss: 0.5321 - accuracy: 0.8087 - val_loss: 0.2441 - val_accuracy: 0.9479\n",
      "Epoch 168/1000\n",
      "33/33 [==============================] - ETA: 0s - loss: 0.5455 - accuracy: 0.8030\n",
      "Epoch 168: saving model to model/keypoint_classifier\\keypoint_classifier.hdf5\n",
      "33/33 [==============================] - 0s 4ms/step - loss: 0.5455 - accuracy: 0.8030 - val_loss: 0.2465 - val_accuracy: 0.9493\n",
      "Epoch 169/1000\n",
      "31/33 [===========================>..] - ETA: 0s - loss: 0.5273 - accuracy: 0.8027\n",
      "Epoch 169: saving model to model/keypoint_classifier\\keypoint_classifier.hdf5\n",
      "33/33 [==============================] - 0s 4ms/step - loss: 0.5228 - accuracy: 0.8061 - val_loss: 0.2441 - val_accuracy: 0.9507\n",
      "Epoch 170/1000\n",
      "31/33 [===========================>..] - ETA: 0s - loss: 0.5498 - accuracy: 0.7986\n",
      "Epoch 170: saving model to model/keypoint_classifier\\keypoint_classifier.hdf5\n",
      "33/33 [==============================] - 0s 4ms/step - loss: 0.5485 - accuracy: 0.7975 - val_loss: 0.2528 - val_accuracy: 0.9450\n",
      "Epoch 171/1000\n",
      "32/33 [============================>.] - ETA: 0s - loss: 0.5363 - accuracy: 0.8052\n",
      "Epoch 171: saving model to model/keypoint_classifier\\keypoint_classifier.hdf5\n",
      "33/33 [==============================] - 0s 4ms/step - loss: 0.5326 - accuracy: 0.8054 - val_loss: 0.2458 - val_accuracy: 0.9443\n",
      "Epoch 172/1000\n",
      "24/33 [====================>.........] - ETA: 0s - loss: 0.5405 - accuracy: 0.8076\n",
      "Epoch 172: saving model to model/keypoint_classifier\\keypoint_classifier.hdf5\n",
      "33/33 [==============================] - 0s 4ms/step - loss: 0.5418 - accuracy: 0.8042 - val_loss: 0.2385 - val_accuracy: 0.9465\n",
      "Epoch 173/1000\n",
      " 1/33 [..............................] - ETA: 0s - loss: 0.4516 - accuracy: 0.7969\n",
      "Epoch 173: saving model to model/keypoint_classifier\\keypoint_classifier.hdf5\n",
      "33/33 [==============================] - 0s 4ms/step - loss: 0.5434 - accuracy: 0.7944 - val_loss: 0.2454 - val_accuracy: 0.9450\n",
      "Epoch 174/1000\n",
      "29/33 [=========================>....] - ETA: 0s - loss: 0.5365 - accuracy: 0.7982\n",
      "Epoch 174: saving model to model/keypoint_classifier\\keypoint_classifier.hdf5\n",
      "33/33 [==============================] - 0s 4ms/step - loss: 0.5450 - accuracy: 0.7973 - val_loss: 0.2488 - val_accuracy: 0.9422\n",
      "Epoch 175/1000\n",
      "32/33 [============================>.] - ETA: 0s - loss: 0.5546 - accuracy: 0.7974\n",
      "Epoch 175: saving model to model/keypoint_classifier\\keypoint_classifier.hdf5\n",
      "33/33 [==============================] - 0s 4ms/step - loss: 0.5511 - accuracy: 0.7985 - val_loss: 0.2547 - val_accuracy: 0.9443\n",
      "Epoch 176/1000\n",
      "33/33 [==============================] - ETA: 0s - loss: 0.5413 - accuracy: 0.8023\n",
      "Epoch 176: saving model to model/keypoint_classifier\\keypoint_classifier.hdf5\n",
      "33/33 [==============================] - 0s 4ms/step - loss: 0.5413 - accuracy: 0.8023 - val_loss: 0.2561 - val_accuracy: 0.9436\n",
      "Epoch 177/1000\n",
      "33/33 [==============================] - ETA: 0s - loss: 0.5439 - accuracy: 0.7994\n",
      "Epoch 177: saving model to model/keypoint_classifier\\keypoint_classifier.hdf5\n",
      "33/33 [==============================] - 0s 4ms/step - loss: 0.5439 - accuracy: 0.7994 - val_loss: 0.2511 - val_accuracy: 0.9429\n",
      "Epoch 178/1000\n",
      " 1/33 [..............................] - ETA: 0s - loss: 0.4659 - accuracy: 0.7812\n",
      "Epoch 178: saving model to model/keypoint_classifier\\keypoint_classifier.hdf5\n",
      "33/33 [==============================] - 0s 4ms/step - loss: 0.5516 - accuracy: 0.7882 - val_loss: 0.2513 - val_accuracy: 0.9458\n",
      "Epoch 179/1000\n",
      "32/33 [============================>.] - ETA: 0s - loss: 0.5354 - accuracy: 0.8040\n",
      "Epoch 179: saving model to model/keypoint_classifier\\keypoint_classifier.hdf5\n",
      "33/33 [==============================] - 0s 4ms/step - loss: 0.5346 - accuracy: 0.8042 - val_loss: 0.2449 - val_accuracy: 0.9472\n",
      "Epoch 180/1000\n",
      " 1/33 [..............................] - ETA: 0s - loss: 0.6083 - accuracy: 0.7656\n",
      "Epoch 180: saving model to model/keypoint_classifier\\keypoint_classifier.hdf5\n",
      "33/33 [==============================] - 0s 4ms/step - loss: 0.5495 - accuracy: 0.7994 - val_loss: 0.2445 - val_accuracy: 0.9443\n",
      "Epoch 181/1000\n",
      "33/33 [==============================] - ETA: 0s - loss: 0.5473 - accuracy: 0.8004\n",
      "Epoch 181: saving model to model/keypoint_classifier\\keypoint_classifier.hdf5\n",
      "33/33 [==============================] - 0s 4ms/step - loss: 0.5473 - accuracy: 0.8004 - val_loss: 0.2479 - val_accuracy: 0.9408\n",
      "Epoch 182/1000\n",
      "31/33 [===========================>..] - ETA: 0s - loss: 0.5284 - accuracy: 0.8019\n",
      "Epoch 182: saving model to model/keypoint_classifier\\keypoint_classifier.hdf5\n",
      "33/33 [==============================] - 0s 4ms/step - loss: 0.5279 - accuracy: 0.8016 - val_loss: 0.2515 - val_accuracy: 0.9408\n",
      "Epoch 183/1000\n",
      "30/33 [==========================>...] - ETA: 0s - loss: 0.5510 - accuracy: 0.8008\n",
      "Epoch 183: saving model to model/keypoint_classifier\\keypoint_classifier.hdf5\n",
      "33/33 [==============================] - 0s 4ms/step - loss: 0.5572 - accuracy: 0.7978 - val_loss: 0.2531 - val_accuracy: 0.9408\n",
      "Epoch 184/1000\n",
      "29/33 [=========================>....] - ETA: 0s - loss: 0.5430 - accuracy: 0.7980\n",
      "Epoch 184: saving model to model/keypoint_classifier\\keypoint_classifier.hdf5\n",
      "33/33 [==============================] - 0s 4ms/step - loss: 0.5453 - accuracy: 0.7990 - val_loss: 0.2519 - val_accuracy: 0.9415\n",
      "Epoch 185/1000\n",
      "33/33 [==============================] - ETA: 0s - loss: 0.5222 - accuracy: 0.8039\n",
      "Epoch 185: saving model to model/keypoint_classifier\\keypoint_classifier.hdf5\n",
      "33/33 [==============================] - 0s 4ms/step - loss: 0.5222 - accuracy: 0.8039 - val_loss: 0.2451 - val_accuracy: 0.9450\n",
      "Epoch 186/1000\n",
      "32/33 [============================>.] - ETA: 0s - loss: 0.5404 - accuracy: 0.7998\n",
      "Epoch 186: saving model to model/keypoint_classifier\\keypoint_classifier.hdf5\n",
      "33/33 [==============================] - 0s 4ms/step - loss: 0.5417 - accuracy: 0.7999 - val_loss: 0.2499 - val_accuracy: 0.9465\n",
      "Epoch 187/1000\n",
      "33/33 [==============================] - ETA: 0s - loss: 0.5493 - accuracy: 0.8001\n",
      "Epoch 187: saving model to model/keypoint_classifier\\keypoint_classifier.hdf5\n",
      "33/33 [==============================] - 0s 4ms/step - loss: 0.5493 - accuracy: 0.8001 - val_loss: 0.2551 - val_accuracy: 0.9393\n",
      "Epoch 188/1000\n",
      "33/33 [==============================] - ETA: 0s - loss: 0.5328 - accuracy: 0.7992\n",
      "Epoch 188: saving model to model/keypoint_classifier\\keypoint_classifier.hdf5\n",
      "33/33 [==============================] - 0s 4ms/step - loss: 0.5328 - accuracy: 0.7992 - val_loss: 0.2581 - val_accuracy: 0.9443\n",
      "Epoch 189/1000\n",
      "30/33 [==========================>...] - ETA: 0s - loss: 0.5391 - accuracy: 0.8078\n",
      "Epoch 189: saving model to model/keypoint_classifier\\keypoint_classifier.hdf5\n",
      "33/33 [==============================] - 0s 4ms/step - loss: 0.5434 - accuracy: 0.8068 - val_loss: 0.2529 - val_accuracy: 0.9443\n",
      "Epoch 190/1000\n",
      "28/33 [========================>.....] - ETA: 0s - loss: 0.5473 - accuracy: 0.7969\n",
      "Epoch 190: saving model to model/keypoint_classifier\\keypoint_classifier.hdf5\n",
      "33/33 [==============================] - 0s 4ms/step - loss: 0.5544 - accuracy: 0.7925 - val_loss: 0.2507 - val_accuracy: 0.9415\n",
      "Epoch 191/1000\n",
      "33/33 [==============================] - ETA: 0s - loss: 0.5296 - accuracy: 0.8030\n",
      "Epoch 191: saving model to model/keypoint_classifier\\keypoint_classifier.hdf5\n",
      "33/33 [==============================] - 0s 4ms/step - loss: 0.5296 - accuracy: 0.8030 - val_loss: 0.2467 - val_accuracy: 0.9429\n",
      "Epoch 192/1000\n",
      "33/33 [==============================] - ETA: 0s - loss: 0.5366 - accuracy: 0.8054\n",
      "Epoch 192: saving model to model/keypoint_classifier\\keypoint_classifier.hdf5\n",
      "33/33 [==============================] - 0s 4ms/step - loss: 0.5366 - accuracy: 0.8054 - val_loss: 0.2512 - val_accuracy: 0.9422\n",
      "Epoch 192: early stopping\n"
     ]
    },
    {
     "data": {
      "text/plain": "<keras.callbacks.History at 0x25d79727220>"
     },
     "execution_count": 33,
     "metadata": {},
     "output_type": "execute_result"
    }
   ],
   "source": [
    "model.fit(\n",
    "    X_train,\n",
    "    y_train,\n",
    "    epochs=1000,\n",
    "    batch_size=128,\n",
    "    validation_data=(X_test, y_test),\n",
    "    callbacks=[cp_callback, es_callback]\n",
    ")"
   ]
  },
  {
   "cell_type": "code",
   "execution_count": 34,
   "metadata": {
    "ExecuteTime": {
     "end_time": "2023-10-31T16:42:02.332499300Z",
     "start_time": "2023-10-31T16:42:02.216985600Z"
    }
   },
   "outputs": [
    {
     "name": "stdout",
     "output_type": "stream",
     "text": [
      "11/11 [==============================] - 0s 1ms/step - loss: 0.2512 - accuracy: 0.9422\n"
     ]
    }
   ],
   "source": [
    "# モデル評価\n",
    "val_loss, val_acc = model.evaluate(X_test, y_test, batch_size=128)"
   ]
  },
  {
   "cell_type": "code",
   "execution_count": 35,
   "metadata": {
    "ExecuteTime": {
     "end_time": "2023-10-31T16:42:02.418010900Z",
     "start_time": "2023-10-31T16:42:02.324500Z"
    }
   },
   "outputs": [],
   "source": [
    "# 保存したモデルのロード\n",
    "model = tf.keras.models.load_model(model_save_path)"
   ]
  },
  {
   "cell_type": "code",
   "execution_count": 36,
   "metadata": {
    "ExecuteTime": {
     "end_time": "2023-10-31T16:42:02.550521Z",
     "start_time": "2023-10-31T16:42:02.419010800Z"
    }
   },
   "outputs": [
    {
     "name": "stdout",
     "output_type": "stream",
     "text": [
      "1/1 [==============================] - 0s 71ms/step\n",
      "[4.2823637e-03 9.7388998e-02 8.9468539e-01 3.0505885e-03 5.9265480e-04]\n",
      "2\n"
     ]
    }
   ],
   "source": [
    "# 推論テスト\n",
    "predict_result = model.predict(np.array([X_test[0]]))\n",
    "print(np.squeeze(predict_result))\n",
    "print(np.argmax(np.squeeze(predict_result)))"
   ]
  },
  {
   "cell_type": "markdown",
   "metadata": {},
   "source": [
    "# 混同行列"
   ]
  },
  {
   "cell_type": "code",
   "execution_count": 37,
   "metadata": {
    "ExecuteTime": {
     "end_time": "2023-10-31T16:42:03.032204700Z",
     "start_time": "2023-10-31T16:42:02.549520500Z"
    }
   },
   "outputs": [
    {
     "name": "stdout",
     "output_type": "stream",
     "text": [
      "44/44 [==============================] - 0s 1ms/step\n"
     ]
    },
    {
     "data": {
      "text/plain": "<Figure size 700x600 with 2 Axes>",
      "image/png": "[encoded data removed]"
     },
     "metadata": {},
     "output_type": "display_data"
    },
    {
     "name": "stdout",
     "output_type": "stream",
     "text": [
      "Classification Report\n",
      "              precision    recall  f1-score   support\n",
      "\n",
      "           0       0.97      0.95      0.96       413\n",
      "           1       0.99      0.87      0.92       387\n",
      "           2       0.93      0.98      0.95       333\n",
      "           3       0.94      0.99      0.97       129\n",
      "           4       0.83      0.99      0.90       139\n",
      "\n",
      "    accuracy                           0.94      1401\n",
      "   macro avg       0.93      0.96      0.94      1401\n",
      "weighted avg       0.95      0.94      0.94      1401\n"
     ]
    }
   ],
   "source": [
    "import pandas as pd\n",
    "import seaborn as sns\n",
    "import matplotlib.pyplot as plt\n",
    "from sklearn.metrics import confusion_matrix, classification_report\n",
    "\n",
    "def print_confusion_matrix(y_true, y_pred, report=True):\n",
    "    labels = sorted(list(set(y_true)))\n",
    "    cmx_data = confusion_matrix(y_true, y_pred, labels=labels)\n",
    "    \n",
    "    df_cmx = pd.DataFrame(cmx_data, index=labels, columns=labels)\n",
    " \n",
    "    fig, ax = plt.subplots(figsize=(7, 6))\n",
    "    sns.heatmap(df_cmx, annot=True, fmt='g' ,square=False)\n",
    "    ax.set_ylim(len(set(y_true)), 0)\n",
    "    plt.show()\n",
    "    \n",
    "    if report:\n",
    "        print('Classification Report')\n",
    "        print(classification_report(y_test, y_pred))\n",
    "\n",
    "Y_pred = model.predict(X_test)\n",
    "y_pred = np.argmax(Y_pred, axis=1)\n",
    "\n",
    "print_confusion_matrix(y_test, y_pred)"
   ]
  },
  {
   "cell_type": "markdown",
   "metadata": {},
   "source": [
    "# Tensorflow-Lite用のモデルへ変換"
   ]
  },
  {
   "cell_type": "code",
   "execution_count": 38,
   "metadata": {
    "ExecuteTime": {
     "end_time": "2023-10-31T16:42:03.047200100Z",
     "start_time": "2023-10-31T16:42:02.926603800Z"
    }
   },
   "outputs": [],
   "source": [
    "# 推論専用のモデルとして保存\n",
    "model.save(model_save_path, include_optimizer=False)"
   ]
  },
  {
   "cell_type": "code",
   "execution_count": 39,
   "metadata": {
    "ExecuteTime": {
     "end_time": "2023-10-31T16:42:06.587839600Z",
     "start_time": "2023-10-31T16:42:02.959611600Z"
    }
   },
   "outputs": [
    {
     "name": "stdout",
     "output_type": "stream",
     "text": [
      "INFO:tensorflow:Assets written to: C:\\Users\\sd\\AppData\\Local\\Temp\\tmpxk_luw2s\\assets\n"
     ]
    },
    {
     "name": "stderr",
     "output_type": "stream",
     "text": [
      "INFO:tensorflow:Assets written to: C:\\Users\\sd\\AppData\\Local\\Temp\\tmpxk_luw2s\\assets\n"
     ]
    },
    {
     "data": {
      "text/plain": "6616"
     },
     "execution_count": 39,
     "metadata": {},
     "output_type": "execute_result"
    }
   ],
   "source": [
    "# モデルを変換(量子化)\n",
    "tflite_save_path = 'model/keypoint_classifier/keypoint_classifier.tflite'\n",
    "\n",
    "converter = tf.lite.TFLiteConverter.from_keras_model(model)\n",
    "converter.optimizations = [tf.lite.Optimize.DEFAULT]\n",
    "tflite_quantized_model = converter.convert()\n",
    "\n",
    "open(tflite_save_path, 'wb').write(tflite_quantized_model)"
   ]
  },
  {
   "cell_type": "markdown",
   "metadata": {},
   "source": [
    "# 推論テスト"
   ]
  },
  {
   "cell_type": "code",
   "execution_count": 40,
   "metadata": {
    "ExecuteTime": {
     "end_time": "2023-10-31T16:42:06.632586200Z",
     "start_time": "2023-10-31T16:42:06.589979200Z"
    }
   },
   "outputs": [],
   "source": [
    "interpreter = tf.lite.Interpreter(model_path=tflite_save_path)\n",
    "interpreter.allocate_tensors()"
   ]
  },
  {
   "cell_type": "code",
   "execution_count": 41,
   "metadata": {
    "ExecuteTime": {
     "end_time": "2023-10-31T16:42:06.646586300Z",
     "start_time": "2023-10-31T16:42:06.605068600Z"
    }
   },
   "outputs": [],
   "source": [
    "# 入出力テンソルを取得\n",
    "input_details = interpreter.get_input_details()\n",
    "output_details = interpreter.get_output_details()"
   ]
  },
  {
   "cell_type": "code",
   "execution_count": 42,
   "metadata": {
    "ExecuteTime": {
     "end_time": "2023-10-31T16:42:06.647586800Z",
     "start_time": "2023-10-31T16:42:06.620577300Z"
    }
   },
   "outputs": [],
   "source": [
    "interpreter.set_tensor(input_details[0]['index'], np.array([X_test[0]]))"
   ]
  },
  {
   "cell_type": "code",
   "execution_count": 43,
   "metadata": {
    "scrolled": true,
    "ExecuteTime": {
     "end_time": "2023-10-31T16:42:06.663576600Z",
     "start_time": "2023-10-31T16:42:06.637580300Z"
    }
   },
   "outputs": [
    {
     "name": "stdout",
     "output_type": "stream",
     "text": [
      "CPU times: total: 0 ns\n",
      "Wall time: 0 ns\n"
     ]
    }
   ],
   "source": [
    "%%time\n",
    "# 推論実施\n",
    "interpreter.invoke()\n",
    "tflite_results = interpreter.get_tensor(output_details[0]['index'])"
   ]
  },
  {
   "cell_type": "code",
   "execution_count": 44,
   "metadata": {
    "ExecuteTime": {
     "end_time": "2023-10-31T16:42:06.709672200Z",
     "start_time": "2023-10-31T16:42:06.655586700Z"
    }
   },
   "outputs": [
    {
     "name": "stdout",
     "output_type": "stream",
     "text": [
      "[4.2823609e-03 9.7388983e-02 8.9468539e-01 3.0505855e-03 5.9265509e-04]\n",
      "2\n"
     ]
    }
   ],
   "source": [
    "print(np.squeeze(tflite_results))\n",
    "print(np.argmax(np.squeeze(tflite_results)))"
   ]
  }
 ],
 "metadata": {
  "kernelspec": {
   "display_name": "Python 3",
   "language": "python",
   "name": "python3"
  },
  "language_info": {
   "codemirror_mode": {
    "name": "ipython",
    "version": 3
   },
   "file_extension": ".py",
   "mimetype": "text/x-python",
   "name": "python",
   "nbconvert_exporter": "python",
   "pygments_lexer": "ipython3",
   "version": "3.8.5"
  }
 },
 "nbformat": 4,
 "nbformat_minor": 4
}
