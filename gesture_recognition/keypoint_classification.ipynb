{
 "cells": [
  {
   "cell_type": "code",
   "execution_count": 133,
   "metadata": {
    "ExecuteTime": {
     "end_time": "2023-12-01T19:39:28.492805400Z",
     "start_time": "2023-12-01T19:39:28.397237200Z"
    }
   },
   "outputs": [],
   "source": [
    "import csv\n",
    "\n",
    "import numpy as np\n",
    "import tensorflow as tf\n",
    "from sklearn.model_selection import train_test_split\n",
    "\n",
    "RANDOM_SEED = 42"
   ]
  },
  {
   "cell_type": "markdown",
   "metadata": {},
   "source": [
    "# Path specification"
   ]
  },
  {
   "cell_type": "code",
   "execution_count": 134,
   "metadata": {
    "ExecuteTime": {
     "end_time": "2023-12-01T19:39:28.510805700Z",
     "start_time": "2023-12-01T19:39:28.415803100Z"
    }
   },
   "outputs": [],
   "source": [
    "dataset = 'model/keypoint_classifier/keypoint.csv'\n",
    "model_save_path = 'model/keypoint_classifier/keypoint_classifier.hdf5'"
   ]
  },
  {
   "cell_type": "markdown",
   "metadata": {},
   "source": [
    "# Classification number setting"
   ]
  },
  {
   "cell_type": "code",
   "execution_count": 135,
   "metadata": {
    "ExecuteTime": {
     "end_time": "2023-12-01T19:39:28.521314800Z",
     "start_time": "2023-12-01T19:39:28.429804100Z"
    }
   },
   "outputs": [],
   "source": [
    "NUM_CLASSES = 10"
   ]
  },
  {
   "cell_type": "markdown",
   "metadata": {},
   "source": [
    "# Load training data"
   ]
  },
  {
   "cell_type": "code",
   "execution_count": 136,
   "metadata": {
    "ExecuteTime": {
     "end_time": "2023-12-01T19:39:28.600489Z",
     "start_time": "2023-12-01T19:39:28.446802300Z"
    }
   },
   "outputs": [],
   "source": [
    "X_dataset = np.loadtxt(dataset, delimiter=',', dtype='float32', usecols=list(range(1, (21 * 2) + 1)))"
   ]
  },
  {
   "cell_type": "code",
   "execution_count": 137,
   "metadata": {
    "ExecuteTime": {
     "end_time": "2023-12-01T19:39:28.648461300Z",
     "start_time": "2023-12-01T19:39:28.602487200Z"
    }
   },
   "outputs": [],
   "source": [
    "y_dataset = np.loadtxt(dataset, delimiter=',', dtype='int32', usecols=(0))"
   ]
  },
  {
   "cell_type": "code",
   "execution_count": 138,
   "metadata": {
    "ExecuteTime": {
     "end_time": "2023-12-01T19:39:28.663812Z",
     "start_time": "2023-12-01T19:39:28.650473Z"
    }
   },
   "outputs": [],
   "source": [
    "X_train, X_test, y_train, y_test = train_test_split(X_dataset, y_dataset, train_size=0.75, random_state=RANDOM_SEED)"
   ]
  },
  {
   "cell_type": "markdown",
   "metadata": {},
   "source": [
    "# Model construction"
   ]
  },
  {
   "cell_type": "code",
   "execution_count": 139,
   "metadata": {
    "ExecuteTime": {
     "end_time": "2023-12-01T19:39:28.711879300Z",
     "start_time": "2023-12-01T19:39:28.671811800Z"
    }
   },
   "outputs": [],
   "source": [
    "model = tf.keras.models.Sequential([\n",
    "    tf.keras.layers.Input((21 * 2, )),\n",
    "    tf.keras.layers.Dropout(0.2),\n",
    "    tf.keras.layers.Dense(20, activation='relu'),\n",
    "    tf.keras.layers.Dropout(0.4),\n",
    "    tf.keras.layers.Dense(10, activation='relu'),\n",
    "    tf.keras.layers.Dense(NUM_CLASSES, activation='softmax')\n",
    "])"
   ]
  },
  {
   "cell_type": "code",
   "execution_count": 140,
   "metadata": {
    "ExecuteTime": {
     "end_time": "2023-12-01T19:39:28.727401600Z",
     "start_time": "2023-12-01T19:39:28.713878900Z"
    }
   },
   "outputs": [
    {
     "name": "stdout",
     "output_type": "stream",
     "text": [
      "Model: \"sequential_6\"\n",
      "_________________________________________________________________\n",
      " Layer (type)                Output Shape              Param #   \n",
      "=================================================================\n",
      " dropout_12 (Dropout)        (None, 42)                0         \n",
      "                                                                 \n",
      " dense_18 (Dense)            (None, 20)                860       \n",
      "                                                                 \n",
      " dropout_13 (Dropout)        (None, 20)                0         \n",
      "                                                                 \n",
      " dense_19 (Dense)            (None, 10)                210       \n",
      "                                                                 \n",
      " dense_20 (Dense)            (None, 10)                110       \n",
      "                                                                 \n",
      "=================================================================\n",
      "Total params: 1,180\n",
      "Trainable params: 1,180\n",
      "Non-trainable params: 0\n",
      "_________________________________________________________________\n"
     ]
    }
   ],
   "source": [
    "model.summary()  # tf.keras.utils.plot_model(model, show_shapes=True)"
   ]
  },
  {
   "cell_type": "code",
   "execution_count": 141,
   "metadata": {
    "ExecuteTime": {
     "end_time": "2023-12-01T19:39:28.773402600Z",
     "start_time": "2023-12-01T19:39:28.729401200Z"
    }
   },
   "outputs": [],
   "source": [
    "# Model checkpoint callback\n",
    "cp_callback = tf.keras.callbacks.ModelCheckpoint(\n",
    "    model_save_path, verbose=1, save_weights_only=False)\n",
    "# Early stopping callback\n",
    "es_callback = tf.keras.callbacks.EarlyStopping(patience=20, verbose=1)"
   ]
  },
  {
   "cell_type": "code",
   "execution_count": 142,
   "metadata": {
    "ExecuteTime": {
     "end_time": "2023-12-01T19:39:28.785401100Z",
     "start_time": "2023-12-01T19:39:28.746403300Z"
    }
   },
   "outputs": [],
   "source": [
    "# Model compile\n",
    "model.compile(\n",
    "    optimizer='adam',\n",
    "    loss='sparse_categorical_crossentropy',\n",
    "    metrics=['accuracy']\n",
    ")"
   ]
  },
  {
   "cell_type": "markdown",
   "metadata": {},
   "source": [
    "# Model training"
   ]
  },
  {
   "cell_type": "code",
   "execution_count": 143,
   "metadata": {
    "scrolled": true,
    "ExecuteTime": {
     "end_time": "2023-12-01T19:39:56.749752600Z",
     "start_time": "2023-12-01T19:39:28.761402300Z"
    }
   },
   "outputs": [
    {
     "name": "stdout",
     "output_type": "stream",
     "text": [
      "Epoch 1/1000\n",
      "71/71 [==============================] - ETA: 0s - loss: 2.2402 - accuracy: 0.1274\n",
      "Epoch 1: saving model to model/keypoint_classifier\\keypoint_classifier.hdf5\n",
      "71/71 [==============================] - 1s 5ms/step - loss: 2.2402 - accuracy: 0.1274 - val_loss: 2.0948 - val_accuracy: 0.2973\n",
      "Epoch 2/1000\n",
      "70/71 [============================>.] - ETA: 0s - loss: 2.0296 - accuracy: 0.2173\n",
      "Epoch 2: saving model to model/keypoint_classifier\\keypoint_classifier.hdf5\n",
      "71/71 [==============================] - 0s 2ms/step - loss: 2.0287 - accuracy: 0.2170 - val_loss: 1.8754 - val_accuracy: 0.2729\n",
      "Epoch 3/1000\n",
      "68/71 [===========================>..] - ETA: 0s - loss: 1.8883 - accuracy: 0.2619\n",
      "Epoch 3: saving model to model/keypoint_classifier\\keypoint_classifier.hdf5\n",
      "71/71 [==============================] - 0s 2ms/step - loss: 1.8858 - accuracy: 0.2634 - val_loss: 1.7024 - val_accuracy: 0.3323\n",
      "Epoch 4/1000\n",
      "69/71 [============================>.] - ETA: 0s - loss: 1.7667 - accuracy: 0.3026\n",
      "Epoch 4: saving model to model/keypoint_classifier\\keypoint_classifier.hdf5\n",
      "71/71 [==============================] - 0s 2ms/step - loss: 1.7663 - accuracy: 0.3027 - val_loss: 1.5696 - val_accuracy: 0.3935\n",
      "Epoch 5/1000\n",
      "67/71 [===========================>..] - ETA: 0s - loss: 1.6711 - accuracy: 0.3474\n",
      "Epoch 5: saving model to model/keypoint_classifier\\keypoint_classifier.hdf5\n",
      "71/71 [==============================] - 0s 2ms/step - loss: 1.6716 - accuracy: 0.3463 - val_loss: 1.4396 - val_accuracy: 0.4833\n",
      "Epoch 6/1000\n",
      "64/71 [==========================>...] - ETA: 0s - loss: 1.6004 - accuracy: 0.3807\n",
      "Epoch 6: saving model to model/keypoint_classifier\\keypoint_classifier.hdf5\n",
      "71/71 [==============================] - 0s 3ms/step - loss: 1.5985 - accuracy: 0.3808 - val_loss: 1.3338 - val_accuracy: 0.5203\n",
      "Epoch 7/1000\n",
      "64/71 [==========================>...] - ETA: 0s - loss: 1.5314 - accuracy: 0.4052\n",
      "Epoch 7: saving model to model/keypoint_classifier\\keypoint_classifier.hdf5\n",
      "71/71 [==============================] - 0s 3ms/step - loss: 1.5292 - accuracy: 0.4067 - val_loss: 1.2519 - val_accuracy: 0.6082\n",
      "Epoch 8/1000\n",
      "64/71 [==========================>...] - ETA: 0s - loss: 1.4787 - accuracy: 0.4320\n",
      "Epoch 8: saving model to model/keypoint_classifier\\keypoint_classifier.hdf5\n",
      "71/71 [==============================] - 0s 3ms/step - loss: 1.4761 - accuracy: 0.4318 - val_loss: 1.1755 - val_accuracy: 0.6452\n",
      "Epoch 9/1000\n",
      "63/71 [=========================>....] - ETA: 0s - loss: 1.4332 - accuracy: 0.4463\n",
      "Epoch 9: saving model to model/keypoint_classifier\\keypoint_classifier.hdf5\n",
      "71/71 [==============================] - 0s 3ms/step - loss: 1.4264 - accuracy: 0.4507 - val_loss: 1.1100 - val_accuracy: 0.6739\n",
      "Epoch 10/1000\n",
      "58/71 [=======================>......] - ETA: 0s - loss: 1.4031 - accuracy: 0.4636\n",
      "Epoch 10: saving model to model/keypoint_classifier\\keypoint_classifier.hdf5\n",
      "71/71 [==============================] - 0s 3ms/step - loss: 1.3919 - accuracy: 0.4671 - val_loss: 1.0685 - val_accuracy: 0.6901\n",
      "Epoch 11/1000\n",
      "65/71 [==========================>...] - ETA: 0s - loss: 1.3702 - accuracy: 0.4762\n",
      "Epoch 11: saving model to model/keypoint_classifier\\keypoint_classifier.hdf5\n",
      "71/71 [==============================] - 0s 3ms/step - loss: 1.3694 - accuracy: 0.4764 - val_loss: 1.0304 - val_accuracy: 0.6835\n",
      "Epoch 12/1000\n",
      "64/71 [==========================>...] - ETA: 0s - loss: 1.3440 - accuracy: 0.4883\n",
      "Epoch 12: saving model to model/keypoint_classifier\\keypoint_classifier.hdf5\n",
      "71/71 [==============================] - 0s 3ms/step - loss: 1.3413 - accuracy: 0.4884 - val_loss: 0.9883 - val_accuracy: 0.7423\n",
      "Epoch 13/1000\n",
      "64/71 [==========================>...] - ETA: 0s - loss: 1.3275 - accuracy: 0.4958\n",
      "Epoch 13: saving model to model/keypoint_classifier\\keypoint_classifier.hdf5\n",
      "71/71 [==============================] - 0s 3ms/step - loss: 1.3284 - accuracy: 0.4941 - val_loss: 0.9624 - val_accuracy: 0.7281\n",
      "Epoch 14/1000\n",
      "64/71 [==========================>...] - ETA: 0s - loss: 1.2859 - accuracy: 0.5038\n",
      "Epoch 14: saving model to model/keypoint_classifier\\keypoint_classifier.hdf5\n",
      "71/71 [==============================] - 0s 3ms/step - loss: 1.2893 - accuracy: 0.5039 - val_loss: 0.9124 - val_accuracy: 0.7664\n",
      "Epoch 15/1000\n",
      "67/71 [===========================>..] - ETA: 0s - loss: 1.2700 - accuracy: 0.5162\n",
      "Epoch 15: saving model to model/keypoint_classifier\\keypoint_classifier.hdf5\n",
      "71/71 [==============================] - 0s 3ms/step - loss: 1.2714 - accuracy: 0.5158 - val_loss: 0.8892 - val_accuracy: 0.7810\n",
      "Epoch 16/1000\n",
      "67/71 [===========================>..] - ETA: 0s - loss: 1.2503 - accuracy: 0.5250\n",
      "Epoch 16: saving model to model/keypoint_classifier\\keypoint_classifier.hdf5\n",
      "71/71 [==============================] - 0s 3ms/step - loss: 1.2521 - accuracy: 0.5231 - val_loss: 0.8642 - val_accuracy: 0.7790\n",
      "Epoch 17/1000\n",
      "63/71 [=========================>....] - ETA: 0s - loss: 1.2340 - accuracy: 0.5339\n",
      "Epoch 17: saving model to model/keypoint_classifier\\keypoint_classifier.hdf5\n",
      "71/71 [==============================] - 0s 3ms/step - loss: 1.2366 - accuracy: 0.5330 - val_loss: 0.8438 - val_accuracy: 0.7965\n",
      "Epoch 18/1000\n",
      "68/71 [===========================>..] - ETA: 0s - loss: 1.2091 - accuracy: 0.5401\n",
      "Epoch 18: saving model to model/keypoint_classifier\\keypoint_classifier.hdf5\n",
      "71/71 [==============================] - 0s 2ms/step - loss: 1.2050 - accuracy: 0.5418 - val_loss: 0.8118 - val_accuracy: 0.8021\n",
      "Epoch 19/1000\n",
      "67/71 [===========================>..] - ETA: 0s - loss: 1.1948 - accuracy: 0.5458\n",
      "Epoch 19: saving model to model/keypoint_classifier\\keypoint_classifier.hdf5\n",
      "71/71 [==============================] - 0s 2ms/step - loss: 1.1925 - accuracy: 0.5455 - val_loss: 0.7990 - val_accuracy: 0.8087\n",
      "Epoch 20/1000\n",
      "67/71 [===========================>..] - ETA: 0s - loss: 1.1822 - accuracy: 0.5533\n",
      "Epoch 20: saving model to model/keypoint_classifier\\keypoint_classifier.hdf5\n",
      "71/71 [==============================] - 0s 2ms/step - loss: 1.1806 - accuracy: 0.5530 - val_loss: 0.7798 - val_accuracy: 0.8120\n",
      "Epoch 21/1000\n",
      "67/71 [===========================>..] - ETA: 0s - loss: 1.1515 - accuracy: 0.5690\n",
      "Epoch 21: saving model to model/keypoint_classifier\\keypoint_classifier.hdf5\n",
      "71/71 [==============================] - 0s 2ms/step - loss: 1.1522 - accuracy: 0.5679 - val_loss: 0.7461 - val_accuracy: 0.8285\n",
      "Epoch 22/1000\n",
      "64/71 [==========================>...] - ETA: 0s - loss: 1.1411 - accuracy: 0.5710\n",
      "Epoch 22: saving model to model/keypoint_classifier\\keypoint_classifier.hdf5\n",
      "71/71 [==============================] - 0s 3ms/step - loss: 1.1388 - accuracy: 0.5730 - val_loss: 0.7395 - val_accuracy: 0.8437\n",
      "Epoch 23/1000\n",
      "67/71 [===========================>..] - ETA: 0s - loss: 1.1258 - accuracy: 0.5795\n",
      "Epoch 23: saving model to model/keypoint_classifier\\keypoint_classifier.hdf5\n",
      "71/71 [==============================] - 0s 2ms/step - loss: 1.1282 - accuracy: 0.5785 - val_loss: 0.7130 - val_accuracy: 0.8527\n",
      "Epoch 24/1000\n",
      "65/71 [==========================>...] - ETA: 0s - loss: 1.1145 - accuracy: 0.5799\n",
      "Epoch 24: saving model to model/keypoint_classifier\\keypoint_classifier.hdf5\n",
      "71/71 [==============================] - 0s 2ms/step - loss: 1.1196 - accuracy: 0.5799 - val_loss: 0.7041 - val_accuracy: 0.8391\n",
      "Epoch 25/1000\n",
      "67/71 [===========================>..] - ETA: 0s - loss: 1.1087 - accuracy: 0.5820\n",
      "Epoch 25: saving model to model/keypoint_classifier\\keypoint_classifier.hdf5\n",
      "71/71 [==============================] - 0s 2ms/step - loss: 1.1101 - accuracy: 0.5819 - val_loss: 0.6759 - val_accuracy: 0.8685\n",
      "Epoch 26/1000\n",
      "65/71 [==========================>...] - ETA: 0s - loss: 1.1014 - accuracy: 0.5790\n",
      "Epoch 26: saving model to model/keypoint_classifier\\keypoint_classifier.hdf5\n",
      "71/71 [==============================] - 0s 2ms/step - loss: 1.1004 - accuracy: 0.5793 - val_loss: 0.6790 - val_accuracy: 0.8665\n",
      "Epoch 27/1000\n",
      "66/71 [==========================>...] - ETA: 0s - loss: 1.0831 - accuracy: 0.5992\n",
      "Epoch 27: saving model to model/keypoint_classifier\\keypoint_classifier.hdf5\n",
      "71/71 [==============================] - 0s 3ms/step - loss: 1.0831 - accuracy: 0.5982 - val_loss: 0.6736 - val_accuracy: 0.8497\n",
      "Epoch 28/1000\n",
      "62/71 [=========================>....] - ETA: 0s - loss: 1.0772 - accuracy: 0.5964\n",
      "Epoch 28: saving model to model/keypoint_classifier\\keypoint_classifier.hdf5\n",
      "71/71 [==============================] - 0s 3ms/step - loss: 1.0677 - accuracy: 0.6016 - val_loss: 0.6409 - val_accuracy: 0.8665\n",
      "Epoch 29/1000\n",
      "61/71 [========================>.....] - ETA: 0s - loss: 1.0558 - accuracy: 0.5982\n",
      "Epoch 29: saving model to model/keypoint_classifier\\keypoint_classifier.hdf5\n",
      "71/71 [==============================] - 0s 6ms/step - loss: 1.0562 - accuracy: 0.5976 - val_loss: 0.6289 - val_accuracy: 0.8781\n",
      "Epoch 30/1000\n",
      "61/71 [========================>.....] - ETA: 0s - loss: 1.0552 - accuracy: 0.6021\n",
      "Epoch 30: saving model to model/keypoint_classifier\\keypoint_classifier.hdf5\n",
      "71/71 [==============================] - 0s 3ms/step - loss: 1.0551 - accuracy: 0.5988 - val_loss: 0.6416 - val_accuracy: 0.8735\n",
      "Epoch 31/1000\n",
      "62/71 [=========================>....] - ETA: 0s - loss: 1.0458 - accuracy: 0.6098\n",
      "Epoch 31: saving model to model/keypoint_classifier\\keypoint_classifier.hdf5\n",
      "71/71 [==============================] - 0s 3ms/step - loss: 1.0511 - accuracy: 0.6070 - val_loss: 0.6179 - val_accuracy: 0.8751\n",
      "Epoch 32/1000\n",
      "61/71 [========================>.....] - ETA: 0s - loss: 1.0324 - accuracy: 0.6133\n",
      "Epoch 32: saving model to model/keypoint_classifier\\keypoint_classifier.hdf5\n",
      "71/71 [==============================] - 2s 34ms/step - loss: 1.0277 - accuracy: 0.6137 - val_loss: 0.6035 - val_accuracy: 0.8840\n",
      "Epoch 33/1000\n",
      "36/71 [==============>...............] - ETA: 0s - loss: 1.0217 - accuracy: 0.6165\n",
      "Epoch 33: saving model to model/keypoint_classifier\\keypoint_classifier.hdf5\n",
      "71/71 [==============================] - 0s 2ms/step - loss: 1.0291 - accuracy: 0.6159 - val_loss: 0.5940 - val_accuracy: 0.8837\n",
      "Epoch 34/1000\n",
      "62/71 [=========================>....] - ETA: 0s - loss: 1.0075 - accuracy: 0.6232\n",
      "Epoch 34: saving model to model/keypoint_classifier\\keypoint_classifier.hdf5\n",
      "71/71 [==============================] - 0s 3ms/step - loss: 1.0081 - accuracy: 0.6232 - val_loss: 0.5989 - val_accuracy: 0.8821\n",
      "Epoch 35/1000\n",
      "60/71 [========================>.....] - ETA: 0s - loss: 1.0127 - accuracy: 0.6197\n",
      "Epoch 35: saving model to model/keypoint_classifier\\keypoint_classifier.hdf5\n",
      "71/71 [==============================] - 0s 3ms/step - loss: 1.0144 - accuracy: 0.6189 - val_loss: 0.5729 - val_accuracy: 0.8867\n",
      "Epoch 36/1000\n",
      "63/71 [=========================>....] - ETA: 0s - loss: 1.0151 - accuracy: 0.6169\n",
      "Epoch 36: saving model to model/keypoint_classifier\\keypoint_classifier.hdf5\n",
      "71/71 [==============================] - 0s 3ms/step - loss: 1.0135 - accuracy: 0.6228 - val_loss: 0.5849 - val_accuracy: 0.8883\n",
      "Epoch 37/1000\n",
      "66/71 [==========================>...] - ETA: 0s - loss: 0.9957 - accuracy: 0.6306\n",
      "Epoch 37: saving model to model/keypoint_classifier\\keypoint_classifier.hdf5\n",
      "71/71 [==============================] - 0s 3ms/step - loss: 0.9970 - accuracy: 0.6301 - val_loss: 0.5657 - val_accuracy: 0.8900\n",
      "Epoch 38/1000\n",
      "63/71 [=========================>....] - ETA: 0s - loss: 0.9822 - accuracy: 0.6348\n",
      "Epoch 38: saving model to model/keypoint_classifier\\keypoint_classifier.hdf5\n",
      "71/71 [==============================] - 0s 3ms/step - loss: 0.9876 - accuracy: 0.6331 - val_loss: 0.5741 - val_accuracy: 0.8821\n",
      "Epoch 39/1000\n",
      "65/71 [==========================>...] - ETA: 0s - loss: 0.9868 - accuracy: 0.6321\n",
      "Epoch 39: saving model to model/keypoint_classifier\\keypoint_classifier.hdf5\n",
      "71/71 [==============================] - 0s 3ms/step - loss: 0.9886 - accuracy: 0.6291 - val_loss: 0.5695 - val_accuracy: 0.8913\n",
      "Epoch 40/1000\n",
      "65/71 [==========================>...] - ETA: 0s - loss: 0.9655 - accuracy: 0.6388\n",
      "Epoch 40: saving model to model/keypoint_classifier\\keypoint_classifier.hdf5\n",
      "71/71 [==============================] - 0s 3ms/step - loss: 0.9663 - accuracy: 0.6408 - val_loss: 0.5594 - val_accuracy: 0.8930\n",
      "Epoch 41/1000\n",
      "64/71 [==========================>...] - ETA: 0s - loss: 0.9666 - accuracy: 0.6405\n",
      "Epoch 41: saving model to model/keypoint_classifier\\keypoint_classifier.hdf5\n",
      "71/71 [==============================] - 0s 3ms/step - loss: 0.9656 - accuracy: 0.6417 - val_loss: 0.5349 - val_accuracy: 0.8946\n",
      "Epoch 42/1000\n",
      "66/71 [==========================>...] - ETA: 0s - loss: 0.9909 - accuracy: 0.6348\n",
      "Epoch 42: saving model to model/keypoint_classifier\\keypoint_classifier.hdf5\n",
      "71/71 [==============================] - 0s 3ms/step - loss: 0.9856 - accuracy: 0.6363 - val_loss: 0.5482 - val_accuracy: 0.8989\n",
      "Epoch 43/1000\n",
      "64/71 [==========================>...] - ETA: 0s - loss: 0.9586 - accuracy: 0.6396\n",
      "Epoch 43: saving model to model/keypoint_classifier\\keypoint_classifier.hdf5\n",
      "71/71 [==============================] - 0s 3ms/step - loss: 0.9582 - accuracy: 0.6410 - val_loss: 0.5351 - val_accuracy: 0.9012\n",
      "Epoch 44/1000\n",
      "67/71 [===========================>..] - ETA: 0s - loss: 0.9574 - accuracy: 0.6446\n",
      "Epoch 44: saving model to model/keypoint_classifier\\keypoint_classifier.hdf5\n",
      "71/71 [==============================] - 0s 3ms/step - loss: 0.9577 - accuracy: 0.6431 - val_loss: 0.5299 - val_accuracy: 0.8953\n",
      "Epoch 45/1000\n",
      "66/71 [==========================>...] - ETA: 0s - loss: 0.9694 - accuracy: 0.6344\n",
      "Epoch 45: saving model to model/keypoint_classifier\\keypoint_classifier.hdf5\n",
      "71/71 [==============================] - 0s 3ms/step - loss: 0.9642 - accuracy: 0.6365 - val_loss: 0.5411 - val_accuracy: 0.8986\n",
      "Epoch 46/1000\n",
      "64/71 [==========================>...] - ETA: 0s - loss: 0.9626 - accuracy: 0.6460\n",
      "Epoch 46: saving model to model/keypoint_classifier\\keypoint_classifier.hdf5\n",
      "71/71 [==============================] - 0s 3ms/step - loss: 0.9589 - accuracy: 0.6476 - val_loss: 0.5277 - val_accuracy: 0.8933\n",
      "Epoch 47/1000\n",
      "64/71 [==========================>...] - ETA: 0s - loss: 0.9411 - accuracy: 0.6412\n",
      "Epoch 47: saving model to model/keypoint_classifier\\keypoint_classifier.hdf5\n",
      "71/71 [==============================] - 0s 3ms/step - loss: 0.9363 - accuracy: 0.6428 - val_loss: 0.5075 - val_accuracy: 0.9055\n",
      "Epoch 48/1000\n",
      "65/71 [==========================>...] - ETA: 0s - loss: 0.9379 - accuracy: 0.6466\n",
      "Epoch 48: saving model to model/keypoint_classifier\\keypoint_classifier.hdf5\n",
      "71/71 [==============================] - 0s 3ms/step - loss: 0.9364 - accuracy: 0.6486 - val_loss: 0.5217 - val_accuracy: 0.9002\n",
      "Epoch 49/1000\n",
      "63/71 [=========================>....] - ETA: 0s - loss: 0.9341 - accuracy: 0.6503\n",
      "Epoch 49: saving model to model/keypoint_classifier\\keypoint_classifier.hdf5\n",
      "71/71 [==============================] - 0s 3ms/step - loss: 0.9420 - accuracy: 0.6474 - val_loss: 0.5127 - val_accuracy: 0.9019\n",
      "Epoch 50/1000\n",
      "64/71 [==========================>...] - ETA: 0s - loss: 0.9437 - accuracy: 0.6515\n",
      "Epoch 50: saving model to model/keypoint_classifier\\keypoint_classifier.hdf5\n",
      "71/71 [==============================] - 0s 3ms/step - loss: 0.9449 - accuracy: 0.6507 - val_loss: 0.5227 - val_accuracy: 0.8963\n",
      "Epoch 51/1000\n",
      "63/71 [=========================>....] - ETA: 0s - loss: 0.9271 - accuracy: 0.6576\n",
      "Epoch 51: saving model to model/keypoint_classifier\\keypoint_classifier.hdf5\n",
      "71/71 [==============================] - 0s 3ms/step - loss: 0.9300 - accuracy: 0.6561 - val_loss: 0.5095 - val_accuracy: 0.8973\n",
      "Epoch 52/1000\n",
      "64/71 [==========================>...] - ETA: 0s - loss: 0.9066 - accuracy: 0.6624\n",
      "Epoch 52: saving model to model/keypoint_classifier\\keypoint_classifier.hdf5\n",
      "71/71 [==============================] - 0s 3ms/step - loss: 0.9073 - accuracy: 0.6623 - val_loss: 0.5017 - val_accuracy: 0.8989\n",
      "Epoch 53/1000\n",
      "66/71 [==========================>...] - ETA: 0s - loss: 0.9345 - accuracy: 0.6513\n",
      "Epoch 53: saving model to model/keypoint_classifier\\keypoint_classifier.hdf5\n",
      "71/71 [==============================] - 0s 3ms/step - loss: 0.9314 - accuracy: 0.6532 - val_loss: 0.5159 - val_accuracy: 0.9012\n",
      "Epoch 54/1000\n",
      "64/71 [==========================>...] - ETA: 0s - loss: 0.9221 - accuracy: 0.6554\n",
      "Epoch 54: saving model to model/keypoint_classifier\\keypoint_classifier.hdf5\n",
      "71/71 [==============================] - 0s 3ms/step - loss: 0.9178 - accuracy: 0.6576 - val_loss: 0.5000 - val_accuracy: 0.9092\n",
      "Epoch 55/1000\n",
      "66/71 [==========================>...] - ETA: 0s - loss: 0.9146 - accuracy: 0.6596\n",
      "Epoch 55: saving model to model/keypoint_classifier\\keypoint_classifier.hdf5\n",
      "71/71 [==============================] - 0s 3ms/step - loss: 0.9151 - accuracy: 0.6596 - val_loss: 0.4883 - val_accuracy: 0.9078\n",
      "Epoch 56/1000\n",
      "65/71 [==========================>...] - ETA: 0s - loss: 0.9043 - accuracy: 0.6651\n",
      "Epoch 56: saving model to model/keypoint_classifier\\keypoint_classifier.hdf5\n",
      "71/71 [==============================] - 0s 3ms/step - loss: 0.9003 - accuracy: 0.6663 - val_loss: 0.4808 - val_accuracy: 0.9108\n",
      "Epoch 57/1000\n",
      "64/71 [==========================>...] - ETA: 0s - loss: 0.9084 - accuracy: 0.6627\n",
      "Epoch 57: saving model to model/keypoint_classifier\\keypoint_classifier.hdf5\n",
      "71/71 [==============================] - 0s 3ms/step - loss: 0.9118 - accuracy: 0.6596 - val_loss: 0.4867 - val_accuracy: 0.9062\n",
      "Epoch 58/1000\n",
      "66/71 [==========================>...] - ETA: 0s - loss: 0.8756 - accuracy: 0.6735\n",
      "Epoch 58: saving model to model/keypoint_classifier\\keypoint_classifier.hdf5\n",
      "71/71 [==============================] - 0s 3ms/step - loss: 0.8786 - accuracy: 0.6725 - val_loss: 0.4805 - val_accuracy: 0.9125\n",
      "Epoch 59/1000\n",
      "66/71 [==========================>...] - ETA: 0s - loss: 0.8896 - accuracy: 0.6707\n",
      "Epoch 59: saving model to model/keypoint_classifier\\keypoint_classifier.hdf5\n",
      "71/71 [==============================] - 0s 3ms/step - loss: 0.8958 - accuracy: 0.6679 - val_loss: 0.4736 - val_accuracy: 0.9134\n",
      "Epoch 60/1000\n",
      "64/71 [==========================>...] - ETA: 0s - loss: 0.8863 - accuracy: 0.6687\n",
      "Epoch 60: saving model to model/keypoint_classifier\\keypoint_classifier.hdf5\n",
      "71/71 [==============================] - 0s 3ms/step - loss: 0.8864 - accuracy: 0.6685 - val_loss: 0.4870 - val_accuracy: 0.8992\n",
      "Epoch 61/1000\n",
      "66/71 [==========================>...] - ETA: 0s - loss: 0.8593 - accuracy: 0.6802\n",
      "Epoch 61: saving model to model/keypoint_classifier\\keypoint_classifier.hdf5\n",
      "71/71 [==============================] - 0s 3ms/step - loss: 0.8624 - accuracy: 0.6793 - val_loss: 0.4716 - val_accuracy: 0.9012\n",
      "Epoch 62/1000\n",
      "64/71 [==========================>...] - ETA: 0s - loss: 0.8817 - accuracy: 0.6755\n",
      "Epoch 62: saving model to model/keypoint_classifier\\keypoint_classifier.hdf5\n",
      "71/71 [==============================] - 0s 3ms/step - loss: 0.8767 - accuracy: 0.6769 - val_loss: 0.4746 - val_accuracy: 0.9125\n",
      "Epoch 63/1000\n",
      "64/71 [==========================>...] - ETA: 0s - loss: 0.8839 - accuracy: 0.6681\n",
      "Epoch 63: saving model to model/keypoint_classifier\\keypoint_classifier.hdf5\n",
      "71/71 [==============================] - 0s 3ms/step - loss: 0.8805 - accuracy: 0.6686 - val_loss: 0.4829 - val_accuracy: 0.9121\n",
      "Epoch 64/1000\n",
      "65/71 [==========================>...] - ETA: 0s - loss: 0.8940 - accuracy: 0.6697\n",
      "Epoch 64: saving model to model/keypoint_classifier\\keypoint_classifier.hdf5\n",
      "71/71 [==============================] - 0s 3ms/step - loss: 0.8911 - accuracy: 0.6726 - val_loss: 0.4760 - val_accuracy: 0.9144\n",
      "Epoch 65/1000\n",
      "65/71 [==========================>...] - ETA: 0s - loss: 0.8917 - accuracy: 0.6673\n",
      "Epoch 65: saving model to model/keypoint_classifier\\keypoint_classifier.hdf5\n",
      "71/71 [==============================] - 0s 3ms/step - loss: 0.8928 - accuracy: 0.6670 - val_loss: 0.4865 - val_accuracy: 0.9161\n",
      "Epoch 66/1000\n",
      "64/71 [==========================>...] - ETA: 0s - loss: 0.8691 - accuracy: 0.6792\n",
      "Epoch 66: saving model to model/keypoint_classifier\\keypoint_classifier.hdf5\n",
      "71/71 [==============================] - 0s 3ms/step - loss: 0.8722 - accuracy: 0.6794 - val_loss: 0.4796 - val_accuracy: 0.9088\n",
      "Epoch 67/1000\n",
      "65/71 [==========================>...] - ETA: 0s - loss: 0.8713 - accuracy: 0.6784\n",
      "Epoch 67: saving model to model/keypoint_classifier\\keypoint_classifier.hdf5\n",
      "71/71 [==============================] - 0s 3ms/step - loss: 0.8772 - accuracy: 0.6778 - val_loss: 0.4607 - val_accuracy: 0.9204\n",
      "Epoch 68/1000\n",
      "63/71 [=========================>....] - ETA: 0s - loss: 0.8503 - accuracy: 0.6870\n",
      "Epoch 68: saving model to model/keypoint_classifier\\keypoint_classifier.hdf5\n",
      "71/71 [==============================] - 0s 3ms/step - loss: 0.8533 - accuracy: 0.6847 - val_loss: 0.4613 - val_accuracy: 0.9171\n",
      "Epoch 69/1000\n",
      "66/71 [==========================>...] - ETA: 0s - loss: 0.8772 - accuracy: 0.6732\n",
      "Epoch 69: saving model to model/keypoint_classifier\\keypoint_classifier.hdf5\n",
      "71/71 [==============================] - 0s 3ms/step - loss: 0.8791 - accuracy: 0.6720 - val_loss: 0.4788 - val_accuracy: 0.9138\n",
      "Epoch 70/1000\n",
      "65/71 [==========================>...] - ETA: 0s - loss: 0.8549 - accuracy: 0.6864\n",
      "Epoch 70: saving model to model/keypoint_classifier\\keypoint_classifier.hdf5\n",
      "71/71 [==============================] - 0s 3ms/step - loss: 0.8593 - accuracy: 0.6837 - val_loss: 0.4611 - val_accuracy: 0.9197\n",
      "Epoch 71/1000\n",
      "64/71 [==========================>...] - ETA: 0s - loss: 0.8620 - accuracy: 0.6788\n",
      "Epoch 71: saving model to model/keypoint_classifier\\keypoint_classifier.hdf5\n",
      "71/71 [==============================] - 0s 3ms/step - loss: 0.8597 - accuracy: 0.6789 - val_loss: 0.4617 - val_accuracy: 0.9108\n",
      "Epoch 72/1000\n",
      "65/71 [==========================>...] - ETA: 0s - loss: 0.8331 - accuracy: 0.6894\n",
      "Epoch 72: saving model to model/keypoint_classifier\\keypoint_classifier.hdf5\n",
      "71/71 [==============================] - 0s 3ms/step - loss: 0.8383 - accuracy: 0.6886 - val_loss: 0.4600 - val_accuracy: 0.9181\n",
      "Epoch 73/1000\n",
      "64/71 [==========================>...] - ETA: 0s - loss: 0.8496 - accuracy: 0.6852\n",
      "Epoch 73: saving model to model/keypoint_classifier\\keypoint_classifier.hdf5\n",
      "71/71 [==============================] - 0s 3ms/step - loss: 0.8560 - accuracy: 0.6841 - val_loss: 0.4685 - val_accuracy: 0.9062\n",
      "Epoch 74/1000\n",
      "60/71 [========================>.....] - ETA: 0s - loss: 0.8660 - accuracy: 0.6801\n",
      "Epoch 74: saving model to model/keypoint_classifier\\keypoint_classifier.hdf5\n",
      "71/71 [==============================] - 0s 3ms/step - loss: 0.8664 - accuracy: 0.6804 - val_loss: 0.4659 - val_accuracy: 0.9161\n",
      "Epoch 75/1000\n",
      "65/71 [==========================>...] - ETA: 0s - loss: 0.8493 - accuracy: 0.6853\n",
      "Epoch 75: saving model to model/keypoint_classifier\\keypoint_classifier.hdf5\n",
      "71/71 [==============================] - 0s 3ms/step - loss: 0.8536 - accuracy: 0.6824 - val_loss: 0.4664 - val_accuracy: 0.9108\n",
      "Epoch 76/1000\n",
      "64/71 [==========================>...] - ETA: 0s - loss: 0.8406 - accuracy: 0.6862\n",
      "Epoch 76: saving model to model/keypoint_classifier\\keypoint_classifier.hdf5\n",
      "71/71 [==============================] - 0s 3ms/step - loss: 0.8425 - accuracy: 0.6865 - val_loss: 0.4599 - val_accuracy: 0.9174\n",
      "Epoch 77/1000\n",
      "60/71 [========================>.....] - ETA: 0s - loss: 0.8631 - accuracy: 0.6828\n",
      "Epoch 77: saving model to model/keypoint_classifier\\keypoint_classifier.hdf5\n",
      "71/71 [==============================] - 0s 3ms/step - loss: 0.8567 - accuracy: 0.6876 - val_loss: 0.4571 - val_accuracy: 0.9191\n",
      "Epoch 78/1000\n",
      "66/71 [==========================>...] - ETA: 0s - loss: 0.8442 - accuracy: 0.6873\n",
      "Epoch 78: saving model to model/keypoint_classifier\\keypoint_classifier.hdf5\n",
      "71/71 [==============================] - 0s 3ms/step - loss: 0.8411 - accuracy: 0.6891 - val_loss: 0.4665 - val_accuracy: 0.9101\n",
      "Epoch 79/1000\n",
      "64/71 [==========================>...] - ETA: 0s - loss: 0.8470 - accuracy: 0.6937\n",
      "Epoch 79: saving model to model/keypoint_classifier\\keypoint_classifier.hdf5\n",
      "71/71 [==============================] - 0s 3ms/step - loss: 0.8483 - accuracy: 0.6922 - val_loss: 0.4578 - val_accuracy: 0.9161\n",
      "Epoch 80/1000\n",
      "65/71 [==========================>...] - ETA: 0s - loss: 0.8377 - accuracy: 0.6912\n",
      "Epoch 80: saving model to model/keypoint_classifier\\keypoint_classifier.hdf5\n",
      "71/71 [==============================] - 0s 3ms/step - loss: 0.8421 - accuracy: 0.6888 - val_loss: 0.4600 - val_accuracy: 0.9121\n",
      "Epoch 81/1000\n",
      "63/71 [=========================>....] - ETA: 0s - loss: 0.8550 - accuracy: 0.6794\n",
      "Epoch 81: saving model to model/keypoint_classifier\\keypoint_classifier.hdf5\n",
      "71/71 [==============================] - 0s 3ms/step - loss: 0.8520 - accuracy: 0.6810 - val_loss: 0.4646 - val_accuracy: 0.9164\n",
      "Epoch 82/1000\n",
      "63/71 [=========================>....] - ETA: 0s - loss: 0.8480 - accuracy: 0.6845\n",
      "Epoch 82: saving model to model/keypoint_classifier\\keypoint_classifier.hdf5\n",
      "71/71 [==============================] - 0s 3ms/step - loss: 0.8535 - accuracy: 0.6832 - val_loss: 0.4582 - val_accuracy: 0.9167\n",
      "Epoch 83/1000\n",
      "65/71 [==========================>...] - ETA: 0s - loss: 0.8438 - accuracy: 0.6839\n",
      "Epoch 83: saving model to model/keypoint_classifier\\keypoint_classifier.hdf5\n",
      "71/71 [==============================] - 0s 3ms/step - loss: 0.8477 - accuracy: 0.6822 - val_loss: 0.4594 - val_accuracy: 0.9115\n",
      "Epoch 84/1000\n",
      "59/71 [=======================>......] - ETA: 0s - loss: 0.8406 - accuracy: 0.6961\n",
      "Epoch 84: saving model to model/keypoint_classifier\\keypoint_classifier.hdf5\n",
      "71/71 [==============================] - 0s 3ms/step - loss: 0.8441 - accuracy: 0.6939 - val_loss: 0.4608 - val_accuracy: 0.9174\n",
      "Epoch 85/1000\n",
      "66/71 [==========================>...] - ETA: 0s - loss: 0.8453 - accuracy: 0.6888\n",
      "Epoch 85: saving model to model/keypoint_classifier\\keypoint_classifier.hdf5\n",
      "71/71 [==============================] - 0s 3ms/step - loss: 0.8458 - accuracy: 0.6896 - val_loss: 0.4458 - val_accuracy: 0.9194\n",
      "Epoch 86/1000\n",
      "66/71 [==========================>...] - ETA: 0s - loss: 0.8412 - accuracy: 0.6867\n",
      "Epoch 86: saving model to model/keypoint_classifier\\keypoint_classifier.hdf5\n",
      "71/71 [==============================] - 0s 3ms/step - loss: 0.8409 - accuracy: 0.6871 - val_loss: 0.4635 - val_accuracy: 0.9095\n",
      "Epoch 87/1000\n",
      "64/71 [==========================>...] - ETA: 0s - loss: 0.8402 - accuracy: 0.6927\n",
      "Epoch 87: saving model to model/keypoint_classifier\\keypoint_classifier.hdf5\n",
      "71/71 [==============================] - 0s 3ms/step - loss: 0.8422 - accuracy: 0.6923 - val_loss: 0.4451 - val_accuracy: 0.9177\n",
      "Epoch 88/1000\n",
      "66/71 [==========================>...] - ETA: 0s - loss: 0.8258 - accuracy: 0.6934\n",
      "Epoch 88: saving model to model/keypoint_classifier\\keypoint_classifier.hdf5\n",
      "71/71 [==============================] - 0s 3ms/step - loss: 0.8253 - accuracy: 0.6949 - val_loss: 0.4578 - val_accuracy: 0.9174\n",
      "Epoch 89/1000\n",
      "60/71 [========================>.....] - ETA: 0s - loss: 0.8362 - accuracy: 0.6880\n",
      "Epoch 89: saving model to model/keypoint_classifier\\keypoint_classifier.hdf5\n",
      "71/71 [==============================] - 0s 3ms/step - loss: 0.8316 - accuracy: 0.6902 - val_loss: 0.4514 - val_accuracy: 0.9144\n",
      "Epoch 90/1000\n",
      "63/71 [=========================>....] - ETA: 0s - loss: 0.8412 - accuracy: 0.6943\n",
      "Epoch 90: saving model to model/keypoint_classifier\\keypoint_classifier.hdf5\n",
      "71/71 [==============================] - 0s 3ms/step - loss: 0.8439 - accuracy: 0.6933 - val_loss: 0.4656 - val_accuracy: 0.9118\n",
      "Epoch 91/1000\n",
      "65/71 [==========================>...] - ETA: 0s - loss: 0.8324 - accuracy: 0.6947\n",
      "Epoch 91: saving model to model/keypoint_classifier\\keypoint_classifier.hdf5\n",
      "71/71 [==============================] - 0s 3ms/step - loss: 0.8289 - accuracy: 0.6960 - val_loss: 0.4560 - val_accuracy: 0.9191\n",
      "Epoch 92/1000\n",
      "65/71 [==========================>...] - ETA: 0s - loss: 0.8495 - accuracy: 0.6838\n",
      "Epoch 92: saving model to model/keypoint_classifier\\keypoint_classifier.hdf5\n",
      "71/71 [==============================] - 0s 3ms/step - loss: 0.8455 - accuracy: 0.6856 - val_loss: 0.4565 - val_accuracy: 0.9144\n",
      "Epoch 93/1000\n",
      "64/71 [==========================>...] - ETA: 0s - loss: 0.8440 - accuracy: 0.6898\n",
      "Epoch 93: saving model to model/keypoint_classifier\\keypoint_classifier.hdf5\n",
      "71/71 [==============================] - 0s 3ms/step - loss: 0.8392 - accuracy: 0.6917 - val_loss: 0.4628 - val_accuracy: 0.9111\n",
      "Epoch 94/1000\n",
      "66/71 [==========================>...] - ETA: 0s - loss: 0.8328 - accuracy: 0.6869\n",
      "Epoch 94: saving model to model/keypoint_classifier\\keypoint_classifier.hdf5\n",
      "71/71 [==============================] - 0s 3ms/step - loss: 0.8290 - accuracy: 0.6889 - val_loss: 0.4492 - val_accuracy: 0.9240\n",
      "Epoch 95/1000\n",
      "63/71 [=========================>....] - ETA: 0s - loss: 0.8423 - accuracy: 0.6854\n",
      "Epoch 95: saving model to model/keypoint_classifier\\keypoint_classifier.hdf5\n",
      "71/71 [==============================] - 0s 3ms/step - loss: 0.8358 - accuracy: 0.6876 - val_loss: 0.4491 - val_accuracy: 0.9187\n",
      "Epoch 96/1000\n",
      "65/71 [==========================>...] - ETA: 0s - loss: 0.8288 - accuracy: 0.6993\n",
      "Epoch 96: saving model to model/keypoint_classifier\\keypoint_classifier.hdf5\n",
      "71/71 [==============================] - 0s 3ms/step - loss: 0.8286 - accuracy: 0.6988 - val_loss: 0.4465 - val_accuracy: 0.9184\n",
      "Epoch 97/1000\n",
      "64/71 [==========================>...] - ETA: 0s - loss: 0.8120 - accuracy: 0.6959\n",
      "Epoch 97: saving model to model/keypoint_classifier\\keypoint_classifier.hdf5\n",
      "71/71 [==============================] - 0s 3ms/step - loss: 0.8115 - accuracy: 0.6967 - val_loss: 0.4468 - val_accuracy: 0.9144\n",
      "Epoch 98/1000\n",
      "65/71 [==========================>...] - ETA: 0s - loss: 0.8477 - accuracy: 0.6887\n",
      "Epoch 98: saving model to model/keypoint_classifier\\keypoint_classifier.hdf5\n",
      "71/71 [==============================] - 0s 3ms/step - loss: 0.8510 - accuracy: 0.6891 - val_loss: 0.4609 - val_accuracy: 0.9121\n",
      "Epoch 99/1000\n",
      "65/71 [==========================>...] - ETA: 0s - loss: 0.8434 - accuracy: 0.6901\n",
      "Epoch 99: saving model to model/keypoint_classifier\\keypoint_classifier.hdf5\n",
      "71/71 [==============================] - 0s 3ms/step - loss: 0.8401 - accuracy: 0.6910 - val_loss: 0.4547 - val_accuracy: 0.9121\n",
      "Epoch 100/1000\n",
      "64/71 [==========================>...] - ETA: 0s - loss: 0.8232 - accuracy: 0.6923\n",
      "Epoch 100: saving model to model/keypoint_classifier\\keypoint_classifier.hdf5\n",
      "71/71 [==============================] - 0s 3ms/step - loss: 0.8243 - accuracy: 0.6934 - val_loss: 0.4434 - val_accuracy: 0.9207\n",
      "Epoch 101/1000\n",
      "62/71 [=========================>....] - ETA: 0s - loss: 0.8238 - accuracy: 0.6966\n",
      "Epoch 101: saving model to model/keypoint_classifier\\keypoint_classifier.hdf5\n",
      "71/71 [==============================] - 0s 3ms/step - loss: 0.8273 - accuracy: 0.6961 - val_loss: 0.4410 - val_accuracy: 0.9194\n",
      "Epoch 102/1000\n",
      "59/71 [=======================>......] - ETA: 0s - loss: 0.8170 - accuracy: 0.7005\n",
      "Epoch 102: saving model to model/keypoint_classifier\\keypoint_classifier.hdf5\n",
      "71/71 [==============================] - 0s 3ms/step - loss: 0.8188 - accuracy: 0.6997 - val_loss: 0.4403 - val_accuracy: 0.9224\n",
      "Epoch 103/1000\n",
      "62/71 [=========================>....] - ETA: 0s - loss: 0.8076 - accuracy: 0.7027\n",
      "Epoch 103: saving model to model/keypoint_classifier\\keypoint_classifier.hdf5\n",
      "71/71 [==============================] - 0s 3ms/step - loss: 0.8097 - accuracy: 0.7033 - val_loss: 0.4409 - val_accuracy: 0.9191\n",
      "Epoch 104/1000\n",
      "65/71 [==========================>...] - ETA: 0s - loss: 0.8250 - accuracy: 0.6951\n",
      "Epoch 104: saving model to model/keypoint_classifier\\keypoint_classifier.hdf5\n",
      "71/71 [==============================] - 0s 3ms/step - loss: 0.8221 - accuracy: 0.6957 - val_loss: 0.4385 - val_accuracy: 0.9217\n",
      "Epoch 105/1000\n",
      "64/71 [==========================>...] - ETA: 0s - loss: 0.8171 - accuracy: 0.7025\n",
      "Epoch 105: saving model to model/keypoint_classifier\\keypoint_classifier.hdf5\n",
      "71/71 [==============================] - 0s 3ms/step - loss: 0.8211 - accuracy: 0.7020 - val_loss: 0.4594 - val_accuracy: 0.9115\n",
      "Epoch 106/1000\n",
      "62/71 [=========================>....] - ETA: 0s - loss: 0.8182 - accuracy: 0.6998\n",
      "Epoch 106: saving model to model/keypoint_classifier\\keypoint_classifier.hdf5\n",
      "71/71 [==============================] - 0s 3ms/step - loss: 0.8223 - accuracy: 0.6961 - val_loss: 0.4457 - val_accuracy: 0.9220\n",
      "Epoch 107/1000\n",
      "63/71 [=========================>....] - ETA: 0s - loss: 0.8171 - accuracy: 0.7021\n",
      "Epoch 107: saving model to model/keypoint_classifier\\keypoint_classifier.hdf5\n",
      "71/71 [==============================] - 0s 3ms/step - loss: 0.8190 - accuracy: 0.6995 - val_loss: 0.4527 - val_accuracy: 0.9128\n",
      "Epoch 108/1000\n",
      "63/71 [=========================>....] - ETA: 0s - loss: 0.8127 - accuracy: 0.7014\n",
      "Epoch 108: saving model to model/keypoint_classifier\\keypoint_classifier.hdf5\n",
      "71/71 [==============================] - 0s 3ms/step - loss: 0.8136 - accuracy: 0.7006 - val_loss: 0.4586 - val_accuracy: 0.9148\n",
      "Epoch 109/1000\n",
      "63/71 [=========================>....] - ETA: 0s - loss: 0.8181 - accuracy: 0.6969\n",
      "Epoch 109: saving model to model/keypoint_classifier\\keypoint_classifier.hdf5\n",
      "71/71 [==============================] - 0s 3ms/step - loss: 0.8221 - accuracy: 0.6979 - val_loss: 0.4537 - val_accuracy: 0.9158\n",
      "Epoch 110/1000\n",
      "64/71 [==========================>...] - ETA: 0s - loss: 0.8137 - accuracy: 0.7000\n",
      "Epoch 110: saving model to model/keypoint_classifier\\keypoint_classifier.hdf5\n",
      "71/71 [==============================] - 0s 3ms/step - loss: 0.8153 - accuracy: 0.6971 - val_loss: 0.4599 - val_accuracy: 0.9144\n",
      "Epoch 111/1000\n",
      "62/71 [=========================>....] - ETA: 0s - loss: 0.8144 - accuracy: 0.7039\n",
      "Epoch 111: saving model to model/keypoint_classifier\\keypoint_classifier.hdf5\n",
      "71/71 [==============================] - 0s 3ms/step - loss: 0.8102 - accuracy: 0.7036 - val_loss: 0.4443 - val_accuracy: 0.9167\n",
      "Epoch 112/1000\n",
      "61/71 [========================>.....] - ETA: 0s - loss: 0.8295 - accuracy: 0.6874\n",
      "Epoch 112: saving model to model/keypoint_classifier\\keypoint_classifier.hdf5\n",
      "71/71 [==============================] - 0s 3ms/step - loss: 0.8311 - accuracy: 0.6868 - val_loss: 0.4413 - val_accuracy: 0.9167\n",
      "Epoch 113/1000\n",
      "64/71 [==========================>...] - ETA: 0s - loss: 0.8079 - accuracy: 0.7024\n",
      "Epoch 113: saving model to model/keypoint_classifier\\keypoint_classifier.hdf5\n",
      "71/71 [==============================] - 0s 3ms/step - loss: 0.8049 - accuracy: 0.7020 - val_loss: 0.4435 - val_accuracy: 0.9161\n",
      "Epoch 114/1000\n",
      "64/71 [==========================>...] - ETA: 0s - loss: 0.8098 - accuracy: 0.6962\n",
      "Epoch 114: saving model to model/keypoint_classifier\\keypoint_classifier.hdf5\n",
      "71/71 [==============================] - 0s 3ms/step - loss: 0.8078 - accuracy: 0.6982 - val_loss: 0.4348 - val_accuracy: 0.9197\n",
      "Epoch 115/1000\n",
      "64/71 [==========================>...] - ETA: 0s - loss: 0.8256 - accuracy: 0.6924\n",
      "Epoch 115: saving model to model/keypoint_classifier\\keypoint_classifier.hdf5\n",
      "71/71 [==============================] - 0s 3ms/step - loss: 0.8248 - accuracy: 0.6938 - val_loss: 0.4580 - val_accuracy: 0.9105\n",
      "Epoch 116/1000\n",
      "63/71 [=========================>....] - ETA: 0s - loss: 0.8100 - accuracy: 0.7023\n",
      "Epoch 116: saving model to model/keypoint_classifier\\keypoint_classifier.hdf5\n",
      "71/71 [==============================] - 0s 3ms/step - loss: 0.8128 - accuracy: 0.7009 - val_loss: 0.4463 - val_accuracy: 0.9118\n",
      "Epoch 117/1000\n",
      "63/71 [=========================>....] - ETA: 0s - loss: 0.8054 - accuracy: 0.7023\n",
      "Epoch 117: saving model to model/keypoint_classifier\\keypoint_classifier.hdf5\n",
      "71/71 [==============================] - 0s 3ms/step - loss: 0.8081 - accuracy: 0.7014 - val_loss: 0.4438 - val_accuracy: 0.9204\n",
      "Epoch 118/1000\n",
      "64/71 [==========================>...] - ETA: 0s - loss: 0.8054 - accuracy: 0.7003\n",
      "Epoch 118: saving model to model/keypoint_classifier\\keypoint_classifier.hdf5\n",
      "71/71 [==============================] - 0s 3ms/step - loss: 0.8076 - accuracy: 0.6984 - val_loss: 0.4394 - val_accuracy: 0.9220\n",
      "Epoch 119/1000\n",
      "63/71 [=========================>....] - ETA: 0s - loss: 0.7992 - accuracy: 0.7035\n",
      "Epoch 119: saving model to model/keypoint_classifier\\keypoint_classifier.hdf5\n",
      "71/71 [==============================] - 0s 3ms/step - loss: 0.8021 - accuracy: 0.7038 - val_loss: 0.4429 - val_accuracy: 0.9187\n",
      "Epoch 120/1000\n",
      "62/71 [=========================>....] - ETA: 0s - loss: 0.8053 - accuracy: 0.7040\n",
      "Epoch 120: saving model to model/keypoint_classifier\\keypoint_classifier.hdf5\n",
      "71/71 [==============================] - 0s 3ms/step - loss: 0.8038 - accuracy: 0.7029 - val_loss: 0.4543 - val_accuracy: 0.9154\n",
      "Epoch 121/1000\n",
      "63/71 [=========================>....] - ETA: 0s - loss: 0.8148 - accuracy: 0.6917\n",
      "Epoch 121: saving model to model/keypoint_classifier\\keypoint_classifier.hdf5\n",
      "71/71 [==============================] - 0s 3ms/step - loss: 0.8095 - accuracy: 0.6951 - val_loss: 0.4543 - val_accuracy: 0.9125\n",
      "Epoch 122/1000\n",
      "59/71 [=======================>......] - ETA: 0s - loss: 0.8165 - accuracy: 0.6939\n",
      "Epoch 122: saving model to model/keypoint_classifier\\keypoint_classifier.hdf5\n",
      "71/71 [==============================] - 0s 3ms/step - loss: 0.8152 - accuracy: 0.6961 - val_loss: 0.4489 - val_accuracy: 0.9138\n",
      "Epoch 123/1000\n",
      "64/71 [==========================>...] - ETA: 0s - loss: 0.7947 - accuracy: 0.7046\n",
      "Epoch 123: saving model to model/keypoint_classifier\\keypoint_classifier.hdf5\n",
      "71/71 [==============================] - 0s 3ms/step - loss: 0.7951 - accuracy: 0.7038 - val_loss: 0.4389 - val_accuracy: 0.9082\n",
      "Epoch 124/1000\n",
      "63/71 [=========================>....] - ETA: 0s - loss: 0.8127 - accuracy: 0.7005\n",
      "Epoch 124: saving model to model/keypoint_classifier\\keypoint_classifier.hdf5\n",
      "71/71 [==============================] - 0s 3ms/step - loss: 0.8131 - accuracy: 0.7001 - val_loss: 0.4546 - val_accuracy: 0.9151\n",
      "Epoch 125/1000\n",
      "63/71 [=========================>....] - ETA: 0s - loss: 0.8063 - accuracy: 0.7020\n",
      "Epoch 125: saving model to model/keypoint_classifier\\keypoint_classifier.hdf5\n",
      "71/71 [==============================] - 0s 3ms/step - loss: 0.8059 - accuracy: 0.7039 - val_loss: 0.4441 - val_accuracy: 0.9148\n",
      "Epoch 126/1000\n",
      "63/71 [=========================>....] - ETA: 0s - loss: 0.8155 - accuracy: 0.6974\n",
      "Epoch 126: saving model to model/keypoint_classifier\\keypoint_classifier.hdf5\n",
      "71/71 [==============================] - 0s 3ms/step - loss: 0.8165 - accuracy: 0.6967 - val_loss: 0.4528 - val_accuracy: 0.9125\n",
      "Epoch 127/1000\n",
      "62/71 [=========================>....] - ETA: 0s - loss: 0.7994 - accuracy: 0.7102\n",
      "Epoch 127: saving model to model/keypoint_classifier\\keypoint_classifier.hdf5\n",
      "71/71 [==============================] - 0s 3ms/step - loss: 0.8075 - accuracy: 0.7099 - val_loss: 0.4550 - val_accuracy: 0.9088\n",
      "Epoch 128/1000\n",
      "63/71 [=========================>....] - ETA: 0s - loss: 0.7913 - accuracy: 0.7113\n",
      "Epoch 128: saving model to model/keypoint_classifier\\keypoint_classifier.hdf5\n",
      "71/71 [==============================] - 0s 3ms/step - loss: 0.7898 - accuracy: 0.7124 - val_loss: 0.4389 - val_accuracy: 0.9138\n",
      "Epoch 129/1000\n",
      "63/71 [=========================>....] - ETA: 0s - loss: 0.8076 - accuracy: 0.7030\n",
      "Epoch 129: saving model to model/keypoint_classifier\\keypoint_classifier.hdf5\n",
      "71/71 [==============================] - 0s 3ms/step - loss: 0.8040 - accuracy: 0.7026 - val_loss: 0.4489 - val_accuracy: 0.9095\n",
      "Epoch 130/1000\n",
      "62/71 [=========================>....] - ETA: 0s - loss: 0.7941 - accuracy: 0.7043\n",
      "Epoch 130: saving model to model/keypoint_classifier\\keypoint_classifier.hdf5\n",
      "71/71 [==============================] - 0s 3ms/step - loss: 0.7950 - accuracy: 0.7063 - val_loss: 0.4429 - val_accuracy: 0.9141\n",
      "Epoch 131/1000\n",
      "64/71 [==========================>...] - ETA: 0s - loss: 0.8128 - accuracy: 0.6980\n",
      "Epoch 131: saving model to model/keypoint_classifier\\keypoint_classifier.hdf5\n",
      "71/71 [==============================] - 0s 3ms/step - loss: 0.8097 - accuracy: 0.6994 - val_loss: 0.4622 - val_accuracy: 0.9055\n",
      "Epoch 132/1000\n",
      "63/71 [=========================>....] - ETA: 0s - loss: 0.8043 - accuracy: 0.7035\n",
      "Epoch 132: saving model to model/keypoint_classifier\\keypoint_classifier.hdf5\n",
      "71/71 [==============================] - 0s 3ms/step - loss: 0.8057 - accuracy: 0.7008 - val_loss: 0.4614 - val_accuracy: 0.9092\n",
      "Epoch 133/1000\n",
      "63/71 [=========================>....] - ETA: 0s - loss: 0.8015 - accuracy: 0.7057\n",
      "Epoch 133: saving model to model/keypoint_classifier\\keypoint_classifier.hdf5\n",
      "71/71 [==============================] - 0s 3ms/step - loss: 0.8004 - accuracy: 0.7068 - val_loss: 0.4520 - val_accuracy: 0.9101\n",
      "Epoch 134/1000\n",
      "63/71 [=========================>....] - ETA: 0s - loss: 0.8018 - accuracy: 0.7061\n",
      "Epoch 134: saving model to model/keypoint_classifier\\keypoint_classifier.hdf5\n",
      "71/71 [==============================] - 0s 3ms/step - loss: 0.8067 - accuracy: 0.7041 - val_loss: 0.4443 - val_accuracy: 0.9148\n",
      "Epoch 134: early stopping\n"
     ]
    },
    {
     "data": {
      "text/plain": "<keras.callbacks.History at 0x1f37fd1fcd0>"
     },
     "execution_count": 143,
     "metadata": {},
     "output_type": "execute_result"
    }
   ],
   "source": [
    "model.fit(\n",
    "    X_train,\n",
    "    y_train,\n",
    "    epochs=1000,\n",
    "    batch_size=128,\n",
    "    validation_data=(X_test, y_test),\n",
    "    callbacks=[cp_callback, es_callback]\n",
    ")"
   ]
  },
  {
   "cell_type": "code",
   "execution_count": 144,
   "metadata": {
    "ExecuteTime": {
     "end_time": "2023-12-01T19:39:56.894264300Z",
     "start_time": "2023-12-01T19:39:56.740601900Z"
    }
   },
   "outputs": [
    {
     "name": "stdout",
     "output_type": "stream",
     "text": [
      "24/24 [==============================] - 0s 1ms/step - loss: 0.4443 - accuracy: 0.9148\n"
     ]
    }
   ],
   "source": [
    "# Model evaluation\n",
    "val_loss, val_acc = model.evaluate(X_test, y_test, batch_size=128)"
   ]
  },
  {
   "cell_type": "code",
   "execution_count": 145,
   "metadata": {
    "ExecuteTime": {
     "end_time": "2023-12-01T19:39:56.960779100Z",
     "start_time": "2023-12-01T19:39:56.867266300Z"
    }
   },
   "outputs": [],
   "source": [
    "# Load saved model\n",
    "model = tf.keras.models.load_model(model_save_path)"
   ]
  },
  {
   "cell_type": "code",
   "execution_count": 146,
   "metadata": {
    "ExecuteTime": {
     "end_time": "2023-12-01T19:39:57.090242900Z",
     "start_time": "2023-12-01T19:39:56.960779100Z"
    }
   },
   "outputs": [
    {
     "name": "stdout",
     "output_type": "stream",
     "text": [
      "1/1 [==============================] - 0s 60ms/step\n",
      "[1.7503130e-01 9.7589176e-03 8.5340605e-07 3.0470587e-04 2.0850359e-03\n",
      " 3.4366694e-04 2.1492576e-03 1.8021850e-01 6.2951136e-01 5.9640879e-04]\n",
      "8\n"
     ]
    }
   ],
   "source": [
    "# Inference test\n",
    "predict_result = model.predict(np.array([X_test[0]]))\n",
    "print(np.squeeze(predict_result))\n",
    "print(np.argmax(np.squeeze(predict_result)))"
   ]
  },
  {
   "cell_type": "markdown",
   "metadata": {},
   "source": [
    "# Confusion matrix"
   ]
  },
  {
   "cell_type": "code",
   "execution_count": 147,
   "metadata": {
    "ExecuteTime": {
     "end_time": "2023-12-01T19:39:57.638245Z",
     "start_time": "2023-12-01T19:39:57.087244500Z"
    }
   },
   "outputs": [
    {
     "name": "stdout",
     "output_type": "stream",
     "text": [
      "95/95 [==============================] - 0s 899us/step\n"
     ]
    },
    {
     "data": {
      "text/plain": "<Figure size 700x600 with 2 Axes>",
      "image/png": "[encoded data removed]"
     },
     "metadata": {},
     "output_type": "display_data"
    },
    {
     "name": "stdout",
     "output_type": "stream",
     "text": [
      "Classification Report\n",
      "              precision    recall  f1-score   support\n",
      "\n",
      "           0       0.98      0.80      0.88       387\n",
      "           1       0.94      0.76      0.84       394\n",
      "           2       0.00      0.00      0.00         1\n",
      "           3       0.74      0.98      0.84       168\n",
      "           4       0.78      0.97      0.86       210\n",
      "           5       1.00      0.98      0.99       227\n",
      "           6       0.99      0.93      0.96       321\n",
      "           7       0.92      0.99      0.96       439\n",
      "           8       0.94      0.92      0.93       529\n",
      "           9       0.89      0.99      0.94       351\n",
      "\n",
      "    accuracy                           0.91      3027\n",
      "   macro avg       0.82      0.83      0.82      3027\n",
      "weighted avg       0.92      0.91      0.91      3027\n"
     ]
    },
    {
     "name": "stderr",
     "output_type": "stream",
     "text": [
      "C:\\Users\\sd\\anaconda3\\envs\\blindseer-pi\\lib\\site-packages\\sklearn\\metrics\\_classification.py:1469: UndefinedMetricWarning: Precision and F-score are ill-defined and being set to 0.0 in labels with no predicted samples. Use `zero_division` parameter to control this behavior.\n",
      "  _warn_prf(average, modifier, msg_start, len(result))\n",
      "C:\\Users\\sd\\anaconda3\\envs\\blindseer-pi\\lib\\site-packages\\sklearn\\metrics\\_classification.py:1469: UndefinedMetricWarning: Precision and F-score are ill-defined and being set to 0.0 in labels with no predicted samples. Use `zero_division` parameter to control this behavior.\n",
      "  _warn_prf(average, modifier, msg_start, len(result))\n",
      "C:\\Users\\sd\\anaconda3\\envs\\blindseer-pi\\lib\\site-packages\\sklearn\\metrics\\_classification.py:1469: UndefinedMetricWarning: Precision and F-score are ill-defined and being set to 0.0 in labels with no predicted samples. Use `zero_division` parameter to control this behavior.\n",
      "  _warn_prf(average, modifier, msg_start, len(result))\n"
     ]
    }
   ],
   "source": [
    "import pandas as pd\n",
    "import seaborn as sns\n",
    "import matplotlib.pyplot as plt\n",
    "from sklearn.metrics import confusion_matrix, classification_report\n",
    "\n",
    "def print_confusion_matrix(y_true, y_pred, report=True):\n",
    "    labels = sorted(list(set(y_true)))\n",
    "    cmx_data = confusion_matrix(y_true, y_pred, labels=labels)\n",
    "    \n",
    "    df_cmx = pd.DataFrame(cmx_data, index=labels, columns=labels)\n",
    " \n",
    "    fig, ax = plt.subplots(figsize=(7, 6))\n",
    "    sns.heatmap(df_cmx, annot=True, fmt='g' ,square=False)\n",
    "    ax.set_ylim(len(set(y_true)), 0)\n",
    "    plt.show()\n",
    "    \n",
    "    if report:\n",
    "        print('Classification Report')\n",
    "        print(classification_report(y_test, y_pred))\n",
    "\n",
    "Y_pred = model.predict(X_test)\n",
    "y_pred = np.argmax(Y_pred, axis=1)\n",
    "\n",
    "print_confusion_matrix(y_test, y_pred)"
   ]
  },
  {
   "cell_type": "markdown",
   "metadata": {},
   "source": [
    "# Convert to Tensorflow-Lite model"
   ]
  },
  {
   "cell_type": "code",
   "execution_count": 148,
   "metadata": {
    "ExecuteTime": {
     "end_time": "2023-12-01T19:39:57.650242800Z",
     "start_time": "2023-12-01T19:39:57.569012900Z"
    }
   },
   "outputs": [],
   "source": [
    "# Save as inference-only model\n",
    "model.save(model_save_path, include_optimizer=False)"
   ]
  },
  {
   "cell_type": "code",
   "execution_count": 149,
   "metadata": {
    "ExecuteTime": {
     "end_time": "2023-12-01T19:40:00.465970300Z",
     "start_time": "2023-12-01T19:39:57.580726200Z"
    }
   },
   "outputs": [
    {
     "name": "stdout",
     "output_type": "stream",
     "text": [
      "INFO:tensorflow:Assets written to: C:\\Users\\sd\\AppData\\Local\\Temp\\tmph_n4es8p\\assets\n"
     ]
    },
    {
     "name": "stderr",
     "output_type": "stream",
     "text": [
      "INFO:tensorflow:Assets written to: C:\\Users\\sd\\AppData\\Local\\Temp\\tmph_n4es8p\\assets\n"
     ]
    },
    {
     "data": {
      "text/plain": "6872"
     },
     "execution_count": 149,
     "metadata": {},
     "output_type": "execute_result"
    }
   ],
   "source": [
    "# Convert model (quantization)\n",
    "tflite_save_path = 'model/keypoint_classifier/keypoint_classifier.tflite'\n",
    "\n",
    "converter = tf.lite.TFLiteConverter.from_keras_model(model)\n",
    "converter.optimizations = [tf.lite.Optimize.DEFAULT]\n",
    "tflite_quantized_model = converter.convert()\n",
    "\n",
    "open(tflite_save_path, 'wb').write(tflite_quantized_model)"
   ]
  },
  {
   "cell_type": "markdown",
   "metadata": {},
   "source": [
    " # Inference test"
   ]
  },
  {
   "cell_type": "code",
   "execution_count": 150,
   "metadata": {
    "ExecuteTime": {
     "end_time": "2023-12-01T19:40:00.507052500Z",
     "start_time": "2023-12-01T19:40:00.464966700Z"
    }
   },
   "outputs": [],
   "source": [
    "interpreter = tf.lite.Interpreter(model_path=tflite_save_path)\n",
    "interpreter.allocate_tensors()"
   ]
  },
  {
   "cell_type": "code",
   "execution_count": 151,
   "metadata": {
    "ExecuteTime": {
     "end_time": "2023-12-01T19:40:00.523066500Z",
     "start_time": "2023-12-01T19:40:00.478969100Z"
    }
   },
   "outputs": [],
   "source": [
    "# Get input and output tensors\n",
    "input_details = interpreter.get_input_details()\n",
    "output_details = interpreter.get_output_details()"
   ]
  },
  {
   "cell_type": "code",
   "execution_count": 152,
   "metadata": {
    "ExecuteTime": {
     "end_time": "2023-12-01T19:40:00.523066500Z",
     "start_time": "2023-12-01T19:40:00.493968100Z"
    }
   },
   "outputs": [],
   "source": [
    "interpreter.set_tensor(input_details[0]['index'], np.array([X_test[0]]))"
   ]
  },
  {
   "cell_type": "code",
   "execution_count": 153,
   "metadata": {
    "scrolled": true,
    "ExecuteTime": {
     "end_time": "2023-12-01T19:40:00.525062200Z",
     "start_time": "2023-12-01T19:40:00.511053500Z"
    }
   },
   "outputs": [
    {
     "name": "stdout",
     "output_type": "stream",
     "text": [
      "CPU times: total: 0 ns\n",
      "Wall time: 0 ns\n"
     ]
    }
   ],
   "source": [
    "%%time\n",
    "# Inference\n",
    "interpreter.invoke()\n",
    "tflite_results = interpreter.get_tensor(output_details[0]['index'])"
   ]
  },
  {
   "cell_type": "code",
   "execution_count": 154,
   "metadata": {
    "ExecuteTime": {
     "end_time": "2023-12-01T19:40:00.585352Z",
     "start_time": "2023-12-01T19:40:00.527062300Z"
    }
   },
   "outputs": [
    {
     "name": "stdout",
     "output_type": "stream",
     "text": [
      "[1.7503121e-01 9.7589083e-03 8.5340685e-07 3.0470497e-04 2.0850366e-03\n",
      " 3.4366638e-04 2.1492562e-03 1.8021862e-01 6.2951136e-01 5.9640763e-04]\n",
      "8\n"
     ]
    }
   ],
   "source": [
    "print(np.squeeze(tflite_results))\n",
    "print(np.argmax(np.squeeze(tflite_results)))"
   ]
  }
 ],
 "metadata": {
  "kernelspec": {
   "display_name": "Python 3",
   "language": "python",
   "name": "python3"
  },
  "language_info": {
   "codemirror_mode": {
    "name": "ipython",
    "version": 3
   },
   "file_extension": ".py",
   "mimetype": "text/x-python",
   "name": "python",
   "nbconvert_exporter": "python",
   "pygments_lexer": "ipython3",
   "version": "3.8.5"
  }
 },
 "nbformat": 4,
 "nbformat_minor": 4
}
